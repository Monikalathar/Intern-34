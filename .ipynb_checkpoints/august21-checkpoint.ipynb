{
 "cells": [
  {
   "cell_type": "raw",
   "id": "aed6d7b6",
   "metadata": {},
   "source": [
    "DATA BASED MANAGEMENT SYSTEM:---SQL(Structure Quary Language):-DDL,DML,DCL\n",
    "    Relational data base\n",
    "    Non-Relational data base"
   ]
  },
  {
   "cell_type": "markdown",
   "id": "c3b4264b",
   "metadata": {},
   "source": [
    "# SQLite"
   ]
  },
  {
   "cell_type": "code",
   "execution_count": 1,
   "id": "b5d78810",
   "metadata": {},
   "outputs": [],
   "source": [
    "import sqlite3"
   ]
  },
  {
   "cell_type": "raw",
   "id": "56e59001",
   "metadata": {},
   "source": [
    "Working with database using SQL(STRUCTUREED QUERY LANGUAGE)\n",
    "\n",
    "1.Creat a connection object.\n",
    "2.From the connection object,creat a cursur object.\n",
    "3.Using the cursur object,call the execute method with creat table query as the parameter."
   ]
  },
  {
   "cell_type": "markdown",
   "id": "36a54e3c",
   "metadata": {},
   "source": [
    "# Creat Database"
   ]
  },
  {
   "cell_type": "code",
   "execution_count": 2,
   "id": "e6e46b7c",
   "metadata": {},
   "outputs": [],
   "source": [
    "#student_database will be created in jupyter notebook Home"
   ]
  },
  {
   "cell_type": "code",
   "execution_count": 3,
   "id": "0cd9576c",
   "metadata": {},
   "outputs": [],
   "source": [
    "import sqlite3"
   ]
  },
  {
   "cell_type": "markdown",
   "id": "c09f3656",
   "metadata": {},
   "source": [
    "creat database "
   ]
  },
  {
   "cell_type": "code",
   "execution_count": 5,
   "id": "6eabc240",
   "metadata": {},
   "outputs": [],
   "source": [
    "db=sqlite3.connect('student_detail_database21Aug.db')"
   ]
  },
  {
   "cell_type": "markdown",
   "id": "c7a2fe18",
   "metadata": {},
   "source": [
    "create cursor"
   ]
  },
  {
   "cell_type": "code",
   "execution_count": 15,
   "id": "c9efa5eb",
   "metadata": {},
   "outputs": [],
   "source": [
    "cur=db.cursor()"
   ]
  },
  {
   "cell_type": "code",
   "execution_count": 19,
   "id": "48b99b33",
   "metadata": {},
   "outputs": [
    {
     "ename": "OperationalError",
     "evalue": "table student already exists",
     "output_type": "error",
     "traceback": [
      "\u001b[1;31m---------------------------------------------------------------------------\u001b[0m",
      "\u001b[1;31mOperationalError\u001b[0m                          Traceback (most recent call last)",
      "Input \u001b[1;32mIn [19]\u001b[0m, in \u001b[0;36m<cell line: 1>\u001b[1;34m()\u001b[0m\n\u001b[1;32m----> 1\u001b[0m \u001b[43mcur\u001b[49m\u001b[38;5;241;43m.\u001b[39;49m\u001b[43mexecute\u001b[49m\u001b[43m(\u001b[49m\u001b[38;5;124;43m'\u001b[39;49m\u001b[38;5;124;43mcreate table student(id int primary key,name text,marks int)\u001b[39;49m\u001b[38;5;124;43m'\u001b[39;49m\u001b[43m)\u001b[49m\n",
      "\u001b[1;31mOperationalError\u001b[0m: table student already exists"
     ]
    }
   ],
   "source": [
    "cur.execute('create table student(id int primary key,name text,marks int)')"
   ]
  },
  {
   "cell_type": "code",
   "execution_count": 20,
   "id": "b62bd511",
   "metadata": {},
   "outputs": [
    {
     "ename": "OperationalError",
     "evalue": "table student has no column named name",
     "output_type": "error",
     "traceback": [
      "\u001b[1;31m---------------------------------------------------------------------------\u001b[0m",
      "\u001b[1;31mOperationalError\u001b[0m                          Traceback (most recent call last)",
      "Input \u001b[1;32mIn [20]\u001b[0m, in \u001b[0;36m<cell line: 1>\u001b[1;34m()\u001b[0m\n\u001b[1;32m----> 1\u001b[0m \u001b[43mcur\u001b[49m\u001b[38;5;241;43m.\u001b[39;49m\u001b[43mexecute\u001b[49m\u001b[43m(\u001b[49m\u001b[38;5;124;43m\"\u001b[39;49m\u001b[38;5;124;43minsert into student(id,name,marks) values(101,\u001b[39;49m\u001b[38;5;124;43m'\u001b[39;49m\u001b[38;5;124;43mJohn\u001b[39;49m\u001b[38;5;124;43m'\u001b[39;49m\u001b[38;5;124;43m,80)\u001b[39;49m\u001b[38;5;124;43m\"\u001b[39;49m\u001b[43m)\u001b[49m\n",
      "\u001b[1;31mOperationalError\u001b[0m: table student has no column named name"
     ]
    }
   ],
   "source": [
    "cur.execute(\"insert into student(id,name,marks) values(101,'John',80)\")"
   ]
  },
  {
   "cell_type": "code",
   "execution_count": 21,
   "id": "e80f79e6",
   "metadata": {},
   "outputs": [
    {
     "ename": "OperationalError",
     "evalue": "table student already exists",
     "output_type": "error",
     "traceback": [
      "\u001b[1;31m---------------------------------------------------------------------------\u001b[0m",
      "\u001b[1;31mOperationalError\u001b[0m                          Traceback (most recent call last)",
      "Input \u001b[1;32mIn [21]\u001b[0m, in \u001b[0;36m<cell line: 1>\u001b[1;34m()\u001b[0m\n\u001b[1;32m----> 1\u001b[0m \u001b[43mcur\u001b[49m\u001b[38;5;241;43m.\u001b[39;49m\u001b[43mexecute\u001b[49m\u001b[43m(\u001b[49m\u001b[38;5;124;43m'\u001b[39;49m\u001b[38;5;124;43mcreate table student(id int primary key,name text,marks int)\u001b[39;49m\u001b[38;5;124;43m'\u001b[39;49m\u001b[43m)\u001b[49m\n",
      "\u001b[1;31mOperationalError\u001b[0m: table student already exists"
     ]
    }
   ],
   "source": [
    "cur.execute('create table student(id int primary key,name text,marks int)')"
   ]
  },
  {
   "cell_type": "code",
   "execution_count": null,
   "id": "f9f588c2",
   "metadata": {},
   "outputs": [],
   "source": []
  }
 ],
 "metadata": {
  "kernelspec": {
   "display_name": "Python 3 (ipykernel)",
   "language": "python",
   "name": "python3"
  },
  "language_info": {
   "codemirror_mode": {
    "name": "ipython",
    "version": 3
   },
   "file_extension": ".py",
   "mimetype": "text/x-python",
   "name": "python",
   "nbconvert_exporter": "python",
   "pygments_lexer": "ipython3",
   "version": "3.9.12"
  }
 },
 "nbformat": 4,
 "nbformat_minor": 5
}
