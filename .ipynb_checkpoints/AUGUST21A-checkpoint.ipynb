{
 "cells": [
  {
   "cell_type": "markdown",
   "id": "b492d842",
   "metadata": {},
   "source": [
    "# DATA BASED MANAGEMENT SYSTEM(SQLITE3)"
   ]
  },
  {
   "cell_type": "code",
   "execution_count": 1,
   "id": "37fe14d5",
   "metadata": {},
   "outputs": [],
   "source": [
    "import sqlite3"
   ]
  },
  {
   "cell_type": "markdown",
   "id": "65222c4e",
   "metadata": {},
   "source": [
    "create database"
   ]
  },
  {
   "cell_type": "code",
   "execution_count": 2,
   "id": "707e9d75",
   "metadata": {},
   "outputs": [],
   "source": [
    "db=sqlite3.connect('student_detail_database21Aug.db')"
   ]
  },
  {
   "cell_type": "markdown",
   "id": "6780dd36",
   "metadata": {},
   "source": [
    "create cursor"
   ]
  },
  {
   "cell_type": "code",
   "execution_count": 3,
   "id": "04d7b57d",
   "metadata": {},
   "outputs": [],
   "source": [
    "cur=db.cursor()"
   ]
  },
  {
   "cell_type": "code",
   "execution_count": 5,
   "id": "c5d64e42",
   "metadata": {},
   "outputs": [
    {
     "data": {
      "text/plain": [
       "<sqlite3.Cursor at 0x23a1a251960>"
      ]
     },
     "execution_count": 5,
     "metadata": {},
     "output_type": "execute_result"
    }
   ],
   "source": [
    "cur.execute('create table employee(id int primary key,name text,marks int)')"
   ]
  },
  {
   "cell_type": "code",
   "execution_count": 6,
   "id": "7303b702",
   "metadata": {},
   "outputs": [
    {
     "data": {
      "text/plain": [
       "<sqlite3.Cursor at 0x23a1a251960>"
      ]
     },
     "execution_count": 6,
     "metadata": {},
     "output_type": "execute_result"
    }
   ],
   "source": [
    "cur.execute(\"insert into employee(id,name,marks) values(101,'John',80)\")"
   ]
  },
  {
   "cell_type": "code",
   "execution_count": 7,
   "id": "4fb5feb7",
   "metadata": {},
   "outputs": [],
   "source": [
    "db.commit()"
   ]
  },
  {
   "cell_type": "code",
   "execution_count": 8,
   "id": "b7f49d2b",
   "metadata": {},
   "outputs": [],
   "source": [
    "cur.execute(\"insert into employee(id,name,marks) values(102,'Jack',75)\")\n",
    "db.commit()"
   ]
  },
  {
   "cell_type": "code",
   "execution_count": 12,
   "id": "b200673e",
   "metadata": {},
   "outputs": [],
   "source": [
    "cur.execute(\"insert into employee(id,name,marks) values(103,'Dorsey',55)\")\n",
    "\n",
    "db.commit()\n"
   ]
  },
  {
   "cell_type": "code",
   "execution_count": 13,
   "id": "62a9207f",
   "metadata": {},
   "outputs": [
    {
     "name": "stdout",
     "output_type": "stream",
     "text": [
      "(101, 'John', 80)\n",
      "(102, 'Jack', 75)\n",
      "(103, 'Dorsey', 55)\n"
     ]
    }
   ],
   "source": [
    "results=cur.execute(\"select*from employee\")\n",
    "\n",
    "for i in results:\n",
    "    print(i)"
   ]
  },
  {
   "cell_type": "code",
   "execution_count": 14,
   "id": "15661652",
   "metadata": {},
   "outputs": [],
   "source": [
    "cur.execute(\"insert into employee(id,name,marks) values(104,'Marry',40)\")\n",
    "\n",
    "db.commit()"
   ]
  },
  {
   "cell_type": "code",
   "execution_count": 18,
   "id": "0aeb4c89",
   "metadata": {},
   "outputs": [],
   "source": [
    "cur.execute(\"insert into employee values(105,'Elon',78),(106,'Richard',45),(107,'Branson',95)\")\n",
    "db.commit()\n"
   ]
  },
  {
   "cell_type": "code",
   "execution_count": 19,
   "id": "ea860789",
   "metadata": {},
   "outputs": [
    {
     "name": "stdout",
     "output_type": "stream",
     "text": [
      "(101, 'John', 80)\n",
      "(102, 'Jack', 75)\n",
      "(103, 'Dorsey', 55)\n",
      "(104, 'Marry', 40)\n",
      "(105, 'Elon', 78)\n",
      "(106, 'Richard', 45)\n",
      "(107, 'Branson', 95)\n"
     ]
    }
   ],
   "source": [
    "results=cur.execute(\"select*from employee\")\n",
    "\n",
    "for i in results:\n",
    "    print(i)"
   ]
  },
  {
   "cell_type": "code",
   "execution_count": 20,
   "id": "594c06b1",
   "metadata": {},
   "outputs": [
    {
     "data": {
      "text/plain": [
       "[(101, 'John', 80),\n",
       " (102, 'Jack', 75),\n",
       " (103, 'Dorsey', 55),\n",
       " (104, 'Marry', 40),\n",
       " (105, 'Elon', 78),\n",
       " (106, 'Richard', 45),\n",
       " (107, 'Branson', 95)]"
      ]
     },
     "execution_count": 20,
     "metadata": {},
     "output_type": "execute_result"
    }
   ],
   "source": [
    "results=cur.execute(\"select*from employee\")\n",
    "\n",
    "results.fetchall()"
   ]
  },
  {
   "cell_type": "markdown",
   "id": "1bac64a5",
   "metadata": {},
   "source": [
    "cursor is a temprory location or small memory area___sqlite db student or employees"
   ]
  },
  {
   "cell_type": "code",
   "execution_count": 21,
   "id": "56cc46a1",
   "metadata": {},
   "outputs": [
    {
     "name": "stdout",
     "output_type": "stream",
     "text": [
      "(101,)\n",
      "(102,)\n",
      "(103,)\n",
      "(104,)\n",
      "(105,)\n",
      "(106,)\n",
      "(107,)\n"
     ]
    }
   ],
   "source": [
    "results=cur.execute(\"select id from employee\")\n",
    "\n",
    "for i in results:\n",
    "    print(i)"
   ]
  },
  {
   "cell_type": "markdown",
   "id": "8f7c00e5",
   "metadata": {},
   "source": [
    "primary keys would be assigned to coloums only not to rows..."
   ]
  },
  {
   "cell_type": "code",
   "execution_count": 22,
   "id": "4de9f18b",
   "metadata": {},
   "outputs": [
    {
     "name": "stdout",
     "output_type": "stream",
     "text": [
      "('John',)\n",
      "('Jack',)\n",
      "('Dorsey',)\n",
      "('Marry',)\n",
      "('Elon',)\n",
      "('Richard',)\n",
      "('Branson',)\n"
     ]
    }
   ],
   "source": [
    "results=cur.execute(\"select name from employee\")\n",
    "\n",
    "for i in results:\n",
    "    print(i)"
   ]
  },
  {
   "cell_type": "code",
   "execution_count": 23,
   "id": "9d57bf91",
   "metadata": {},
   "outputs": [
    {
     "name": "stdout",
     "output_type": "stream",
     "text": [
      "(80,)\n",
      "(75,)\n",
      "(55,)\n",
      "(40,)\n",
      "(78,)\n",
      "(45,)\n",
      "(95,)\n"
     ]
    }
   ],
   "source": [
    "results=cur.execute(\"select marks from employee\")\n",
    "\n",
    "for i in results:\n",
    "    print(i)"
   ]
  },
  {
   "cell_type": "code",
   "execution_count": 24,
   "id": "3ba7ef17",
   "metadata": {},
   "outputs": [
    {
     "data": {
      "text/plain": [
       "[(101, 'John'),\n",
       " (102, 'Jack'),\n",
       " (103, 'Dorsey'),\n",
       " (104, 'Marry'),\n",
       " (105, 'Elon'),\n",
       " (106, 'Richard'),\n",
       " (107, 'Branson')]"
      ]
     },
     "execution_count": 24,
     "metadata": {},
     "output_type": "execute_result"
    }
   ],
   "source": [
    "results=cur.execute(\"select id,name from employee\")\n",
    "\n",
    "results.fetchall()"
   ]
  },
  {
   "cell_type": "code",
   "execution_count": 25,
   "id": "8262cd4c",
   "metadata": {},
   "outputs": [
    {
     "data": {
      "text/plain": [
       "[('John', 80),\n",
       " ('Jack', 75),\n",
       " ('Dorsey', 55),\n",
       " ('Marry', 40),\n",
       " ('Elon', 78),\n",
       " ('Richard', 45),\n",
       " ('Branson', 95)]"
      ]
     },
     "execution_count": 25,
     "metadata": {},
     "output_type": "execute_result"
    }
   ],
   "source": [
    "results=cur.execute(\"select name,marks from employee\")\n",
    "\n",
    "results.fetchall()"
   ]
  },
  {
   "cell_type": "code",
   "execution_count": 26,
   "id": "779e6f60",
   "metadata": {},
   "outputs": [
    {
     "data": {
      "text/plain": [
       "[(101, 'John', 80),\n",
       " (102, 'Jack', 75),\n",
       " (103, 'Dorsey', 55),\n",
       " (104, 'Marry', 40),\n",
       " (105, 'Elon', 78),\n",
       " (106, 'Richard', 45),\n",
       " (107, 'Branson', 95)]"
      ]
     },
     "execution_count": 26,
     "metadata": {},
     "output_type": "execute_result"
    }
   ],
   "source": [
    "results=cur.execute(\"select id,name,marks from employee\")\n",
    "\n",
    "results.fetchall()"
   ]
  },
  {
   "cell_type": "code",
   "execution_count": 27,
   "id": "7979a5cb",
   "metadata": {},
   "outputs": [
    {
     "name": "stdout",
     "output_type": "stream",
     "text": [
      "(101, 'John', 80)\n"
     ]
    }
   ],
   "source": [
    "results=cur.execute(\"select * from employee where id=101 \")\n",
    "for i in results:\n",
    "    print(i)"
   ]
  },
  {
   "cell_type": "code",
   "execution_count": 29,
   "id": "d8311ff2",
   "metadata": {},
   "outputs": [
    {
     "name": "stdout",
     "output_type": "stream",
     "text": [
      "(105, 'Elon', 78)\n"
     ]
    }
   ],
   "source": [
    "results=cur.execute(\"select * from employee where id=105\")\n",
    "\n",
    "for i in results:\n",
    "    print(i)"
   ]
  },
  {
   "cell_type": "code",
   "execution_count": 30,
   "id": "b48dd93c",
   "metadata": {},
   "outputs": [
    {
     "data": {
      "text/plain": [
       "(107, 'Branson', 95)"
      ]
     },
     "execution_count": 30,
     "metadata": {},
     "output_type": "execute_result"
    }
   ],
   "source": [
    "results=cur.execute(\"select * from employee where id=107\")\n",
    "\n",
    "results.fetchone()"
   ]
  },
  {
   "cell_type": "code",
   "execution_count": 31,
   "id": "4833600c",
   "metadata": {},
   "outputs": [
    {
     "data": {
      "text/plain": [
       "(103, 'Dorsey', 55)"
      ]
     },
     "execution_count": 31,
     "metadata": {},
     "output_type": "execute_result"
    }
   ],
   "source": [
    "results=cur.execute(\"select * from employee where name='Dorsey'\")\n",
    "\n",
    "results.fetchone()"
   ]
  },
  {
   "cell_type": "code",
   "execution_count": 32,
   "id": "b2a5f098",
   "metadata": {},
   "outputs": [
    {
     "data": {
      "text/plain": [
       "(102, 'Jack', 75)"
      ]
     },
     "execution_count": 32,
     "metadata": {},
     "output_type": "execute_result"
    }
   ],
   "source": [
    "results=cur.execute(\"select * from employee where name='Jack'\")\n",
    "\n",
    "results.fetchone()"
   ]
  },
  {
   "cell_type": "code",
   "execution_count": 34,
   "id": "775efb44",
   "metadata": {},
   "outputs": [
    {
     "data": {
      "text/plain": [
       "(105, 'Elon', 78)"
      ]
     },
     "execution_count": 34,
     "metadata": {},
     "output_type": "execute_result"
    }
   ],
   "source": [
    "results=cur.execute(\"select * from employee where marks=78\")\n",
    "\n",
    "results.fetchone()"
   ]
  },
  {
   "cell_type": "code",
   "execution_count": 35,
   "id": "d9dad649",
   "metadata": {},
   "outputs": [
    {
     "name": "stdout",
     "output_type": "stream",
     "text": [
      "(101, 'John', 80)\n",
      "(102, 'Jack', 75)\n"
     ]
    }
   ],
   "source": [
    "results=cur.execute(\"select * from employee where name in ('Jack','John')\")\n",
    "\n",
    "for i in results:\n",
    "    print(i)"
   ]
  },
  {
   "cell_type": "code",
   "execution_count": 36,
   "id": "e425f602",
   "metadata": {},
   "outputs": [
    {
     "name": "stdout",
     "output_type": "stream",
     "text": [
      "(101, 'John', 80)\n",
      "(102, 'Jack', 75)\n",
      "(103, 'Dorsey', 55)\n"
     ]
    }
   ],
   "source": [
    "results=cur.execute(\"select * from employee where id in (101,102,103)\")\n",
    "\n",
    "for i in results:\n",
    "    print(i)"
   ]
  },
  {
   "cell_type": "code",
   "execution_count": 37,
   "id": "c0adda64",
   "metadata": {},
   "outputs": [
    {
     "name": "stdout",
     "output_type": "stream",
     "text": [
      "(101, 'John', 80)\n",
      "(102, 'Jack', 75)\n",
      "(103, 'Dorsey', 55)\n",
      "(104, 'Marry', 40)\n",
      "(105, 'Elon', 78)\n",
      "(106, 'Richard', 45)\n",
      "(107, 'Branson', 95)\n"
     ]
    }
   ],
   "source": [
    "results=cur.execute(\"select * from employee \")\n",
    "\n",
    "for i in results:\n",
    "    print(i)"
   ]
  },
  {
   "cell_type": "code",
   "execution_count": 38,
   "id": "a0ee1d61",
   "metadata": {},
   "outputs": [
    {
     "name": "stdout",
     "output_type": "stream",
     "text": [
      "(107, 'Branson', 95)\n",
      "(103, 'Dorsey', 55)\n",
      "(105, 'Elon', 78)\n",
      "(102, 'Jack', 75)\n",
      "(101, 'John', 80)\n",
      "(104, 'Marry', 40)\n",
      "(106, 'Richard', 45)\n"
     ]
    }
   ],
   "source": [
    "results=cur.execute(\"select * from employee order by name asc \")\n",
    "\n",
    "for i in results:\n",
    "    print(i)"
   ]
  },
  {
   "cell_type": "code",
   "execution_count": 39,
   "id": "afeee663",
   "metadata": {},
   "outputs": [
    {
     "name": "stdout",
     "output_type": "stream",
     "text": [
      "(106, 'Richard', 45)\n",
      "(104, 'Marry', 40)\n",
      "(101, 'John', 80)\n",
      "(102, 'Jack', 75)\n",
      "(105, 'Elon', 78)\n",
      "(103, 'Dorsey', 55)\n",
      "(107, 'Branson', 95)\n"
     ]
    }
   ],
   "source": [
    "results=cur.execute(\"select * from employee order by name desc \")\n",
    "\n",
    "for i in results:\n",
    "    print(i)"
   ]
  },
  {
   "cell_type": "code",
   "execution_count": null,
   "id": "291634e7",
   "metadata": {},
   "outputs": [],
   "source": []
  }
 ],
 "metadata": {
  "kernelspec": {
   "display_name": "Python 3 (ipykernel)",
   "language": "python",
   "name": "python3"
  },
  "language_info": {
   "codemirror_mode": {
    "name": "ipython",
    "version": 3
   },
   "file_extension": ".py",
   "mimetype": "text/x-python",
   "name": "python",
   "nbconvert_exporter": "python",
   "pygments_lexer": "ipython3",
   "version": "3.9.12"
  }
 },
 "nbformat": 4,
 "nbformat_minor": 5
}
