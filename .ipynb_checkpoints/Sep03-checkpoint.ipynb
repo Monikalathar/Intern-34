{
 "cells": [
  {
   "cell_type": "markdown",
   "id": "aa26aa63",
   "metadata": {},
   "source": [
    "# Exercise 3 SQLite #Referential Integrity"
   ]
  },
  {
   "cell_type": "markdown",
   "id": "57e8cbe3",
   "metadata": {},
   "source": [
    "DATABASES \n",
    "Employee Referential Integrity:-Maintain the data consistency between two tables.\n",
    "the value can be null as the student may not have taken any course.Rules are made in te database structure\n",
    "about how foreign keys should be used to ensure that changes,addition and deletion in the database maintain the data integraity.\n",
    "The refertial integraity constraints state that if a forgien key in the first table refers to the primary key of the second \n",
    "table then every value of foregign key in the first table should either be null or present in the second table"
   ]
  },
  {
   "cell_type": "code",
   "execution_count": 30,
   "id": "da7b4365",
   "metadata": {},
   "outputs": [],
   "source": [
    "import sqlite3"
   ]
  },
  {
   "cell_type": "code",
   "execution_count": 31,
   "id": "51a664e4",
   "metadata": {},
   "outputs": [],
   "source": [
    "db=sqlite3.connect(\"C:/MySQLite_Database/studentdb.db/student_course_database.db\")"
   ]
  },
  {
   "cell_type": "code",
   "execution_count": 32,
   "id": "edb01129",
   "metadata": {},
   "outputs": [],
   "source": [
    "cur=db.cursor()"
   ]
  },
  {
   "cell_type": "raw",
   "id": "f1f26bb4",
   "metadata": {},
   "source": [
    "constraints -----\n",
    "uniqenter only unoque values ,no duplicate values\n",
    "not null --- no blank values can be inserted in table"
   ]
  },
  {
   "cell_type": "code",
   "execution_count": 33,
   "id": "1dc25927",
   "metadata": {},
   "outputs": [
    {
     "data": {
      "text/plain": [
       "<sqlite3.Cursor at 0x19997a12490>"
      ]
     },
     "execution_count": 33,
     "metadata": {},
     "output_type": "execute_result"
    }
   ],
   "source": [
    "cur.execute(\"create table course(courseid int primary key,coursename text,duration int)\")"
   ]
  },
  {
   "cell_type": "code",
   "execution_count": 34,
   "id": "92011fa9",
   "metadata": {},
   "outputs": [
    {
     "data": {
      "text/plain": [
       "<sqlite3.Cursor at 0x19997a12490>"
      ]
     },
     "execution_count": 34,
     "metadata": {},
     "output_type": "execute_result"
    }
   ],
   "source": [
    "cur.execute(\"create table student(roll_no int primary key,studentname text,age int,courseid int,foreign key(courseid) references course(courseid))\")"
   ]
  },
  {
   "cell_type": "code",
   "execution_count": 35,
   "id": "68f60d95",
   "metadata": {},
   "outputs": [
    {
     "name": "stdout",
     "output_type": "stream",
     "text": [
      "3 record(s) inserted \n"
     ]
    }
   ],
   "source": [
    "cur.execute(\"insert into course values(78,'Data Science',12),(56,'Python course',4),(101,'Database',7)\")\n",
    "\n",
    "print(cur.rowcount,\"record(s) inserted \")\n",
    "\n",
    "db.commit;"
   ]
  },
  {
   "cell_type": "code",
   "execution_count": 36,
   "id": "4f2d1739",
   "metadata": {},
   "outputs": [
    {
     "name": "stdout",
     "output_type": "stream",
     "text": [
      "4 record(s) inserted \n"
     ]
    }
   ],
   "source": [
    "cur.execute(\"insert into student values(1,'Jack',22,78),(2,'John',21,56),(3,'Rudolf',18,78),(4,'Jim',21,56)\")\n",
    "\n",
    "print(cur.rowcount,\"record(s) inserted \")\n",
    "\n",
    "db.commit;"
   ]
  },
  {
   "cell_type": "code",
   "execution_count": 37,
   "id": "8c8ea533",
   "metadata": {},
   "outputs": [
    {
     "data": {
      "text/plain": [
       "[(78, 'Data Science', 12), (56, 'Python course', 4), (101, 'Database', 7)]"
      ]
     },
     "execution_count": 37,
     "metadata": {},
     "output_type": "execute_result"
    }
   ],
   "source": [
    "results=cur.execute('select * from course')\n",
    "\n",
    "results.fetchall()"
   ]
  },
  {
   "cell_type": "code",
   "execution_count": 38,
   "id": "6b1399fd",
   "metadata": {},
   "outputs": [
    {
     "data": {
      "text/plain": [
       "[(1, 'Jack', 22, 78),\n",
       " (2, 'John', 21, 56),\n",
       " (3, 'Rudolf', 18, 78),\n",
       " (4, 'Jim', 21, 56)]"
      ]
     },
     "execution_count": 38,
     "metadata": {},
     "output_type": "execute_result"
    }
   ],
   "source": [
    "results=cur.execute('select * from student')\n",
    "\n",
    "results.fetchall()"
   ]
  },
  {
   "cell_type": "code",
   "execution_count": 39,
   "id": "8e53575a",
   "metadata": {},
   "outputs": [
    {
     "name": "stdout",
     "output_type": "stream",
     "text": [
      "(78,)\n"
     ]
    }
   ],
   "source": [
    "results=cur.execute('select courseid from course where coursename=\"Data Science\"')\n",
    "\n",
    "for i in results:\n",
    "    print(i)"
   ]
  },
  {
   "cell_type": "markdown",
   "id": "c48b9a7b",
   "metadata": {},
   "source": [
    "# Subquery"
   ]
  },
  {
   "cell_type": "code",
   "execution_count": 40,
   "id": "5f14028b",
   "metadata": {},
   "outputs": [
    {
     "data": {
      "text/plain": [
       "[(1, 'Jack', 22, 78), (3, 'Rudolf', 18, 78)]"
      ]
     },
     "execution_count": 40,
     "metadata": {},
     "output_type": "execute_result"
    }
   ],
   "source": [
    "results=cur.execute('select * from student where courseid=(select courseid from course where coursename=\"Data Science\")')\n",
    "\n",
    "results.fetchall()"
   ]
  },
  {
   "cell_type": "code",
   "execution_count": 41,
   "id": "5ad778b5",
   "metadata": {},
   "outputs": [
    {
     "data": {
      "text/plain": [
       "[(2, 'John', 21, 56), (4, 'Jim', 21, 56)]"
      ]
     },
     "execution_count": 41,
     "metadata": {},
     "output_type": "execute_result"
    }
   ],
   "source": [
    "results=cur.execute('select * from student where courseid=(select courseid from course where coursename=\"Python course\")')\n",
    "\n",
    "results.fetchall()"
   ]
  },
  {
   "cell_type": "code",
   "execution_count": null,
   "id": "deda4dcc",
   "metadata": {},
   "outputs": [],
   "source": []
  },
  {
   "cell_type": "markdown",
   "id": "564f1137",
   "metadata": {},
   "source": [
    "# Join"
   ]
  },
  {
   "cell_type": "markdown",
   "id": "be0778e6",
   "metadata": {},
   "source": [
    "Different Types of SQL JOINs"
   ]
  },
  {
   "cell_type": "raw",
   "id": "21881607",
   "metadata": {},
   "source": [
    ".(INNER) JOIN:Returns records that have matching values in both tables.\n",
    ".LEFT(OUTER)JOIN: Returns all records from the left table and the matched records from the right table.\n",
    ".RIGHT(OUTER)JOIN:Returns all records from the right table and the matched records from the left table.\n",
    ".FULL(OUTER)JOIN:Returns all records when there is a match in either left or righr table.\n",
    "        "
   ]
  },
  {
   "cell_type": "markdown",
   "id": "a18d26b3",
   "metadata": {},
   "source": [
    "# INNER JOIN"
   ]
  },
  {
   "cell_type": "code",
   "execution_count": 42,
   "id": "71792273",
   "metadata": {},
   "outputs": [
    {
     "name": "stdout",
     "output_type": "stream",
     "text": [
      "(1, 'Jack', 78, 'Data Science')\n",
      "(2, 'John', 56, 'Python course')\n",
      "(3, 'Rudolf', 78, 'Data Science')\n",
      "(4, 'Jim', 56, 'Python course')\n"
     ]
    }
   ],
   "source": [
    "sq1 = \"SELECT student.roll_no, student.studentname, course.courseid, course.coursename FROM student INNER JOIN course ON student.courseid = course.courseid\"\n",
    "results = cur.execute(sq1)\n",
    "for row in results:\n",
    "    print(row)\n",
    "    "
   ]
  },
  {
   "cell_type": "markdown",
   "id": "bc26e21c",
   "metadata": {},
   "source": [
    "# LEFT JOIN"
   ]
  },
  {
   "cell_type": "code",
   "execution_count": 43,
   "id": "6c90543d",
   "metadata": {},
   "outputs": [
    {
     "name": "stdout",
     "output_type": "stream",
     "text": [
      "(1, 'Jack', 78, 'Data Science')\n",
      "(2, 'John', 56, 'Python course')\n",
      "(3, 'Rudolf', 78, 'Data Science')\n",
      "(4, 'Jim', 56, 'Python course')\n"
     ]
    }
   ],
   "source": [
    "sq1 = \"SELECT student.roll_no, student.studentname, course.courseid, course.coursename FROM student LEFT JOIN course ON student.courseid = course.courseid\"\n",
    "results = cur.execute(sq1)\n",
    "for row in results:\n",
    "    print(row)\n",
    "    "
   ]
  },
  {
   "cell_type": "code",
   "execution_count": 44,
   "id": "b0130a88",
   "metadata": {},
   "outputs": [
    {
     "name": "stdout",
     "output_type": "stream",
     "text": [
      "(1, 'Jack', 78, 'Data Science')\n",
      "(3, 'Rudolf', 78, 'Data Science')\n",
      "(2, 'John', 56, 'Python course')\n",
      "(4, 'Jim', 56, 'Python course')\n",
      "(None, None, 101, 'Database')\n"
     ]
    }
   ],
   "source": [
    "sq1 = \"SELECT student.roll_no, student.studentname, course.courseid, course.coursename FROM course LEFT JOIN student ON student.courseid = course.courseid\"\n",
    "results = cur.execute(sq1)\n",
    "for row in results:\n",
    "    print(row)\n",
    "    "
   ]
  },
  {
   "cell_type": "markdown",
   "id": "cbb22ef5",
   "metadata": {},
   "source": [
    "RIGHT JOIN and FULL OUTER JOIN NOT SUPPORTED IN SQLITE"
   ]
  },
  {
   "cell_type": "code",
   "execution_count": null,
   "id": "c29815ea",
   "metadata": {},
   "outputs": [],
   "source": []
  }
 ],
 "metadata": {
  "kernelspec": {
   "display_name": "Python 3 (ipykernel)",
   "language": "python",
   "name": "python3"
  },
  "language_info": {
   "codemirror_mode": {
    "name": "ipython",
    "version": 3
   },
   "file_extension": ".py",
   "mimetype": "text/x-python",
   "name": "python",
   "nbconvert_exporter": "python",
   "pygments_lexer": "ipython3",
   "version": "3.9.12"
  }
 },
 "nbformat": 4,
 "nbformat_minor": 5
}
