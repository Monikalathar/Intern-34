{
 "cells": [
  {
   "cell_type": "raw",
   "id": "a9ca6c44",
   "metadata": {},
   "source": [
    "Obejt orintied Programming System(OOPS):-class() our variables will secured \n",
    "In 1940-45 computer was formedthat time machine and Binary languages used and \n",
    "afterthat Assembly level languages like codes CE,BE.\n",
    "IN 1970 c languages and 1980 c++ were came and 1992 PYTHON CAME IN LIGHT(Guido Van Rassuan)\n",
    "main()\n",
    "\n",
    "class   class-name:method function|(){variable1, variable2} "
   ]
  },
  {
   "cell_type": "markdown",
   "id": "a1432828",
   "metadata": {},
   "source": [
    "class - OOPS  ----- OBJECT ORIENTED PROGRAMMING TECHNOLOGY"
   ]
  },
  {
   "cell_type": "code",
   "execution_count": 7,
   "id": "bcecb681",
   "metadata": {},
   "outputs": [],
   "source": [
    "class Student:\n",
    "    #initialization/constructor      #  self   -----. instance/object name\n",
    "    def __init__(self,rollno,name):\n",
    "        self.rollno=rollno\n",
    "        self.name=name\n",
    "        \n",
    "    def display(self):       #user defined function\n",
    "        print(\"Student rollno=\",self.rollno,\"and Name=\",self.name)"
   ]
  },
  {
   "cell_type": "code",
   "execution_count": 8,
   "id": "e9153f9f",
   "metadata": {},
   "outputs": [
    {
     "name": "stdout",
     "output_type": "stream",
     "text": [
      "Student rollno= 201 and Name= John\n"
     ]
    }
   ],
   "source": [
    "#creating instance/object\n",
    "\n",
    "obj1=Student(201,\"John\")        #this line will automatically invoke the initialization constuctor\n",
    "obj1.display()           #user defined function is called explicitly"
   ]
  },
  {
   "cell_type": "code",
   "execution_count": 9,
   "id": "3114f906",
   "metadata": {},
   "outputs": [],
   "source": [
    "stud1=Student(202,\"Andrew\")   #this line will automatically invoke the initialization constuctor"
   ]
  },
  {
   "cell_type": "code",
   "execution_count": 10,
   "id": "8a25c057",
   "metadata": {},
   "outputs": [
    {
     "name": "stdout",
     "output_type": "stream",
     "text": [
      "Student rollno= 202 and Name= Andrew\n"
     ]
    }
   ],
   "source": [
    "stud1.display()"
   ]
  },
  {
   "cell_type": "code",
   "execution_count": 11,
   "id": "5660068a",
   "metadata": {},
   "outputs": [
    {
     "name": "stdout",
     "output_type": "stream",
     "text": [
      "Student rollno= 203 and Name= Tom\n"
     ]
    }
   ],
   "source": [
    "stud2=Student(203,\"Tom\")       #this line will automatically invoke the initialization constuctor\n",
    "stud2.display()"
   ]
  },
  {
   "cell_type": "code",
   "execution_count": 12,
   "id": "56cc448f",
   "metadata": {},
   "outputs": [
    {
     "name": "stdout",
     "output_type": "stream",
     "text": [
      "Student rollno= 204 and Name= Maria\n"
     ]
    }
   ],
   "source": [
    "stud3=Student(204,\"Maria\")         #this line will automatically invoke the initialization constuctor\n",
    "stud3.display()"
   ]
  },
  {
   "cell_type": "code",
   "execution_count": 20,
   "id": "eacb9ba8",
   "metadata": {},
   "outputs": [
    {
     "data": {
      "text/plain": [
       "202"
      ]
     },
     "execution_count": 20,
     "metadata": {},
     "output_type": "execute_result"
    }
   ],
   "source": [
    "stud1.rollno"
   ]
  },
  {
   "cell_type": "code",
   "execution_count": 21,
   "id": "599e5b1c",
   "metadata": {},
   "outputs": [
    {
     "data": {
      "text/plain": [
       "'Andrew'"
      ]
     },
     "execution_count": 21,
     "metadata": {},
     "output_type": "execute_result"
    }
   ],
   "source": [
    "stud1.name"
   ]
  },
  {
   "cell_type": "code",
   "execution_count": 22,
   "id": "64df3d06",
   "metadata": {},
   "outputs": [
    {
     "data": {
      "text/plain": [
       "203"
      ]
     },
     "execution_count": 22,
     "metadata": {},
     "output_type": "execute_result"
    }
   ],
   "source": [
    "stud2.rollno"
   ]
  },
  {
   "cell_type": "code",
   "execution_count": 23,
   "id": "311d9ce6",
   "metadata": {},
   "outputs": [
    {
     "data": {
      "text/plain": [
       "'Tom'"
      ]
     },
     "execution_count": 23,
     "metadata": {},
     "output_type": "execute_result"
    }
   ],
   "source": [
    "stud2.name"
   ]
  },
  {
   "cell_type": "markdown",
   "id": "5b01e261",
   "metadata": {},
   "source": []
  },
  {
   "cell_type": "code",
   "execution_count": 50,
   "id": "71517814",
   "metadata": {},
   "outputs": [],
   "source": [
    "class Employee:\n",
    "    revenue=30000     #class variable\n",
    "    def __init__(self,empno,name,sal):\n",
    "        self.empno=empno       #instance variable\n",
    "        self.name=name\n",
    "        self.sal=sal\n",
    "        \n",
    "        \n",
    "    def display(self):\n",
    "        print(self.empno,\"\",self.name,\"\",self.sal,\" \",self.revenue)"
   ]
  },
  {
   "cell_type": "code",
   "execution_count": null,
   "id": "11dd732f",
   "metadata": {},
   "outputs": [],
   "source": []
  },
  {
   "cell_type": "code",
   "execution_count": 51,
   "id": "420b1916",
   "metadata": {},
   "outputs": [
    {
     "name": "stdout",
     "output_type": "stream",
     "text": [
      "101  ABC  6000   30000\n",
      "102  XYZ  8000   30000\n",
      "103  DEF  4000   30000\n"
     ]
    }
   ],
   "source": [
    "emp1= Employee(101,'ABC',6000)\n",
    "emp1.display()\n",
    "\n",
    "emp2=Employee(102,'XYZ',8000)\n",
    "emp2.display()\n",
    "\n",
    "emp3=Employee(103,'DEF',4000)\n",
    "emp3.display()"
   ]
  },
  {
   "cell_type": "code",
   "execution_count": 52,
   "id": "d965d0bc",
   "metadata": {},
   "outputs": [
    {
     "data": {
      "text/plain": [
       "6000"
      ]
     },
     "execution_count": 52,
     "metadata": {},
     "output_type": "execute_result"
    }
   ],
   "source": [
    "emp1.sal"
   ]
  },
  {
   "cell_type": "code",
   "execution_count": 53,
   "id": "e07c6a6b",
   "metadata": {},
   "outputs": [
    {
     "data": {
      "text/plain": [
       "8000"
      ]
     },
     "execution_count": 53,
     "metadata": {},
     "output_type": "execute_result"
    }
   ],
   "source": [
    "emp2.sal"
   ]
  },
  {
   "cell_type": "code",
   "execution_count": 54,
   "id": "262e6966",
   "metadata": {},
   "outputs": [
    {
     "data": {
      "text/plain": [
       "'DEF'"
      ]
     },
     "execution_count": 54,
     "metadata": {},
     "output_type": "execute_result"
    }
   ],
   "source": [
    "emp3.name"
   ]
  },
  {
   "cell_type": "code",
   "execution_count": 55,
   "id": "a4d41f88",
   "metadata": {},
   "outputs": [
    {
     "data": {
      "text/plain": [
       "30000"
      ]
     },
     "execution_count": 55,
     "metadata": {},
     "output_type": "execute_result"
    }
   ],
   "source": [
    "Employee.revenue"
   ]
  },
  {
   "cell_type": "code",
   "execution_count": 56,
   "id": "718cddcd",
   "metadata": {},
   "outputs": [
    {
     "data": {
      "text/plain": [
       "30000"
      ]
     },
     "execution_count": 56,
     "metadata": {},
     "output_type": "execute_result"
    }
   ],
   "source": [
    "emp1.revenue"
   ]
  },
  {
   "cell_type": "code",
   "execution_count": null,
   "id": "4feab324",
   "metadata": {},
   "outputs": [],
   "source": [
    "class person:\n",
    "    #consturtor/initialization    automatically called\n",
    "    def __init__(self.name,id,)"
   ]
  }
 ],
 "metadata": {
  "kernelspec": {
   "display_name": "Python 3 (ipykernel)",
   "language": "python",
   "name": "python3"
  },
  "language_info": {
   "codemirror_mode": {
    "name": "ipython",
    "version": 3
   },
   "file_extension": ".py",
   "mimetype": "text/x-python",
   "name": "python",
   "nbconvert_exporter": "python",
   "pygments_lexer": "ipython3",
   "version": "3.9.12"
  }
 },
 "nbformat": 4,
 "nbformat_minor": 5
}
