{
 "cells": [
  {
   "cell_type": "markdown",
   "id": "ffe47a16",
   "metadata": {},
   "source": [
    "# PANDAS IO -Input/Output tools\n",
    "read_csv(filepath_or_buffer.sep='',delimiter=None,header='infer',names=None.index_col=None)"
   ]
  },
  {
   "cell_type": "code",
   "execution_count": 1,
   "id": "7049ce7f",
   "metadata": {},
   "outputs": [],
   "source": [
    "import pandas\n",
    "import pandas as pd"
   ]
  },
  {
   "cell_type": "code",
   "execution_count": 5,
   "id": "e88f20ab",
   "metadata": {},
   "outputs": [],
   "source": [
    "#open the text file and load the data then save it as hrdata.csv"
   ]
  },
  {
   "cell_type": "code",
   "execution_count": 3,
   "id": "2906e49e",
   "metadata": {},
   "outputs": [
    {
     "name": "stdout",
     "output_type": "stream",
     "text": [
      "             Name  HireDate   Salary  SickDaysremaining\n",
      "0  Graham Chapman  03/15/14  50000.0                 10\n",
      "1     John Cleese  06/01/15  65000.0                  8\n",
      "2       Eric Idle  05/12/14  45000.0                 10\n",
      "3     Terry Jones  11/01/13  70000.0                  3\n",
      "4   Terry Gilliam  08/12/14  48000.0                  7\n",
      "5   Michael Palin  05/23/13  66000.0                  8\n"
     ]
    }
   ],
   "source": [
    "df=pd.read_csv('hrdata.csv')\n",
    "print(df)"
   ]
  },
  {
   "cell_type": "code",
   "execution_count": 4,
   "id": "14430151",
   "metadata": {},
   "outputs": [
    {
     "name": "stdout",
     "output_type": "stream",
     "text": [
      "<class 'str'>\n"
     ]
    }
   ],
   "source": [
    "print(type(df['HireDate'][0]))\n",
    "#data is displaying string datatype"
   ]
  },
  {
   "cell_type": "code",
   "execution_count": 5,
   "id": "a588427a",
   "metadata": {},
   "outputs": [
    {
     "name": "stdout",
     "output_type": "stream",
     "text": [
      "                 HireDate   Salary  SickDaysremaining\n",
      "Name                                                 \n",
      "Graham Chapman 2014-03-15  50000.0                 10\n",
      "John Cleese    2015-06-01  65000.0                  8\n",
      "Eric Idle      2014-05-12  45000.0                 10\n",
      "Terry Jones    2013-11-01  70000.0                  3\n",
      "Terry Gilliam  2014-08-12  48000.0                  7\n",
      "Michael Palin  2013-05-23  66000.0                  8\n"
     ]
    }
   ],
   "source": [
    "#parse_dates will change into date data type\n",
    "df=pd.read_csv('hrdata.csv',index_col='Name',parse_dates=['HireDate'])\n",
    "print(df)"
   ]
  },
  {
   "cell_type": "code",
   "execution_count": 7,
   "id": "b0eac4cb",
   "metadata": {},
   "outputs": [
    {
     "name": "stdout",
     "output_type": "stream",
     "text": [
      "<class 'pandas._libs.tslibs.timestamps.Timestamp'>\n",
      "<class 'pandas._libs.tslibs.timestamps.Timestamp'>\n"
     ]
    }
   ],
   "source": [
    "#Hire date changed to timestamp\n",
    "print(type(df['HireDate'][0]))\n",
    "print(type(df['HireDate'][2]))"
   ]
  },
  {
   "cell_type": "code",
   "execution_count": null,
   "id": "ba15fdcf",
   "metadata": {},
   "outputs": [],
   "source": [
    "#Explicitly pass header=0 to be able to replace "
   ]
  }
 ],
 "metadata": {
  "kernelspec": {
   "display_name": "Python 3 (ipykernel)",
   "language": "python",
   "name": "python3"
  },
  "language_info": {
   "codemirror_mode": {
    "name": "ipython",
    "version": 3
   },
   "file_extension": ".py",
   "mimetype": "text/x-python",
   "name": "python",
   "nbconvert_exporter": "python",
   "pygments_lexer": "ipython3",
   "version": "3.9.12"
  }
 },
 "nbformat": 4,
 "nbformat_minor": 5
}
