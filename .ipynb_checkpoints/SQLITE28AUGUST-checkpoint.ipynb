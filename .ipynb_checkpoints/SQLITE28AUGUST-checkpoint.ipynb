{
 "cells": [
  {
   "cell_type": "markdown",
   "id": "eb6df01e",
   "metadata": {},
   "source": [
    "# Inserting Records from CSV File"
   ]
  },
  {
   "cell_type": "code",
   "execution_count": 1,
   "id": "3d72e590",
   "metadata": {},
   "outputs": [],
   "source": [
    "import sqlite3"
   ]
  },
  {
   "cell_type": "code",
   "execution_count": 2,
   "id": "69b54730",
   "metadata": {},
   "outputs": [],
   "source": [
    "db=sqlite3.connect(\"C:\\SQLiteData\\marks_database.db\")\n",
    "\n",
    "#Declare cursor\n",
    "cursor=db.cursor()"
   ]
  },
  {
   "cell_type": "code",
   "execution_count": 3,
   "id": "bd8107e2",
   "metadata": {},
   "outputs": [
    {
     "data": {
      "text/plain": [
       "<sqlite3.Cursor at 0x2142fb2b500>"
      ]
     },
     "execution_count": 3,
     "metadata": {},
     "output_type": "execute_result"
    }
   ],
   "source": [
    "# Create Table\n",
    "cursor.execute(\"CREATE TABLE marks(gender TEXT,student_id INT PRIMARY KEY,marks INT)\")"
   ]
  },
  {
   "cell_type": "code",
   "execution_count": 4,
   "id": "a48e3b43",
   "metadata": {},
   "outputs": [
    {
     "name": "stdout",
     "output_type": "stream",
     "text": [
      "18 Records inserted\n"
     ]
    }
   ],
   "source": [
    "with open('Scores_file.csv','r') as file:\n",
    "    total_records=0\n",
    "    for row in file:\n",
    "        cursor.execute(\"insert into marks values(?,?,?)\",row.split(\",\"))\n",
    "        db.commit()\n",
    "        total_records+=1\n",
    "print(total_records,'Records inserted')    "
   ]
  },
  {
   "cell_type": "code",
   "execution_count": 7,
   "id": "d395c621",
   "metadata": {},
   "outputs": [
    {
     "name": "stdout",
     "output_type": "stream",
     "text": [
      "('Male', 104, 56)\n",
      "('Male', 105, 57)\n",
      "('Female', 106, 89)\n",
      "('Female', 107, 67)\n",
      "('Male', 108, 58)\n",
      "('Female', 109, 99)\n",
      "('Male', 110, 69)\n",
      "('Female', 111, 46)\n",
      "('Male', 112, 34)\n",
      "('Male', 113, 54)\n",
      "('Male', 114, 49)\n",
      "('Female', 115, 88)\n",
      "('Female', 116, 38)\n",
      "('Male', 117, 87)\n",
      "('Male', 118, 86)\n",
      "('Female', 119, 30)\n",
      "('Female', 120, 44)\n",
      "('Male', 121, 85)\n"
     ]
    }
   ],
   "source": [
    "result = cursor.execute(\"SELECT * FROM marks\")\n",
    "for row in result:\n",
    "    print(row)"
   ]
  },
  {
   "cell_type": "code",
   "execution_count": 9,
   "id": "bc95e793",
   "metadata": {},
   "outputs": [
    {
     "name": "stdout",
     "output_type": "stream",
     "text": [
      "('Male', 104, 56)\n"
     ]
    }
   ],
   "source": [
    "sq1 = \"SELECT * FROM marks WHERE student_id = 104\"\n",
    "result = cursor.execute(sq1)\n",
    "for row in result:\n",
    "    print(row)"
   ]
  },
  {
   "cell_type": "code",
   "execution_count": 10,
   "id": "a05d94e1",
   "metadata": {},
   "outputs": [
    {
     "name": "stdout",
     "output_type": "stream",
     "text": [
      "('Female', 109, 99)\n",
      "('Female', 106, 89)\n",
      "('Female', 115, 88)\n",
      "('Male', 117, 87)\n",
      "('Male', 118, 86)\n",
      "('Male', 121, 85)\n",
      "('Male', 110, 69)\n",
      "('Female', 107, 67)\n",
      "('Male', 108, 58)\n",
      "('Male', 105, 57)\n",
      "('Male', 104, 56)\n",
      "('Male', 113, 54)\n",
      "('Male', 114, 49)\n",
      "('Female', 111, 46)\n",
      "('Female', 120, 44)\n",
      "('Female', 116, 38)\n",
      "('Male', 112, 34)\n",
      "('Female', 119, 30)\n"
     ]
    }
   ],
   "source": [
    "# How to change the order of records (Increasing or decreasing)\n",
    "result = result = cursor.execute(\"SELECT * FROM marks ORDER BY marks desc\")\n",
    "for row in result:\n",
    "    print(row)"
   ]
  },
  {
   "cell_type": "code",
   "execution_count": 11,
   "id": "1d682f32",
   "metadata": {},
   "outputs": [
    {
     "name": "stdout",
     "output_type": "stream",
     "text": [
      "('Female', 119, 30)\n",
      "('Male', 112, 34)\n",
      "('Female', 116, 38)\n",
      "('Female', 120, 44)\n",
      "('Female', 111, 46)\n",
      "('Male', 114, 49)\n",
      "('Male', 113, 54)\n",
      "('Male', 104, 56)\n",
      "('Male', 105, 57)\n",
      "('Male', 108, 58)\n",
      "('Female', 107, 67)\n",
      "('Male', 110, 69)\n",
      "('Male', 121, 85)\n",
      "('Male', 118, 86)\n",
      "('Male', 117, 87)\n",
      "('Female', 115, 88)\n",
      "('Female', 106, 89)\n",
      "('Female', 109, 99)\n"
     ]
    }
   ],
   "source": [
    "# How to change the order of records (Increasing or decreasing)\n",
    "result = result = cursor.execute(\"SELECT * FROM marks ORDER BY marks asc\")\n",
    "for row in result:\n",
    "    print(row)"
   ]
  },
  {
   "cell_type": "code",
   "execution_count": 13,
   "id": "466b1df3",
   "metadata": {},
   "outputs": [
    {
     "data": {
      "text/plain": [
       "<sqlite3.Cursor at 0x2142fb2b500>"
      ]
     },
     "execution_count": 13,
     "metadata": {},
     "output_type": "execute_result"
    }
   ],
   "source": [
    "# Single Record update\n",
    "sq1 = \"UPDATE marks SET marks = 50 WHERE student_id = 107\"\n",
    "cursor.execute(sq1)\n"
   ]
  },
  {
   "cell_type": "code",
   "execution_count": 14,
   "id": "369bf12e",
   "metadata": {},
   "outputs": [
    {
     "name": "stdout",
     "output_type": "stream",
     "text": [
      "('Male', 104, 56)\n",
      "('Male', 105, 57)\n",
      "('Female', 106, 89)\n",
      "('Female', 107, 50)\n",
      "('Male', 108, 58)\n",
      "('Female', 109, 99)\n",
      "('Male', 110, 69)\n",
      "('Female', 111, 46)\n",
      "('Male', 112, 34)\n",
      "('Male', 113, 54)\n",
      "('Male', 114, 49)\n",
      "('Female', 115, 88)\n",
      "('Female', 116, 38)\n",
      "('Male', 117, 87)\n",
      "('Male', 118, 86)\n",
      "('Female', 119, 30)\n",
      "('Female', 120, 44)\n",
      "('Male', 121, 85)\n"
     ]
    }
   ],
   "source": [
    "# Verify If its updated\n",
    "result = cursor.execute(\"SELECT * FROM marks ORDER BY student_id\")\n",
    "for row in result:\n",
    "    print(row)"
   ]
  },
  {
   "cell_type": "code",
   "execution_count": 15,
   "id": "e55c93e6",
   "metadata": {},
   "outputs": [
    {
     "name": "stdout",
     "output_type": "stream",
     "text": [
      "Minimum Marks =  (30,)\n"
     ]
    }
   ],
   "source": [
    "# MIN\n",
    "result = result = cursor.execute(\"SELECT MIN(marks) marks FROM marks\")\n",
    "print('Minimum Marks = ',result.fetchone())265441225667iy65465522222222222222222222222222222"
   ]
  },
  {
   "cell_type": "code",
   "execution_count": 16,
   "id": "113c4af6",
   "metadata": {},
   "outputs": [
    {
     "name": "stdout",
     "output_type": "stream",
     "text": [
      "Maximum Marks =  (99,)\n"
     ]
    }
   ],
   "source": [
    "# MIN\n",
    "result = result = cursor.execute(\"SELECT MAX(marks) marks FROM marks\")\n",
    "print('Maximum Marks = ',result.fetchone())"
   ]
  },
  {
   "cell_type": "code",
   "execution_count": 55,
   "id": "69c9ee67",
   "metadata": {},
   "outputs": [],
   "source": [
    "db.close()"
   ]
  },
  {
   "cell_type": "markdown",
   "id": "ccd191b2",
   "metadata": {},
   "source": [
    "# Exercise 2 SQLite3"
   ]
  },
  {
   "cell_type": "code",
   "execution_count": 1,
   "id": "a51f1a22",
   "metadata": {},
   "outputs": [],
   "source": [
    "import sqlite3"
   ]
  },
  {
   "cell_type": "markdown",
   "id": "3854f915",
   "metadata": {},
   "source": [
    "Adding Data In Table"
   ]
  },
  {
   "cell_type": "code",
   "execution_count": 2,
   "id": "bf3283ea",
   "metadata": {},
   "outputs": [],
   "source": [
    "db=sqlite3.connect(\"C:/DATABASE/sports_database.db\")"
   ]
  },
  {
   "cell_type": "code",
   "execution_count": 3,
   "id": "e70de290",
   "metadata": {},
   "outputs": [],
   "source": [
    "cur=db.cursor()"
   ]
  },
  {
   "cell_type": "raw",
   "id": "841df846",
   "metadata": {},
   "source": [
    "constraints  ------\n",
    "unique -- enter only unique values ,no duplicate values\n",
    "not null -- no blank values can be inserted in table"
   ]
  },
  {
   "cell_type": "code",
   "execution_count": 7,
   "id": "1dee4569",
   "metadata": {},
   "outputs": [
    {
     "data": {
      "text/plain": [
       "<sqlite3.Cursor at 0x1432175fb90>"
      ]
     },
     "execution_count": 7,
     "metadata": {},
     "output_type": "execute_result"
    }
   ],
   "source": [
    "cur.execute(\"create table sport (id int primary key,sportname text unique,dateofevent date,country text not null)\")"
   ]
  },
  {
   "cell_type": "code",
   "execution_count": 8,
   "id": "7dd2bb73",
   "metadata": {},
   "outputs": [
    {
     "data": {
      "text/plain": [
       "<sqlite3.Cursor at 0x1432175fb90>"
      ]
     },
     "execution_count": 8,
     "metadata": {},
     "output_type": "execute_result"
    }
   ],
   "source": [
    "cur.execute(\"insert into sport values(1,'cricket','2021-11-9','England')\")"
   ]
  },
  {
   "cell_type": "raw",
   "id": "626a21a1",
   "metadata": {},
   "source": [
    "#this line will throw error as sportname is duplicate  --- unique constraint failed\n",
    "\n",
    "#cur.execute(\"insert into sport values(2,'cricket','2018-08-02,'SriLanka)\")"
   ]
  },
  {
   "cell_type": "code",
   "execution_count": 9,
   "id": "75ff8917",
   "metadata": {},
   "outputs": [
    {
     "name": "stdout",
     "output_type": "stream",
     "text": [
      "1 record(s) inserted\n"
     ]
    }
   ],
   "source": [
    "cur.execute(\"insert into sport values(2,'Tennis','2018-08-02','SriLanka')\")\n",
    "print(cur.rowcount,\"record(s) inserted\")"
   ]
  },
  {
   "cell_type": "code",
   "execution_count": 13,
   "id": "9bcb704e",
   "metadata": {},
   "outputs": [
    {
     "data": {
      "text/plain": [
       "[(1, 'cricket', '2021-11-9', 'England'),\n",
       " (2, 'Tennis', '2018-08-02', 'SriLanka'),\n",
       " (3, 'Football', '2022-05-30', 'Australia')]"
      ]
     },
     "execution_count": 13,
     "metadata": {},
     "output_type": "execute_result"
    }
   ],
   "source": [
    "results=cur.execute('select * from sport')\n",
    "\n",
    "results.fetchall()"
   ]
  },
  {
   "cell_type": "code",
   "execution_count": 11,
   "id": "ad83f324",
   "metadata": {},
   "outputs": [],
   "source": [
    "results =cur.execute(\"insert into sport values(3,'Football','2022-05-30','Australia')\")\n",
    "db.commit;\n",
    "\n"
   ]
  },
  {
   "cell_type": "code",
   "execution_count": 12,
   "id": "cc07ed8f",
   "metadata": {},
   "outputs": [
    {
     "data": {
      "text/plain": [
       "[(1, 'cricket', '2021-11-9', 'England'),\n",
       " (2, 'Tennis', '2018-08-02', 'SriLanka'),\n",
       " (3, 'Football', '2022-05-30', 'Australia')]"
      ]
     },
     "execution_count": 12,
     "metadata": {},
     "output_type": "execute_result"
    }
   ],
   "source": [
    "results=cur.execute('select * from sport')\n",
    "\n",
    "results.fetchall()"
   ]
  },
  {
   "cell_type": "raw",
   "id": "3ea86b4b",
   "metadata": {},
   "source": [
    "#this query throw error : not null constraint : can not leave any field blank\n",
    "\n",
    "#cur.execute(insert into sport values(3,'Football','2022-05-30','NULL'))"
   ]
  },
  {
   "cell_type": "markdown",
   "id": "ac9a2053",
   "metadata": {},
   "source": [
    "# Employee Database with DB and Python Programmatically"
   ]
  },
  {
   "cell_type": "code",
   "execution_count": 26,
   "id": "a70d82d6",
   "metadata": {},
   "outputs": [],
   "source": [
    "import sqlite3"
   ]
  },
  {
   "cell_type": "code",
   "execution_count": 27,
   "id": "269103b4",
   "metadata": {},
   "outputs": [],
   "source": [
    "con=sqlite3.connect(\"C:/SQLiteData/emp_database.db\")"
   ]
  },
  {
   "cell_type": "code",
   "execution_count": 28,
   "id": "8b4fafa8",
   "metadata": {},
   "outputs": [],
   "source": [
    "def sq1_table(con):\n",
    "    cur=con.cursor()\n",
    "    cur.execute(\"create table employee(id integer primary key,name text,salary real,department text,position text,hiredate date)\")\n",
    "    con.commit()\n",
    "    "
   ]
  },
  {
   "cell_type": "code",
   "execution_count": 29,
   "id": "d748e150",
   "metadata": {},
   "outputs": [],
   "source": [
    "#calling function\n",
    "\n",
    "sq1_table(con)"
   ]
  },
  {
   "cell_type": "code",
   "execution_count": 30,
   "id": "a6f2d9ab",
   "metadata": {},
   "outputs": [
    {
     "data": {
      "text/plain": [
       "<sqlite3.Cursor at 0x17b36fdb110>"
      ]
     },
     "execution_count": 30,
     "metadata": {},
     "output_type": "execute_result"
    }
   ],
   "source": [
    "cur=con.cursor()\n",
    "cur.execute(\"insert into employee values(1,'Jack',9000,'HR','Manager','2019-07-09')\")"
   ]
  },
  {
   "cell_type": "code",
   "execution_count": 31,
   "id": "cde85447",
   "metadata": {},
   "outputs": [],
   "source": [
    "con.commit;"
   ]
  },
  {
   "cell_type": "code",
   "execution_count": 32,
   "id": "012da616",
   "metadata": {},
   "outputs": [
    {
     "data": {
      "text/plain": [
       "[(1, 'Jack', 9000.0, 'HR', 'Manager', '2019-07-09')]"
      ]
     },
     "execution_count": 32,
     "metadata": {},
     "output_type": "execute_result"
    }
   ],
   "source": [
    "results=cur.execute('select * from employee')\n",
    "results.fetchall()"
   ]
  },
  {
   "cell_type": "raw",
   "id": "720b6723",
   "metadata": {},
   "source": [
    "We can also pass values/arguments to an INSERT statement in the execute()method.You can use the ? as a placeholder for\n",
    "each value.The syntax of the INSERT will be like the following:"
   ]
  },
  {
   "cell_type": "raw",
   "id": "9f742c5f",
   "metadata": {},
   "source": [
    "cur.execute('''insert into employee(id,name,salary,department,position,hiredate) values(?,?,?,?,?,?)''',entities)\n",
    "\n",
    "entities=(2,'John',4000,'IT','Engineer','2018-02-06')"
   ]
  },
  {
   "cell_type": "code",
   "execution_count": 33,
   "id": "a8240c69",
   "metadata": {},
   "outputs": [],
   "source": [
    "def sq1_insert(con,entities):\n",
    "    cur=con.cursor()\n",
    "    cur.execute('insert into employee(id,name,salary,department,position,hiredate) values(?,?,?,?,?,?)',entities)"
   ]
  },
  {
   "cell_type": "code",
   "execution_count": 34,
   "id": "073e7399",
   "metadata": {},
   "outputs": [],
   "source": [
    "entities=(2,'Andrew',7000,'IT','Engineer','2015-04-06')"
   ]
  },
  {
   "cell_type": "code",
   "execution_count": 35,
   "id": "35df2ecb",
   "metadata": {},
   "outputs": [],
   "source": [
    "#calling sql insert to insert the data\n",
    "\n",
    "sq1_insert(con,entities)"
   ]
  },
  {
   "cell_type": "code",
   "execution_count": 36,
   "id": "0423322d",
   "metadata": {},
   "outputs": [],
   "source": [
    "entities=(3,'Thomas',6000,'HR','Manager','2016-06-14')"
   ]
  },
  {
   "cell_type": "code",
   "execution_count": 37,
   "id": "282cdf35",
   "metadata": {},
   "outputs": [],
   "source": [
    "sq1_insert(con,entities)"
   ]
  },
  {
   "cell_type": "code",
   "execution_count": 38,
   "id": "69a1cf40",
   "metadata": {},
   "outputs": [
    {
     "data": {
      "text/plain": [
       "[(1, 'Jack', 9000.0, 'HR', 'Manager', '2019-07-09'),\n",
       " (2, 'Andrew', 7000.0, 'IT', 'Engineer', '2015-04-06'),\n",
       " (3, 'Thomas', 6000.0, 'HR', 'Manager', '2016-06-14')]"
      ]
     },
     "execution_count": 38,
     "metadata": {},
     "output_type": "execute_result"
    }
   ],
   "source": [
    "results=cur.execute('select * from employee')\n",
    "results.fetchall()"
   ]
  },
  {
   "cell_type": "code",
   "execution_count": 39,
   "id": "d3b42803",
   "metadata": {},
   "outputs": [],
   "source": [
    "entities=(4,'Rudolf',8000,'IT','Engineer','2012-08-23')\n",
    "\n",
    "sq1_insert(con,entities)\n",
    "\n",
    "entities=(5,'Suzen',10000,'Sales','Sales Executive','2018-02-19')\n",
    "\n",
    "sq1_insert(con,entities)"
   ]
  },
  {
   "cell_type": "code",
   "execution_count": 40,
   "id": "989ef2ce",
   "metadata": {},
   "outputs": [
    {
     "data": {
      "text/plain": [
       "[(1, 'Jack', 9000.0, 'HR', 'Manager', '2019-07-09'),\n",
       " (2, 'Andrew', 7000.0, 'IT', 'Engineer', '2015-04-06'),\n",
       " (3, 'Thomas', 6000.0, 'HR', 'Manager', '2016-06-14'),\n",
       " (4, 'Rudolf', 8000.0, 'IT', 'Engineer', '2012-08-23'),\n",
       " (5, 'Suzen', 10000.0, 'Sales', 'Sales Executive', '2018-02-19')]"
      ]
     },
     "execution_count": 40,
     "metadata": {},
     "output_type": "execute_result"
    }
   ],
   "source": [
    "results=cur.execute('select * from employee')\n",
    "results.fetchall()"
   ]
  },
  {
   "cell_type": "code",
   "execution_count": 41,
   "id": "e6234616",
   "metadata": {},
   "outputs": [
    {
     "data": {
      "text/plain": [
       "[(1, 'Jack'), (2, 'Andrew'), (3, 'Thomas'), (4, 'Rudolf'), (5, 'Suzen')]"
      ]
     },
     "execution_count": 41,
     "metadata": {},
     "output_type": "execute_result"
    }
   ],
   "source": [
    "results=cur.execute(\"select id,name from employee\")\n",
    "results.fetchall()"
   ]
  },
  {
   "cell_type": "code",
   "execution_count": 42,
   "id": "bbe523a8",
   "metadata": {},
   "outputs": [
    {
     "data": {
      "text/plain": [
       "[(1, 'Jack'), (5, 'Suzen')]"
      ]
     },
     "execution_count": 42,
     "metadata": {},
     "output_type": "execute_result"
    }
   ],
   "source": [
    "results=cur.execute(\"select id,name from employee where salary >8000\")\n",
    "results.fetchall()"
   ]
  },
  {
   "cell_type": "code",
   "execution_count": 43,
   "id": "a19c4d3b",
   "metadata": {},
   "outputs": [
    {
     "data": {
      "text/plain": [
       "[(1, 'Jack'), (3, 'Thomas')]"
      ]
     },
     "execution_count": 43,
     "metadata": {},
     "output_type": "execute_result"
    }
   ],
   "source": [
    "results=cur.execute(\"select id,name from employee where department in ('HR')\")\n",
    "results.fetchall()"
   ]
  },
  {
   "cell_type": "code",
   "execution_count": 44,
   "id": "1dab78d1",
   "metadata": {},
   "outputs": [
    {
     "data": {
      "text/plain": [
       "[(6000.0,)]"
      ]
     },
     "execution_count": 44,
     "metadata": {},
     "output_type": "execute_result"
    }
   ],
   "source": [
    "results=cur.execute(\"select min(salary) from employee\")\n",
    "results.fetchall()"
   ]
  },
  {
   "cell_type": "code",
   "execution_count": 45,
   "id": "92df1b3f",
   "metadata": {},
   "outputs": [
    {
     "data": {
      "text/plain": [
       "[(5,)]"
      ]
     },
     "execution_count": 45,
     "metadata": {},
     "output_type": "execute_result"
    }
   ],
   "source": [
    "results=cur.execute(\"select count(id) from employee\")\n",
    "results.fetchall()"
   ]
  },
  {
   "cell_type": "code",
   "execution_count": 46,
   "id": "f1cd9f51",
   "metadata": {},
   "outputs": [
    {
     "data": {
      "text/plain": [
       "[('HR',), ('IT',), ('Sales',)]"
      ]
     },
     "execution_count": 46,
     "metadata": {},
     "output_type": "execute_result"
    }
   ],
   "source": [
    "results=cur.execute(\"select distinct(department) from employee\")\n",
    "results.fetchall()"
   ]
  },
  {
   "cell_type": "code",
   "execution_count": 47,
   "id": "b67c13a3",
   "metadata": {},
   "outputs": [
    {
     "data": {
      "text/plain": [
       "[(3,)]"
      ]
     },
     "execution_count": 47,
     "metadata": {},
     "output_type": "execute_result"
    }
   ],
   "source": [
    "results=cur.execute(\"select count(distinct(department)) from employee\")\n",
    "results.fetchall()"
   ]
  },
  {
   "cell_type": "code",
   "execution_count": 48,
   "id": "d68ad5c4",
   "metadata": {},
   "outputs": [
    {
     "data": {
      "text/plain": [
       "[(15000.0, 'Engineer'), (15000.0, 'Manager'), (10000.0, 'Sales Executive')]"
      ]
     },
     "execution_count": 48,
     "metadata": {},
     "output_type": "execute_result"
    }
   ],
   "source": [
    "results=cur.execute(\"select sum(salary), position from employee group by position\")\n",
    "results.fetchall()"
   ]
  },
  {
   "cell_type": "code",
   "execution_count": 49,
   "id": "1ce36025",
   "metadata": {},
   "outputs": [
    {
     "data": {
      "text/plain": [
       "[(15000.0, 'Manager'), (15000.0, 'Engineer'), (10000.0, 'Sales Executive')]"
      ]
     },
     "execution_count": 49,
     "metadata": {},
     "output_type": "execute_result"
    }
   ],
   "source": [
    "results=cur.execute(\"select sum(salary), position from employee group by department\")\n",
    "results.fetchall()"
   ]
  },
  {
   "cell_type": "code",
   "execution_count": 52,
   "id": "da363995",
   "metadata": {},
   "outputs": [],
   "source": [
    "def sq1_query(sq1):\n",
    "    cur=con.cursor()\n",
    "    results=cur.execute(sq1)\n",
    "    return results"
   ]
  },
  {
   "cell_type": "code",
   "execution_count": 53,
   "id": "460ff409",
   "metadata": {},
   "outputs": [
    {
     "data": {
      "text/plain": [
       "[(1, 'Jack', 9000.0, 'HR', 'Manager', '2019-07-09'),\n",
       " (2, 'Andrew', 7000.0, 'IT', 'Engineer', '2015-04-06'),\n",
       " (3, 'Thomas', 6000.0, 'HR', 'Manager', '2016-06-14'),\n",
       " (4, 'Rudolf', 8000.0, 'IT', 'Engineer', '2012-08-23'),\n",
       " (5, 'Suzen', 10000.0, 'Sales', 'Sales Executive', '2018-02-19')]"
      ]
     },
     "execution_count": 53,
     "metadata": {},
     "output_type": "execute_result"
    }
   ],
   "source": [
    "#make query \n",
    "sq1=\"select * from employee\"\n",
    "\n",
    "#pass query in function\n",
    "respond=sq1_query(sq1)\n",
    "respond.fetchall()"
   ]
  },
  {
   "cell_type": "code",
   "execution_count": 54,
   "id": "3da4906c",
   "metadata": {},
   "outputs": [
    {
     "data": {
      "text/plain": [
       "[(1, 'Jack', 'Manager'),\n",
       " (2, 'Andrew', 'Engineer'),\n",
       " (3, 'Thomas', 'Manager'),\n",
       " (4, 'Rudolf', 'Engineer'),\n",
       " (5, 'Suzen', 'Sales Executive')]"
      ]
     },
     "execution_count": 54,
     "metadata": {},
     "output_type": "execute_result"
    }
   ],
   "source": [
    "sq1=\"select id,name,position from employee\"\n",
    "\n",
    "#pass query in function\n",
    "respond=sq1_query(sq1)\n",
    "respond.fetchall()"
   ]
  },
  {
   "cell_type": "code",
   "execution_count": null,
   "id": "b796308e",
   "metadata": {},
   "outputs": [],
   "source": []
  }
 ],
 "metadata": {
  "kernelspec": {
   "display_name": "Python 3 (ipykernel)",
   "language": "python",
   "name": "python3"
  },
  "language_info": {
   "codemirror_mode": {
    "name": "ipython",
    "version": 3
   },
   "file_extension": ".py",
   "mimetype": "text/x-python",
   "name": "python",
   "nbconvert_exporter": "python",
   "pygments_lexer": "ipython3",
   "version": "3.9.12"
  }
 },
 "nbformat": 4,
 "nbformat_minor": 5
}
