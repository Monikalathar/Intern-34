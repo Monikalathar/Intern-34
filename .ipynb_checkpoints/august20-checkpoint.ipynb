{
 "cells": [
  {
   "cell_type": "markdown",
   "id": "1a9c6b6a",
   "metadata": {},
   "source": [
    "# Pickle in Python: Object Serialization"
   ]
  },
  {
   "cell_type": "code",
   "execution_count": 1,
   "id": "412162c4",
   "metadata": {},
   "outputs": [],
   "source": [
    "import pickle"
   ]
  },
  {
   "cell_type": "code",
   "execution_count": 4,
   "id": "8c390279",
   "metadata": {},
   "outputs": [],
   "source": [
    "flower_dict = {1:'Rose',2: 'Lily',3: 'Lotus',4: 'Tulip'}"
   ]
  },
  {
   "cell_type": "code",
   "execution_count": 5,
   "id": "0c186770",
   "metadata": {},
   "outputs": [],
   "source": [
    "filename = 'flower'\n",
    "outfile = open(filename,'wb')"
   ]
  },
  {
   "cell_type": "code",
   "execution_count": 6,
   "id": "d772d69f",
   "metadata": {},
   "outputs": [],
   "source": [
    "#filename = 'flower'\n",
    "outfile = open('flower.obj','wb')"
   ]
  },
  {
   "cell_type": "code",
   "execution_count": 7,
   "id": "7d1b37e0",
   "metadata": {},
   "outputs": [],
   "source": [
    "#pickling the file\n",
    "#dump method serialize\n",
    "pickle.dump(flower_dict,outfile)\n",
    "outfile.close()"
   ]
  },
  {
   "cell_type": "code",
   "execution_count": 8,
   "id": "01e81b88",
   "metadata": {},
   "outputs": [],
   "source": [
    "#unpickle the file\n",
    "infile=open(filename,'rb')"
   ]
  },
  {
   "cell_type": "code",
   "execution_count": 9,
   "id": "620a3f5e",
   "metadata": {},
   "outputs": [],
   "source": [
    "#unpickle the file\n",
    "infile=open('flower.obj','rb')"
   ]
  },
  {
   "cell_type": "code",
   "execution_count": 10,
   "id": "225d7e11",
   "metadata": {},
   "outputs": [],
   "source": [
    "#de-serialize\n",
    "#Load method\n",
    "new_dict=pickle.load(infile)"
   ]
  },
  {
   "cell_type": "code",
   "execution_count": 11,
   "id": "c2d61b64",
   "metadata": {},
   "outputs": [],
   "source": [
    "infile.close()"
   ]
  },
  {
   "cell_type": "code",
   "execution_count": 12,
   "id": "1082993d",
   "metadata": {},
   "outputs": [
    {
     "name": "stdout",
     "output_type": "stream",
     "text": [
      "{1: 'Rose', 2: 'Lily', 3: 'Lotus', 4: 'Tulip'}\n"
     ]
    }
   ],
   "source": [
    "print(new_dict)"
   ]
  },
  {
   "cell_type": "code",
   "execution_count": 13,
   "id": "2398318e",
   "metadata": {},
   "outputs": [
    {
     "name": "stdout",
     "output_type": "stream",
     "text": [
      "True\n"
     ]
    }
   ],
   "source": [
    "print(new_dict==flower_dict)"
   ]
  },
  {
   "cell_type": "code",
   "execution_count": 14,
   "id": "d541b7ba",
   "metadata": {},
   "outputs": [
    {
     "ename": "SyntaxError",
     "evalue": "invalid syntax (3740154194.py, line 1)",
     "output_type": "error",
     "traceback": [
      "\u001b[1;36m  Input \u001b[1;32mIn [14]\u001b[1;36m\u001b[0m\n\u001b[1;33m    syntax error\u001b[0m\n\u001b[1;37m           ^\u001b[0m\n\u001b[1;31mSyntaxError\u001b[0m\u001b[1;31m:\u001b[0m invalid syntax\n"
     ]
    }
   ],
   "source": [
    "syntax error"
   ]
  },
  {
   "cell_type": "code",
   "execution_count": 15,
   "id": "d042b70a",
   "metadata": {},
   "outputs": [
    {
     "ename": "NameError",
     "evalue": "name 'ptr' is not defined",
     "output_type": "error",
     "traceback": [
      "\u001b[1;31m---------------------------------------------------------------------------\u001b[0m",
      "\u001b[1;31mNameError\u001b[0m                                 Traceback (most recent call last)",
      "Input \u001b[1;32mIn [15]\u001b[0m, in \u001b[0;36m<cell line: 1>\u001b[1;34m()\u001b[0m\n\u001b[1;32m----> 1\u001b[0m \u001b[38;5;28mprint\u001b[39m(\u001b[43mptr\u001b[49m)\n",
      "\u001b[1;31mNameError\u001b[0m: name 'ptr' is not defined"
     ]
    }
   ],
   "source": [
    "print(ptr)"
   ]
  },
  {
   "cell_type": "code",
   "execution_count": 18,
   "id": "fefb7fd3",
   "metadata": {},
   "outputs": [
    {
     "name": "stdout",
     "output_type": "stream",
     "text": [
      "1\n",
      "2\n",
      "3\n",
      "4\n",
      "5\n"
     ]
    }
   ],
   "source": [
    "for i in [1,2,3,4,5]:\n",
    "     print(i) "
   ]
  },
  {
   "cell_type": "code",
   "execution_count": 19,
   "id": "011580d7",
   "metadata": {},
   "outputs": [
    {
     "name": "stdout",
     "output_type": "stream",
     "text": [
      "enter value90\n",
      "enter value5\n"
     ]
    },
    {
     "ename": "TypeError",
     "evalue": "unsupported operand type(s) for /: 'str' and 'str'",
     "output_type": "error",
     "traceback": [
      "\u001b[1;31m---------------------------------------------------------------------------\u001b[0m",
      "\u001b[1;31mTypeError\u001b[0m                                 Traceback (most recent call last)",
      "Input \u001b[1;32mIn [19]\u001b[0m, in \u001b[0;36m<cell line: 4>\u001b[1;34m()\u001b[0m\n\u001b[0;32m      1\u001b[0m np1\u001b[38;5;241m=\u001b[39m\u001b[38;5;28minput\u001b[39m(\u001b[38;5;124m'\u001b[39m\u001b[38;5;124menter value\u001b[39m\u001b[38;5;124m'\u001b[39m)\n\u001b[0;32m      2\u001b[0m np2\u001b[38;5;241m=\u001b[39m\u001b[38;5;28minput\u001b[39m(\u001b[38;5;124m'\u001b[39m\u001b[38;5;124menter value\u001b[39m\u001b[38;5;124m'\u001b[39m)\n\u001b[1;32m----> 4\u001b[0m \u001b[43mnp1\u001b[49m\u001b[38;5;241;43m/\u001b[39;49m\u001b[43mnp2\u001b[49m\n",
      "\u001b[1;31mTypeError\u001b[0m: unsupported operand type(s) for /: 'str' and 'str'"
     ]
    }
   ],
   "source": [
    "np1=input('enter value')\n",
    "np2=input('enter value')\n",
    "\n",
    "np1/np2"
   ]
  },
  {
   "cell_type": "markdown",
   "id": "31bb0832",
   "metadata": {},
   "source": [
    "# Handling Exceptions"
   ]
  },
  {
   "cell_type": "code",
   "execution_count": 20,
   "id": "2c4fa6cd",
   "metadata": {},
   "outputs": [
    {
     "name": "stdout",
     "output_type": "stream",
     "text": [
      "Handling run time error: division by zero\n"
     ]
    }
   ],
   "source": [
    "try:\n",
    "    79/0\n",
    "except ZeroDivisionError as err:\n",
    "    print('Handling run time error:',err)"
   ]
  },
  {
   "cell_type": "code",
   "execution_count": 21,
   "id": "7c335cba",
   "metadata": {},
   "outputs": [
    {
     "name": "stdout",
     "output_type": "stream",
     "text": [
      "Handling run time error: name 'm' is not defined\n"
     ]
    }
   ],
   "source": [
    "try:\n",
    "    8+m*2\n",
    "except NameError as err:\n",
    "    print('Handling run time error:',err)\n",
    "\n",
    "    "
   ]
  },
  {
   "cell_type": "code",
   "execution_count": 24,
   "id": "418a54c1",
   "metadata": {},
   "outputs": [
    {
     "name": "stdout",
     "output_type": "stream",
     "text": [
      "value0\n",
      "check name of variable :Name error\n"
     ]
    }
   ],
   "source": [
    "try:\n",
    "    i=int(input(\"value\"))\n",
    "    p=50/i\n",
    "except ZeroDivisionError:\n",
    "    print('check name of variable :Name error')\n",
    "except IndentationError:\n",
    "    print('check indentation')\n",
    "else:\n",
    "    print(p)"
   ]
  },
  {
   "cell_type": "code",
   "execution_count": 27,
   "id": "a8fd2b61",
   "metadata": {},
   "outputs": [
    {
     "name": "stdout",
     "output_type": "stream",
     "text": [
      "20\n",
      "30\n",
      "10\n",
      "hello\n",
      "end of the program\n"
     ]
    }
   ],
   "source": [
    "a=[10,20,30]\n",
    "\n",
    "try:\n",
    "    print(a[1])\n",
    "    print(a[2])\n",
    "    print(a[0])\n",
    "except:\n",
    "    print(\"out of range\")\n",
    "else:\n",
    "    print(\"hello\")\n",
    "finally:\n",
    "    print(\"end of the program\")"
   ]
  },
  {
   "cell_type": "code",
   "execution_count": 30,
   "id": "41fa42c2",
   "metadata": {},
   "outputs": [
    {
     "name": "stdout",
     "output_type": "stream",
     "text": [
      "value0\n",
      "An Error occured\n"
     ]
    }
   ],
   "source": [
    "try:\n",
    "    i=int(input(\"value\"))\n",
    "    p=50/i\n",
    "except:\n",
    "    print(\"An Error occured\")\n",
    "else:\n",
    "    print(p)\n",
    "    "
   ]
  },
  {
   "cell_type": "code",
   "execution_count": 32,
   "id": "35f045c8",
   "metadata": {},
   "outputs": [
    {
     "name": "stdout",
     "output_type": "stream",
     "text": [
      "check name\n",
      "This line will be exceuted always\n"
     ]
    }
   ],
   "source": [
    "try:\n",
    "    #k=5\n",
    "    print(k)\n",
    "except NameError:\n",
    "    print(\"check name\")\n",
    "else: \n",
    "    print(k)\n",
    "finally:\n",
    "    print(\"This line will be exceuted always\")"
   ]
  },
  {
   "cell_type": "code",
   "execution_count": 33,
   "id": "3be7c665",
   "metadata": {},
   "outputs": [
    {
     "name": "stdout",
     "output_type": "stream",
     "text": [
      "2\n",
      "2\n",
      "This line will be exceuted always\n"
     ]
    }
   ],
   "source": [
    "try:\n",
    "    c=2\n",
    "    print(c)\n",
    "except NameError:\n",
    "    print(\"check name\")\n",
    "except IndetationError:\n",
    "    print(\"check indent\")\n",
    "else: \n",
    "    print(c)\n",
    "finally:\n",
    "    print(\"This line will be exceuted always\")"
   ]
  },
  {
   "cell_type": "code",
   "execution_count": 37,
   "id": "ebd090b1",
   "metadata": {},
   "outputs": [],
   "source": [
    "def testf():\n",
    "     a=int(input(\"enter\"))\n",
    "     b=int(input(\"enter\"))\n",
    "     c=a/b\n",
    "     print(\"c=\",c)"
   ]
  },
  {
   "cell_type": "code",
   "execution_count": 39,
   "id": "c61623b9",
   "metadata": {},
   "outputs": [
    {
     "name": "stdout",
     "output_type": "stream",
     "text": [
      "enter70\n",
      "enter0\n",
      "Divide by zero\n"
     ]
    }
   ],
   "source": [
    "try:\n",
    "    testf()\n",
    "except ZeroDivisionError:\n",
    "    print(\"Divide by zero\")"
   ]
  },
  {
   "cell_type": "code",
   "execution_count": 43,
   "id": "9e998637",
   "metadata": {},
   "outputs": [
    {
     "name": "stdout",
     "output_type": "stream",
     "text": [
      "enter66\n",
      "enter0\n",
      "Some error\n",
      "<class 'ArithmeticError'>\n"
     ]
    }
   ],
   "source": [
    "try:\n",
    "    testf()\n",
    "except ArithmeticError:\n",
    "    print(\"Some error\")\n",
    "    print(ArithmeticError)"
   ]
  },
  {
   "cell_type": "code",
   "execution_count": 44,
   "id": "7721e643",
   "metadata": {},
   "outputs": [],
   "source": [
    "def typecasting_func():\n",
    "    x=input(\"enter value\")\n",
    "    y=input(\"enter value\")\n",
    "    z=x*y\n",
    "    print|(\"z=\",z)"
   ]
  },
  {
   "cell_type": "code",
   "execution_count": 47,
   "id": "8109bf19",
   "metadata": {},
   "outputs": [
    {
     "name": "stdout",
     "output_type": "stream",
     "text": [
      "enter value99\n",
      "enter value0\n",
      "typecast error\n"
     ]
    }
   ],
   "source": [
    "try:\n",
    "    typecasting_func()\n",
    "except TypeError:\n",
    "    print(\"typecast error\")\n",
    "    "
   ]
  },
  {
   "cell_type": "code",
   "execution_count": null,
   "id": "bbf2e59d",
   "metadata": {},
   "outputs": [],
   "source": []
  }
 ],
 "metadata": {
  "kernelspec": {
   "display_name": "Python 3 (ipykernel)",
   "language": "python",
   "name": "python3"
  },
  "language_info": {
   "codemirror_mode": {
    "name": "ipython",
    "version": 3
   },
   "file_extension": ".py",
   "mimetype": "text/x-python",
   "name": "python",
   "nbconvert_exporter": "python",
   "pygments_lexer": "ipython3",
   "version": "3.9.12"
  }
 },
 "nbformat": 4,
 "nbformat_minor": 5
}
