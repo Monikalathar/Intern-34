{
 "cells": [
  {
   "cell_type": "markdown",
   "id": "12831203",
   "metadata": {},
   "source": [
    "Global and Local Variables"
   ]
  },
  {
   "cell_type": "code",
   "execution_count": 1,
   "id": "6eb6b547",
   "metadata": {},
   "outputs": [],
   "source": [
    "testx=100       #global variable"
   ]
  },
  {
   "cell_type": "code",
   "execution_count": 8,
   "id": "4e8fc9c8",
   "metadata": {},
   "outputs": [],
   "source": [
    "def func():\n",
    "    global testx\n",
    "    p=45          #Local variable\n",
    "    print(p)\n",
    "    print(testx)"
   ]
  },
  {
   "cell_type": "code",
   "execution_count": 9,
   "id": "b08dea7b",
   "metadata": {},
   "outputs": [
    {
     "name": "stdout",
     "output_type": "stream",
     "text": [
      "45\n",
      "100\n"
     ]
    }
   ],
   "source": [
    "func()"
   ]
  },
  {
   "cell_type": "code",
   "execution_count": 6,
   "id": "4286ed2b",
   "metadata": {},
   "outputs": [
    {
     "ename": "NameError",
     "evalue": "name 'p' is not defined",
     "output_type": "error",
     "traceback": [
      "\u001b[1;31m---------------------------------------------------------------------------\u001b[0m",
      "\u001b[1;31mNameError\u001b[0m                                 Traceback (most recent call last)",
      "Input \u001b[1;32mIn [6]\u001b[0m, in \u001b[0;36m<cell line: 1>\u001b[1;34m()\u001b[0m\n\u001b[1;32m----> 1\u001b[0m \u001b[43mp\u001b[49m\n",
      "\u001b[1;31mNameError\u001b[0m: name 'p' is not defined"
     ]
    }
   ],
   "source": [
    "p"
   ]
  },
  {
   "cell_type": "code",
   "execution_count": 4,
   "id": "4a4bf0e2",
   "metadata": {},
   "outputs": [
    {
     "data": {
      "text/plain": [
       "100"
      ]
     },
     "execution_count": 4,
     "metadata": {},
     "output_type": "execute_result"
    }
   ],
   "source": [
    "testx"
   ]
  },
  {
   "cell_type": "code",
   "execution_count": 1,
   "id": "4c8a34be",
   "metadata": {},
   "outputs": [],
   "source": [
    "m=345"
   ]
  },
  {
   "cell_type": "code",
   "execution_count": 2,
   "id": "7a0c2080",
   "metadata": {},
   "outputs": [],
   "source": [
    "def function2():\n",
    "    m=900\n",
    "    print(m)"
   ]
  },
  {
   "cell_type": "code",
   "execution_count": 3,
   "id": "b78a7f95",
   "metadata": {},
   "outputs": [
    {
     "name": "stdout",
     "output_type": "stream",
     "text": [
      "900\n"
     ]
    }
   ],
   "source": [
    "function2()"
   ]
  },
  {
   "cell_type": "code",
   "execution_count": 4,
   "id": "b2cd518d",
   "metadata": {},
   "outputs": [],
   "source": [
    "def f1():\n",
    "    a=10\n",
    "    print(a)"
   ]
  },
  {
   "cell_type": "code",
   "execution_count": 5,
   "id": "5eb7ff9b",
   "metadata": {},
   "outputs": [],
   "source": [
    "def f2():\n",
    "    f1()"
   ]
  },
  {
   "cell_type": "code",
   "execution_count": 6,
   "id": "374cea85",
   "metadata": {},
   "outputs": [
    {
     "name": "stdout",
     "output_type": "stream",
     "text": [
      "10\n"
     ]
    }
   ],
   "source": [
    "f2()"
   ]
  },
  {
   "cell_type": "code",
   "execution_count": 7,
   "id": "37a5f648",
   "metadata": {},
   "outputs": [],
   "source": [
    "def func1():\n",
    "    x=10\n",
    "    y=5\n",
    "    print(\"add=\",x+y)"
   ]
  },
  {
   "cell_type": "code",
   "execution_count": 8,
   "id": "ef6d3912",
   "metadata": {},
   "outputs": [],
   "source": [
    "def func2():\n",
    "    func1()\n",
    "    a=100\n",
    "    b=20\n",
    "    print(\"subtraction\",a-b)"
   ]
  },
  {
   "cell_type": "code",
   "execution_count": 9,
   "id": "6b8a5740",
   "metadata": {},
   "outputs": [
    {
     "name": "stdout",
     "output_type": "stream",
     "text": [
      "add= 15\n",
      "subtraction 80\n"
     ]
    }
   ],
   "source": [
    "func2()"
   ]
  },
  {
   "cell_type": "code",
   "execution_count": 10,
   "id": "afff610f",
   "metadata": {},
   "outputs": [],
   "source": [
    "def func1():\n",
    "    a=10\n",
    "    b=20\n",
    "    c=a+b\n",
    "    print(\"c=\",c)"
   ]
  },
  {
   "cell_type": "code",
   "execution_count": 11,
   "id": "26acdcaf",
   "metadata": {},
   "outputs": [
    {
     "name": "stdout",
     "output_type": "stream",
     "text": [
      "c= 30\n"
     ]
    }
   ],
   "source": [
    "func1()"
   ]
  },
  {
   "cell_type": "markdown",
   "id": "230ad279",
   "metadata": {},
   "source": [
    "RETURN keyword"
   ]
  },
  {
   "cell_type": "code",
   "execution_count": 13,
   "id": "7512be91",
   "metadata": {},
   "outputs": [],
   "source": [
    "def func2():\n",
    "    a=40\n",
    "    b=30\n",
    "    c=a+b\n",
    "    return c"
   ]
  },
  {
   "cell_type": "code",
   "execution_count": 16,
   "id": "565cd624",
   "metadata": {},
   "outputs": [],
   "source": [
    "h=func2()"
   ]
  },
  {
   "cell_type": "code",
   "execution_count": 17,
   "id": "71d24f65",
   "metadata": {},
   "outputs": [
    {
     "data": {
      "text/plain": [
       "70"
      ]
     },
     "execution_count": 17,
     "metadata": {},
     "output_type": "execute_result"
    }
   ],
   "source": [
    "h"
   ]
  },
  {
   "cell_type": "code",
   "execution_count": 20,
   "id": "0d4a6b40",
   "metadata": {},
   "outputs": [],
   "source": [
    "def f1(h):\n",
    "    print(h-10)"
   ]
  },
  {
   "cell_type": "code",
   "execution_count": 21,
   "id": "56b4bec4",
   "metadata": {},
   "outputs": [
    {
     "name": "stdout",
     "output_type": "stream",
     "text": [
      "60\n"
     ]
    }
   ],
   "source": [
    "f1(h)"
   ]
  },
  {
   "cell_type": "code",
   "execution_count": 22,
   "id": "a218c4ef",
   "metadata": {},
   "outputs": [],
   "source": [
    "def f1(h):\n",
    "    print(h*2)"
   ]
  },
  {
   "cell_type": "code",
   "execution_count": 23,
   "id": "b2587df9",
   "metadata": {},
   "outputs": [
    {
     "name": "stdout",
     "output_type": "stream",
     "text": [
      "140\n"
     ]
    }
   ],
   "source": [
    "f1(h)"
   ]
  },
  {
   "cell_type": "code",
   "execution_count": 24,
   "id": "3a589bc9",
   "metadata": {},
   "outputs": [],
   "source": [
    "def f1(h):\n",
    "    print(h+20)"
   ]
  },
  {
   "cell_type": "code",
   "execution_count": 25,
   "id": "f2ededba",
   "metadata": {},
   "outputs": [
    {
     "name": "stdout",
     "output_type": "stream",
     "text": [
      "90\n"
     ]
    }
   ],
   "source": [
    "f1(h)"
   ]
  },
  {
   "cell_type": "code",
   "execution_count": 26,
   "id": "932f5cf5",
   "metadata": {},
   "outputs": [],
   "source": [
    "def function2():\n",
    "    x=100\n",
    "    y=40\n",
    "    z=x-y\n",
    "    return z"
   ]
  },
  {
   "cell_type": "code",
   "execution_count": 28,
   "id": "c9859a9b",
   "metadata": {},
   "outputs": [],
   "source": [
    "s=function2()"
   ]
  },
  {
   "cell_type": "code",
   "execution_count": 29,
   "id": "bd612a65",
   "metadata": {},
   "outputs": [
    {
     "data": {
      "text/plain": [
       "60"
      ]
     },
     "execution_count": 29,
     "metadata": {},
     "output_type": "execute_result"
    }
   ],
   "source": [
    "s"
   ]
  },
  {
   "cell_type": "code",
   "execution_count": 30,
   "id": "e8a30d23",
   "metadata": {},
   "outputs": [],
   "source": [
    "def func1():\n",
    "    a=100\n",
    "    b=30\n",
    "    c=a+b\n",
    "    print(\"c=\",c)\n",
    "    return c"
   ]
  },
  {
   "cell_type": "code",
   "execution_count": 31,
   "id": "30de8066",
   "metadata": {},
   "outputs": [
    {
     "name": "stdout",
     "output_type": "stream",
     "text": [
      "c= 130\n"
     ]
    }
   ],
   "source": [
    "t=func1()"
   ]
  },
  {
   "cell_type": "code",
   "execution_count": 32,
   "id": "c9e118ec",
   "metadata": {},
   "outputs": [
    {
     "data": {
      "text/plain": [
       "130"
      ]
     },
     "execution_count": 32,
     "metadata": {},
     "output_type": "execute_result"
    }
   ],
   "source": [
    "t"
   ]
  },
  {
   "cell_type": "markdown",
   "id": "6e063a77",
   "metadata": {},
   "source": [
    "variables number of arguments:-***arguments-----def f1(*args)\n",
    "In case where uhh dont know the exact number of arguments that you want to pass to a function, you can use the following syntax with *args:-"
   ]
  },
  {
   "cell_type": "code",
   "execution_count": 2,
   "id": "5a1bece8",
   "metadata": {},
   "outputs": [],
   "source": [
    "def plusfunction(*args):\n",
    "    return sum(args)"
   ]
  },
  {
   "cell_type": "code",
   "execution_count": 3,
   "id": "112f12e5",
   "metadata": {},
   "outputs": [
    {
     "data": {
      "text/plain": [
       "20"
      ]
     },
     "execution_count": 3,
     "metadata": {},
     "output_type": "execute_result"
    }
   ],
   "source": [
    "#calling a function\n",
    "plusfunction(6,4,10)"
   ]
  },
  {
   "cell_type": "code",
   "execution_count": 4,
   "id": "294da8be",
   "metadata": {},
   "outputs": [
    {
     "data": {
      "text/plain": [
       "62"
      ]
     },
     "execution_count": 4,
     "metadata": {},
     "output_type": "execute_result"
    }
   ],
   "source": [
    "plusfunction(2,23,14,2,6,7,8)"
   ]
  },
  {
   "cell_type": "code",
   "execution_count": 5,
   "id": "826c5267",
   "metadata": {},
   "outputs": [],
   "source": [
    "def maxfunction(*args):\n",
    "    return max(args)"
   ]
  },
  {
   "cell_type": "code",
   "execution_count": 6,
   "id": "aa8f67c9",
   "metadata": {},
   "outputs": [
    {
     "data": {
      "text/plain": [
       "99"
      ]
     },
     "execution_count": 6,
     "metadata": {},
     "output_type": "execute_result"
    }
   ],
   "source": [
    "maxfunction(9,90,99,6,67,34)"
   ]
  },
  {
   "cell_type": "code",
   "execution_count": 7,
   "id": "a70a8f6d",
   "metadata": {},
   "outputs": [],
   "source": [
    "def minfunction(*args):\n",
    "    return min(args)"
   ]
  },
  {
   "cell_type": "code",
   "execution_count": 8,
   "id": "e704513c",
   "metadata": {},
   "outputs": [
    {
     "data": {
      "text/plain": [
       "1"
      ]
     },
     "execution_count": 8,
     "metadata": {},
     "output_type": "execute_result"
    }
   ],
   "source": [
    "minfunction(2,1,34,7,89,100,)"
   ]
  },
  {
   "cell_type": "code",
   "execution_count": 9,
   "id": "598bcb04",
   "metadata": {},
   "outputs": [],
   "source": [
    "def addf(*m):\n",
    "    return sum(m)"
   ]
  },
  {
   "cell_type": "code",
   "execution_count": 10,
   "id": "d2fde10a",
   "metadata": {},
   "outputs": [
    {
     "data": {
      "text/plain": [
       "220"
      ]
     },
     "execution_count": 10,
     "metadata": {},
     "output_type": "execute_result"
    }
   ],
   "source": [
    "addf(90,70,60)"
   ]
  },
  {
   "cell_type": "code",
   "execution_count": 15,
   "id": "c035e77d",
   "metadata": {},
   "outputs": [],
   "source": [
    "#s=s+n      for  s+=n\n",
    "\n",
    "def sumfunc(*numbers):\n",
    "    s=0\n",
    "    for n in numbers:\n",
    "        s+=n\n",
    "    return s"
   ]
  },
  {
   "cell_type": "code",
   "execution_count": 16,
   "id": "8bd0ff26",
   "metadata": {},
   "outputs": [
    {
     "name": "stdout",
     "output_type": "stream",
     "text": [
      "3\n"
     ]
    }
   ],
   "source": [
    "print (sumfunc(1,2))"
   ]
  },
  {
   "cell_type": "code",
   "execution_count": 17,
   "id": "40e73630",
   "metadata": {},
   "outputs": [
    {
     "name": "stdout",
     "output_type": "stream",
     "text": [
      "21\n"
     ]
    }
   ],
   "source": [
    "print(sumfunc(9,7,5))"
   ]
  },
  {
   "cell_type": "code",
   "execution_count": 24,
   "id": "bad051ce",
   "metadata": {},
   "outputs": [],
   "source": [
    "def subfunc(*numbers):\n",
    "    s=10\n",
    "    for n in numbers:\n",
    "        s-=n\n",
    "    return s"
   ]
  },
  {
   "cell_type": "code",
   "execution_count": 25,
   "id": "2446d6e4",
   "metadata": {},
   "outputs": [
    {
     "name": "stdout",
     "output_type": "stream",
     "text": [
      "-5\n"
     ]
    }
   ],
   "source": [
    "print(subfunc(9,6))"
   ]
  },
  {
   "cell_type": "code",
   "execution_count": 26,
   "id": "78bd9214",
   "metadata": {},
   "outputs": [
    {
     "name": "stdout",
     "output_type": "stream",
     "text": [
      "-5\n"
     ]
    }
   ],
   "source": [
    "print(subfunc(6,9))"
   ]
  },
  {
   "cell_type": "code",
   "execution_count": 27,
   "id": "5ce51713",
   "metadata": {},
   "outputs": [
    {
     "name": "stdout",
     "output_type": "stream",
     "text": [
      "-6\n"
     ]
    }
   ],
   "source": [
    "print(subfunc(12,4))"
   ]
  },
  {
   "cell_type": "code",
   "execution_count": 28,
   "id": "4e0445ac",
   "metadata": {},
   "outputs": [
    {
     "name": "stdout",
     "output_type": "stream",
     "text": [
      "1\n"
     ]
    }
   ],
   "source": [
    "print(subfunc(4,5))"
   ]
  },
  {
   "cell_type": "code",
   "execution_count": 30,
   "id": "30ed07c2",
   "metadata": {},
   "outputs": [
    {
     "name": "stdout",
     "output_type": "stream",
     "text": [
      "-52\n"
     ]
    }
   ],
   "source": [
    "print(subfunc(20,42))"
   ]
  },
  {
   "cell_type": "code",
   "execution_count": 35,
   "id": "3a74d82e",
   "metadata": {},
   "outputs": [],
   "source": [
    "def multfunc(*numbers):\n",
    "    s=2\n",
    "    for n in numbers:\n",
    "        s*=n\n",
    "    return s"
   ]
  },
  {
   "cell_type": "code",
   "execution_count": 36,
   "id": "3bfa6471",
   "metadata": {},
   "outputs": [
    {
     "name": "stdout",
     "output_type": "stream",
     "text": [
      "6\n"
     ]
    }
   ],
   "source": [
    "print(multfunc(1,3))"
   ]
  },
  {
   "cell_type": "code",
   "execution_count": 37,
   "id": "9a919143",
   "metadata": {},
   "outputs": [
    {
     "name": "stdout",
     "output_type": "stream",
     "text": [
      "24\n"
     ]
    }
   ],
   "source": [
    "print(multfunc(4,3))"
   ]
  },
  {
   "cell_type": "code",
   "execution_count": 38,
   "id": "ac5225d5",
   "metadata": {},
   "outputs": [
    {
     "name": "stdout",
     "output_type": "stream",
     "text": [
      "40\n"
     ]
    }
   ],
   "source": [
    "print(multfunc(5,4))"
   ]
  },
  {
   "cell_type": "code",
   "execution_count": null,
   "id": "0f8be101",
   "metadata": {},
   "outputs": [],
   "source": []
  }
 ],
 "metadata": {
  "kernelspec": {
   "display_name": "Python 3 (ipykernel)",
   "language": "python",
   "name": "python3"
  },
  "language_info": {
   "codemirror_mode": {
    "name": "ipython",
    "version": 3
   },
   "file_extension": ".py",
   "mimetype": "text/x-python",
   "name": "python",
   "nbconvert_exporter": "python",
   "pygments_lexer": "ipython3",
   "version": "3.9.12"
  }
 },
 "nbformat": 4,
 "nbformat_minor": 5
}
