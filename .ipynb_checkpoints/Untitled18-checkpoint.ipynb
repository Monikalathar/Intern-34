{
 "cells": [
  {
   "cell_type": "markdown",
   "id": "9ff74968",
   "metadata": {},
   "source": [
    "# INDEXING AND SLICING IN PANDAS"
   ]
  },
  {
   "cell_type": "code",
   "execution_count": null,
   "id": "edc6d7e0",
   "metadata": {},
   "outputs": [],
   "source": [
    "in dataframe their are location and index location\n",
    "df.lc[row:,A(column)]   df.loc[row:,'CD']\n",
    "iloc-----df.iloc[start:end,column-start:end]"
   ]
  },
  {
   "cell_type": "code",
   "execution_count": null,
   "id": "e095e1c8",
   "metadata": {},
   "outputs": [],
   "source": []
  }
 ],
 "metadata": {
  "kernelspec": {
   "display_name": "Python 3 (ipykernel)",
   "language": "python",
   "name": "python3"
  },
  "language_info": {
   "codemirror_mode": {
    "name": "ipython",
    "version": 3
   },
   "file_extension": ".py",
   "mimetype": "text/x-python",
   "name": "python",
   "nbconvert_exporter": "python",
   "pygments_lexer": "ipython3",
   "version": "3.9.12"
  }
 },
 "nbformat": 4,
 "nbformat_minor": 5
}
