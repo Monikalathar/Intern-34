{
 "cells": [
  {
   "cell_type": "markdown",
   "id": "8ccadcf4",
   "metadata": {},
   "source": [
    "User Defined functions"
   ]
  },
  {
   "cell_type": "code",
   "execution_count": 19,
   "id": "3d58a635",
   "metadata": {},
   "outputs": [],
   "source": [
    "def squareroot_func():\n",
    "        x=81\n",
    "        y=x**(1/2)\n",
    "        print(\"The square root of x=\",x,\"is\",y)"
   ]
  },
  {
   "cell_type": "code",
   "execution_count": 20,
   "id": "aab08c67",
   "metadata": {},
   "outputs": [
    {
     "name": "stdout",
     "output_type": "stream",
     "text": [
      "The square root of x= 81 is 9.0\n"
     ]
    }
   ],
   "source": [
    "squareroot_func()"
   ]
  },
  {
   "cell_type": "code",
   "execution_count": 22,
   "id": "dec86323",
   "metadata": {},
   "outputs": [],
   "source": [
    "def squareroot_func():\n",
    "        x=int(input(\"Enter any number\"))\n",
    "        y=x**(1/2)\n",
    "        print(\"The square root of x=\",x,\"is\",y)"
   ]
  },
  {
   "cell_type": "code",
   "execution_count": 10,
   "id": "78b1dde9",
   "metadata": {},
   "outputs": [
    {
     "name": "stdout",
     "output_type": "stream",
     "text": [
      "Enter any number36\n",
      "The square root of x= 36 is 6.0\n"
     ]
    }
   ],
   "source": [
    "squareroot_func()"
   ]
  },
  {
   "cell_type": "code",
   "execution_count": 28,
   "id": "1d8e98eb",
   "metadata": {},
   "outputs": [],
   "source": [
    "def area_of_circle():\n",
    "    pi=3.14\n",
    "    radius=int(input(\"Enter the radius\"))\n",
    "    area=pi*(radius**2)\n",
    "    print(\"The area of circle=\",area)\n",
    "    print(\"The area of circle=\",round(area,2))"
   ]
  },
  {
   "cell_type": "code",
   "execution_count": 29,
   "id": "5a83b809",
   "metadata": {},
   "outputs": [
    {
     "name": "stdout",
     "output_type": "stream",
     "text": [
      "Enter the radius89\n",
      "The area of circle= 24871.940000000002\n",
      "The area of circle= 24871.94\n"
     ]
    }
   ],
   "source": [
    "area_of_circle()\n"
   ]
  },
  {
   "cell_type": "code",
   "execution_count": 30,
   "id": "eeb6559c",
   "metadata": {},
   "outputs": [],
   "source": [
    "def sq():\n",
    "        x=int(input(\"Enter any number\"))\n",
    "        square_root=x**(1/2)\n",
    "        print(\"The square root of x=\",x,\"is\",square_root)\n",
    "        square=x**2\n",
    "        print(\"The square of x=\",x,\"is\",square)"
   ]
  },
  {
   "cell_type": "code",
   "execution_count": 31,
   "id": "f2504eef",
   "metadata": {},
   "outputs": [
    {
     "name": "stdout",
     "output_type": "stream",
     "text": [
      "Enter any number25\n",
      "The square root of x= 25 is 5.0\n",
      "The square of x= 25 is 625\n"
     ]
    }
   ],
   "source": [
    "sq()"
   ]
  },
  {
   "cell_type": "code",
   "execution_count": 32,
   "id": "086445d6",
   "metadata": {},
   "outputs": [],
   "source": [
    "g=7877.50000000"
   ]
  },
  {
   "cell_type": "code",
   "execution_count": 38,
   "id": "4fb228d3",
   "metadata": {},
   "outputs": [
    {
     "data": {
      "text/plain": [
       "7877.564"
      ]
     },
     "execution_count": 38,
     "metadata": {},
     "output_type": "execute_result"
    }
   ],
   "source": [
    "round(g,3)"
   ]
  },
  {
   "cell_type": "code",
   "execution_count": 43,
   "id": "bf407ced",
   "metadata": {},
   "outputs": [],
   "source": [
    "def area_rect():\n",
    "    l=float(input(\"Enter length\"))\n",
    "    b=float(input(\"Enter breadh\"))\n",
    "    area=l*b\n",
    "    print(area)\n",
    "    print(\"area=\",round(area,3))"
   ]
  },
  {
   "cell_type": "code",
   "execution_count": 44,
   "id": "6990065c",
   "metadata": {},
   "outputs": [
    {
     "name": "stdout",
     "output_type": "stream",
     "text": [
      "Enter length76.5543800369\n",
      "Enter breadh56.98765431\n",
      "4362.654545459222\n",
      "area= 4362.655\n"
     ]
    }
   ],
   "source": [
    "area_rect()"
   ]
  },
  {
   "cell_type": "markdown",
   "id": "06a53bd3",
   "metadata": {},
   "source": [
    "PARAMETERIC FUNCTIONS\n"
   ]
  },
  {
   "cell_type": "code",
   "execution_count": 47,
   "id": "8ff04e66",
   "metadata": {},
   "outputs": [],
   "source": [
    "def add_f():\n",
    "    a=10\n",
    "    b=20\n",
    "    result=a+b\n",
    "    print(\"result=\",result)"
   ]
  },
  {
   "cell_type": "code",
   "execution_count": 49,
   "id": "800efb07",
   "metadata": {},
   "outputs": [
    {
     "name": "stdout",
     "output_type": "stream",
     "text": [
      "result= 30\n"
     ]
    }
   ],
   "source": [
    "add_f()"
   ]
  },
  {
   "cell_type": "code",
   "execution_count": 52,
   "id": "0e5fdf57",
   "metadata": {},
   "outputs": [],
   "source": [
    "\n",
    "#a and b are arguments/parameters\n",
    "def add_f(a,b):\n",
    "    result=a+b\n",
    "    print(\"result=\",result)"
   ]
  },
  {
   "cell_type": "code",
   "execution_count": 53,
   "id": "16490847",
   "metadata": {},
   "outputs": [
    {
     "name": "stdout",
     "output_type": "stream",
     "text": [
      "result= 30\n"
     ]
    }
   ],
   "source": [
    "a=10\n",
    "b=20\n",
    "add_f(a,b)"
   ]
  },
  {
   "cell_type": "code",
   "execution_count": 54,
   "id": "79dbbf13",
   "metadata": {},
   "outputs": [],
   "source": [
    "def subtraction_f(a,b):\n",
    "    result=a-b\n",
    "    print(\"Result=\",result)"
   ]
  },
  {
   "cell_type": "code",
   "execution_count": 55,
   "id": "74f43f90",
   "metadata": {},
   "outputs": [
    {
     "name": "stdout",
     "output_type": "stream",
     "text": [
      "Result= 30\n"
     ]
    }
   ],
   "source": [
    "a=50\n",
    "b=20\n",
    "subtraction_f(a,b)"
   ]
  },
  {
   "cell_type": "code",
   "execution_count": 58,
   "id": "e9b19195",
   "metadata": {},
   "outputs": [],
   "source": [
    "def square_f(a):\n",
    "    s=a**2\n",
    "    print(\"The square is\",s)"
   ]
  },
  {
   "cell_type": "code",
   "execution_count": 59,
   "id": "69fcf2c4",
   "metadata": {},
   "outputs": [
    {
     "name": "stdout",
     "output_type": "stream",
     "text": [
      "The square is 49\n"
     ]
    }
   ],
   "source": [
    "a=7\n",
    "square_f(a)"
   ]
  },
  {
   "cell_type": "code",
   "execution_count": 60,
   "id": "228402a3",
   "metadata": {},
   "outputs": [],
   "source": [
    "def area_of_circle(radius):\n",
    "    pi=3.14\n",
    "    radius=int(input(\"Enter the radius\"))\n",
    "    area=pi*(radius**2)\n",
    "    print(\"The area of circle=\",area)\n",
    "    print(\"The area of circle=\",round(area,2))"
   ]
  },
  {
   "cell_type": "code",
   "execution_count": 67,
   "id": "1bd19420",
   "metadata": {},
   "outputs": [
    {
     "name": "stdout",
     "output_type": "stream",
     "text": [
      "Enter any radius44\n",
      "Enter the radius44\n",
      "The area of circle= 6079.04\n",
      "The area of circle= 6079.04\n"
     ]
    }
   ],
   "source": [
    "radius=int(input(\"Enter any radius\"))\n",
    "area_of_circle(radius)"
   ]
  },
  {
   "cell_type": "code",
   "execution_count": 65,
   "id": "89be98ae",
   "metadata": {},
   "outputs": [],
   "source": [
    "def add_func(a,b):\n",
    "    result=a+b\n",
    "    print(\"result=\",result)"
   ]
  },
  {
   "cell_type": "code",
   "execution_count": 66,
   "id": "4a1ad4d9",
   "metadata": {},
   "outputs": [
    {
     "name": "stdout",
     "output_type": "stream",
     "text": [
      "Enter any number a45\n",
      "Enter any number b65\n",
      "result= 110\n"
     ]
    }
   ],
   "source": [
    "a=int(input(\"Enter any number a\"))\n",
    "b=int(input(\"Enter any number b\"))\n",
    "add_func(a,b)"
   ]
  },
  {
   "cell_type": "code",
   "execution_count": 68,
   "id": "e499ea0e",
   "metadata": {},
   "outputs": [],
   "source": [
    "def square_func(x):\n",
    "        square_root=x**(1/2)\n",
    "        print(\"The square root of x=\",x,\"is\",square_root)\n",
    "        square=x**2\n",
    "        print(\"The square of x=\",x,\"is\",square)"
   ]
  },
  {
   "cell_type": "code",
   "execution_count": 69,
   "id": "ac6afe9c",
   "metadata": {},
   "outputs": [
    {
     "name": "stdout",
     "output_type": "stream",
     "text": [
      "Enter any value90\n",
      "The square root of x= 90 is 9.486832980505138\n",
      "The square of x= 90 is 8100\n"
     ]
    }
   ],
   "source": [
    "x=int(input(\"Enter any value\"))\n",
    "square_func(x)"
   ]
  },
  {
   "cell_type": "code",
   "execution_count": 116,
   "id": "f3a42888",
   "metadata": {},
   "outputs": [],
   "source": [
    "def multiplication_f(a,b):\n",
    "    result=a*b\n",
    "    print(\"result=\",result)    "
   ]
  },
  {
   "cell_type": "code",
   "execution_count": 117,
   "id": "9174f4dc",
   "metadata": {},
   "outputs": [
    {
     "name": "stdout",
     "output_type": "stream",
     "text": [
      "result= 48\n"
     ]
    }
   ],
   "source": [
    "a=12\n",
    "b=4\n",
    "multiplication_f(a,b)"
   ]
  },
  {
   "cell_type": "code",
   "execution_count": 83,
   "id": "c6cc231a",
   "metadata": {},
   "outputs": [],
   "source": [
    "def func1():\n",
    "    for i in range(1,11):\n",
    "        print(i)"
   ]
  },
  {
   "cell_type": "code",
   "execution_count": 84,
   "id": "b0f5e136",
   "metadata": {},
   "outputs": [
    {
     "name": "stdout",
     "output_type": "stream",
     "text": [
      "1\n",
      "2\n",
      "3\n",
      "4\n",
      "5\n",
      "6\n",
      "7\n",
      "8\n",
      "9\n",
      "10\n"
     ]
    }
   ],
   "source": [
    "func1()"
   ]
  },
  {
   "cell_type": "code",
   "execution_count": 90,
   "id": "8990372f",
   "metadata": {},
   "outputs": [],
   "source": [
    "def func2():\n",
    "    for i in range(5,50,5):\n",
    "         print(i)"
   ]
  },
  {
   "cell_type": "code",
   "execution_count": 91,
   "id": "62b9fd92",
   "metadata": {},
   "outputs": [
    {
     "name": "stdout",
     "output_type": "stream",
     "text": [
      "5\n",
      "10\n",
      "15\n",
      "20\n",
      "25\n",
      "30\n",
      "35\n",
      "40\n",
      "45\n"
     ]
    }
   ],
   "source": [
    "func2()"
   ]
  },
  {
   "cell_type": "code",
   "execution_count": 97,
   "id": "43d944d5",
   "metadata": {},
   "outputs": [],
   "source": [
    "def table_func1(x):\n",
    "    for i in range(1,11):\n",
    "        print(x,\"*\",i,\"=\",x*i)"
   ]
  },
  {
   "cell_type": "code",
   "execution_count": 100,
   "id": "3e67fd3a",
   "metadata": {},
   "outputs": [
    {
     "name": "stdout",
     "output_type": "stream",
     "text": [
      "Enter any number to generatr the table17\n",
      "17 * 1 = 17\n",
      "17 * 2 = 34\n",
      "17 * 3 = 51\n",
      "17 * 4 = 68\n",
      "17 * 5 = 85\n",
      "17 * 6 = 102\n",
      "17 * 7 = 119\n",
      "17 * 8 = 136\n",
      "17 * 9 = 153\n",
      "17 * 10 = 170\n"
     ]
    }
   ],
   "source": [
    "x=int(input(\"Enter any number to generatr the table\"))\n",
    "table_func1(x)"
   ]
  },
  {
   "cell_type": "code",
   "execution_count": 101,
   "id": "641f6284",
   "metadata": {},
   "outputs": [],
   "source": [
    "def test_f():\n",
    "    list1=[]\n",
    "    for i in range(1,7):\n",
    "        list1.append(i)\n",
    "    print(list1)"
   ]
  },
  {
   "cell_type": "code",
   "execution_count": 102,
   "id": "cc44f8c4",
   "metadata": {},
   "outputs": [
    {
     "name": "stdout",
     "output_type": "stream",
     "text": [
      "[1, 2, 3, 4, 5, 6]\n"
     ]
    }
   ],
   "source": [
    "test_f()"
   ]
  },
  {
   "cell_type": "code",
   "execution_count": 105,
   "id": "b35a7498",
   "metadata": {},
   "outputs": [],
   "source": [
    "def test_f():\n",
    "    list2=[]\n",
    "    for i in range(1,20):\n",
    "        list2.append(i)\n",
    "    print(list2)"
   ]
  },
  {
   "cell_type": "code",
   "execution_count": 106,
   "id": "9e81c33f",
   "metadata": {},
   "outputs": [
    {
     "name": "stdout",
     "output_type": "stream",
     "text": [
      "[1, 2, 3, 4, 5, 6, 7, 8, 9, 10, 11, 12, 13, 14, 15, 16, 17, 18, 19]\n"
     ]
    }
   ],
   "source": [
    "test_f()"
   ]
  },
  {
   "cell_type": "code",
   "execution_count": 110,
   "id": "dbfa1119",
   "metadata": {},
   "outputs": [],
   "source": [
    "def test_f1():\n",
    "    list3=[]\n",
    "    for i in ['A','B','C']:\n",
    "        list3.append(i)\n",
    "    print(\"List3=\",list3)"
   ]
  },
  {
   "cell_type": "code",
   "execution_count": 111,
   "id": "7c0ba119",
   "metadata": {},
   "outputs": [
    {
     "name": "stdout",
     "output_type": "stream",
     "text": [
      "List3= ['A', 'B', 'C']\n"
     ]
    }
   ],
   "source": [
    "test_f1()"
   ]
  },
  {
   "cell_type": "code",
   "execution_count": 114,
   "id": "e8039476",
   "metadata": {},
   "outputs": [],
   "source": [
    "def test_f2():\n",
    "    list4=[]\n",
    "    for i in range(5):\n",
    "        planetname=input(\"Enter any planet name\")\n",
    "        list4.append(planetname)\n",
    "    print(list4)"
   ]
  },
  {
   "cell_type": "code",
   "execution_count": 115,
   "id": "b4c91b6a",
   "metadata": {},
   "outputs": [
    {
     "name": "stdout",
     "output_type": "stream",
     "text": [
      "Enter any planet nameMercury\n",
      "Enter any planet nameVenus\n",
      "Enter any planet namemars\n",
      "Enter any planet nameSaturn\n",
      "Enter any planet nameEarth\n",
      "['Mercury', 'Venus', 'mars', 'Saturn', 'Earth']\n"
     ]
    }
   ],
   "source": [
    "test_f2()"
   ]
  },
  {
   "cell_type": "code",
   "execution_count": 123,
   "id": "c440623b",
   "metadata": {},
   "outputs": [],
   "source": [
    "def test_f3():\n",
    "    list1=[]\n",
    "    for i in range(20):\n",
    "        if i%2==0:\n",
    "             list1.append(i)\n",
    "    print(list1)\n",
    "        "
   ]
  },
  {
   "cell_type": "code",
   "execution_count": 124,
   "id": "b55cfaf0",
   "metadata": {},
   "outputs": [
    {
     "name": "stdout",
     "output_type": "stream",
     "text": [
      "[0, 2, 4, 6, 8, 10, 12, 14, 16, 18]\n"
     ]
    }
   ],
   "source": [
    "test_f3()"
   ]
  },
  {
   "cell_type": "code",
   "execution_count": 139,
   "id": "51b48334",
   "metadata": {},
   "outputs": [],
   "source": [
    "def test_f4():\n",
    "    list1=[]\n",
    "    for i in range(20):\n",
    "        if i%2!=0:\n",
    "            list1.append(i)\n",
    "    print(list1)"
   ]
  },
  {
   "cell_type": "code",
   "execution_count": 140,
   "id": "79e567f1",
   "metadata": {},
   "outputs": [
    {
     "name": "stdout",
     "output_type": "stream",
     "text": [
      "[1, 3, 5, 7, 9, 11, 13, 15, 17, 19]\n"
     ]
    }
   ],
   "source": [
    "test_f4()"
   ]
  },
  {
   "cell_type": "code",
   "execution_count": null,
   "id": "519e46e5",
   "metadata": {},
   "outputs": [],
   "source": []
  }
 ],
 "metadata": {
  "kernelspec": {
   "display_name": "Python 3 (ipykernel)",
   "language": "python",
   "name": "python3"
  },
  "language_info": {
   "codemirror_mode": {
    "name": "ipython",
    "version": 3
   },
   "file_extension": ".py",
   "mimetype": "text/x-python",
   "name": "python",
   "nbconvert_exporter": "python",
   "pygments_lexer": "ipython3",
   "version": "3.9.12"
  }
 },
 "nbformat": 4,
 "nbformat_minor": 5
}
