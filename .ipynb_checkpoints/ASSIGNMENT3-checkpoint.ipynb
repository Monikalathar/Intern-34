{
 "cells": [
  {
   "cell_type": "markdown",
   "id": "78078302",
   "metadata": {},
   "source": [
    "# ASSIGNMENT NO-3"
   ]
  },
  {
   "cell_type": "markdown",
   "id": "30fb988c",
   "metadata": {},
   "source": [
    "# Q.NO.1-Write a python program which searches all the product under a particular product from www.amazon.in. "
   ]
  },
  {
   "cell_type": "code",
   "execution_count": 1,
   "id": "1f3349c9",
   "metadata": {},
   "outputs": [
    {
     "name": "stdout",
     "output_type": "stream",
     "text": [
      "Requirement already satisfied: selenium in c:\\users\\admin\\anaconda3\\lib\\site-packages (4.7.2)\n",
      "Requirement already satisfied: certifi>=2021.10.8 in c:\\users\\admin\\anaconda3\\lib\\site-packages (from selenium) (2021.10.8)\n",
      "Requirement already satisfied: urllib3[socks]~=1.26 in c:\\users\\admin\\anaconda3\\lib\\site-packages (from selenium) (1.26.9)\n",
      "Requirement already satisfied: trio~=0.17 in c:\\users\\admin\\anaconda3\\lib\\site-packages (from selenium) (0.22.0)\n",
      "Requirement already satisfied: trio-websocket~=0.9 in c:\\users\\admin\\anaconda3\\lib\\site-packages (from selenium) (0.9.2)\n",
      "Requirement already satisfied: async-generator>=1.9 in c:\\users\\admin\\anaconda3\\lib\\site-packages (from trio~=0.17->selenium) (1.10)\n",
      "Requirement already satisfied: exceptiongroup>=1.0.0rc9 in c:\\users\\admin\\anaconda3\\lib\\site-packages (from trio~=0.17->selenium) (1.0.4)\n",
      "Requirement already satisfied: outcome in c:\\users\\admin\\anaconda3\\lib\\site-packages (from trio~=0.17->selenium) (1.2.0)\n",
      "Requirement already satisfied: sortedcontainers in c:\\users\\admin\\anaconda3\\lib\\site-packages (from trio~=0.17->selenium) (2.4.0)\n",
      "Requirement already satisfied: idna in c:\\users\\admin\\anaconda3\\lib\\site-packages (from trio~=0.17->selenium) (3.3)\n",
      "Requirement already satisfied: cffi>=1.14 in c:\\users\\admin\\anaconda3\\lib\\site-packages (from trio~=0.17->selenium) (1.15.0)\n",
      "Requirement already satisfied: attrs>=19.2.0 in c:\\users\\admin\\anaconda3\\lib\\site-packages (from trio~=0.17->selenium) (21.4.0)\n",
      "Requirement already satisfied: sniffio in c:\\users\\admin\\anaconda3\\lib\\site-packages (from trio~=0.17->selenium) (1.2.0)\n",
      "Requirement already satisfied: pycparser in c:\\users\\admin\\anaconda3\\lib\\site-packages (from cffi>=1.14->trio~=0.17->selenium) (2.21)\n",
      "Requirement already satisfied: wsproto>=0.14 in c:\\users\\admin\\anaconda3\\lib\\site-packages (from trio-websocket~=0.9->selenium) (1.2.0)\n",
      "Requirement already satisfied: PySocks!=1.5.7,<2.0,>=1.5.6 in c:\\users\\admin\\anaconda3\\lib\\site-packages (from urllib3[socks]~=1.26->selenium) (1.7.1)\n",
      "Requirement already satisfied: h11<1,>=0.9.0 in c:\\users\\admin\\anaconda3\\lib\\site-packages (from wsproto>=0.14->trio-websocket~=0.9->selenium) (0.14.0)\n"
     ]
    }
   ],
   "source": [
    "!pip install selenium"
   ]
  },
  {
   "cell_type": "code",
   "execution_count": 2,
   "id": "2515339f",
   "metadata": {},
   "outputs": [],
   "source": [
    "import selenium\n",
    "import pandas as pd\n",
    "from selenium import webdriver\n",
    "import warnings\n",
    "warnings.filterwarnings('ignore')\n",
    "from selenium.common.exceptions import StaleElementReferenceException, NoSuchElementException\n",
    "from selenium.webdriver.common.by import By\n",
    "import time"
   ]
  },
  {
   "cell_type": "code",
   "execution_count": 3,
   "id": "57ddf96b",
   "metadata": {},
   "outputs": [],
   "source": [
    "#Let first connect to the driver\n",
    "driver=webdriver.Chrome(r\"chromedriver.exe\")"
   ]
  },
  {
   "cell_type": "code",
   "execution_count": 13,
   "id": "169f6ef7",
   "metadata": {},
   "outputs": [],
   "source": [
    "#opening the amazon page on automated chrome browser\n",
    "driver.get(\"https://www.amazon.in//\")"
   ]
  },
  {
   "cell_type": "code",
   "execution_count": 14,
   "id": "7f5013d0",
   "metadata": {},
   "outputs": [],
   "source": [
    "product=driver.find_element(By.XPATH,\"/html/body/div[1]/header/div/div[1]/div[2]/div/form/div[3]/div/span/input\")\n",
    "product.send_keys('AC')"
   ]
  },
  {
   "cell_type": "code",
   "execution_count": 78,
   "id": "852f60a1",
   "metadata": {},
   "outputs": [],
   "source": [
    "#Creating empty lis\n",
    "product_name=[]"
   ]
  },
  {
   "cell_type": "code",
   "execution_count": 79,
   "id": "19312f1a",
   "metadata": {},
   "outputs": [],
   "source": [
    "# scraping product brand name from the given page\n",
    "product_names=driver.find_elements(By.XPATH,'//span[@class=\"a-size-medium a-color-base a-text-normal\"]')\n",
    "for i in product_names[0:10]:\n",
    "    product=i.text\n",
    "    product_name.append(product)\n",
    "    "
   ]
  },
  {
   "cell_type": "code",
   "execution_count": 80,
   "id": "7aa06c35",
   "metadata": {},
   "outputs": [
    {
     "data": {
      "text/plain": [
       "['LG 1.5 Ton 3 Star DUAL Inverter Split AC (Copper, Super Convertible 5-in-1 Cooling, HD Filter with Anti-Virus Protection, 2022 Model, PS-Q18RNXA1, White)',\n",
       " 'Blue Star 1.5 Ton 3 Star Inverter Split AC (Copper, Convertible 4-in-1 Cooling Mode, 2022 Model, IA318FNU, White)',\n",
       " 'Whirlpool 1.5 Ton 3 Star, Inverter Split AC (1.5T MAGICOOL CONVERT 3S COPR INV, White)',\n",
       " 'Lloyd 1.0 Ton 3 Star Inverter Split AC with Anti-Viral + PM 2.5 Filter (GLS12I3FWAVG, 100% Copper, Clean Filter Indication, Installation Check & Chrome Deco Strip), White with Chrome Deco Strip',\n",
       " 'LG 1.5 Ton 4 Star DUAL Inverter Split AC (Copper, Super Convertible 5-in-1 Cooling, HD Filter with Anti-Virus Protection, 2022 Model, PS-Q19ENYA, White)',\n",
       " 'Blue Star 1.5 Ton 3 Star Inverter Split AC (Copper, Convertible 4-in-1 Cooling Mode, 2022 Model, IA318FNU, White)',\n",
       " 'Whirlpool 1 Ton 3 Star Wi-Fi Inverter Split AC (Copper, 1.0T 3DCOOL ULTRA NXT WIFI 3S COPR INV), White Silver (SAI12K31D5P)',\n",
       " 'Panasonic 1.5 Ton 5 Star Wi-Fi Twin-Cool Inverter Split Air Conditioner (Copper, Auto Convertible, Shield Blu Anti-Corrosion Technology, 2022 Model, CS/CU-NU18XKYWA, White)',\n",
       " 'LG 1 Ton 3 Star DUAL Inverter Split AC (Copper, Super Convertible 5-in-1 Cooling, HD Filter with Anti-Virus Protection, 2022 Model, PS-Q12CNXA2, White)',\n",
       " 'Hitachi 1.5 Ton 5 Star Inverter Split AC (Copper, Dust Filter, 2022 Model, RSRG518HFEOZ1, White)']"
      ]
     },
     "execution_count": 80,
     "metadata": {},
     "output_type": "execute_result"
    }
   ],
   "source": [
    "product_name"
   ]
  },
  {
   "cell_type": "code",
   "execution_count": 81,
   "id": "11310d8b",
   "metadata": {},
   "outputs": [
    {
     "name": "stdout",
     "output_type": "stream",
     "text": [
      "10\n"
     ]
    }
   ],
   "source": [
    "print(len(product_name))"
   ]
  },
  {
   "cell_type": "code",
   "execution_count": 82,
   "id": "106ae483",
   "metadata": {},
   "outputs": [],
   "source": [
    "brand_name=[]"
   ]
  },
  {
   "cell_type": "code",
   "execution_count": 83,
   "id": "02aae2d2",
   "metadata": {},
   "outputs": [],
   "source": [
    "# scraping product brand name from the given page\n",
    "brand_names=driver.find_elements(By.XPATH,'//li[@class=\"a-spacing-micro\"]')\n",
    "for i in brand_names[0:10]:\n",
    "    brand=i.text\n",
    "    brand_name.append(brand)"
   ]
  },
  {
   "cell_type": "code",
   "execution_count": 84,
   "id": "460e2418",
   "metadata": {},
   "outputs": [
    {
     "data": {
      "text/plain": [
       "['Air Conditioners',\n",
       " 'LG',\n",
       " 'Daikin',\n",
       " 'Blue Star',\n",
       " 'Carrier',\n",
       " 'Voltas',\n",
       " 'Godrej',\n",
       " 'Panasonic',\n",
       " 'See more',\n",
       " '']"
      ]
     },
     "execution_count": 84,
     "metadata": {},
     "output_type": "execute_result"
    }
   ],
   "source": [
    "brand_name"
   ]
  },
  {
   "cell_type": "code",
   "execution_count": 85,
   "id": "a1a2dea6",
   "metadata": {},
   "outputs": [
    {
     "name": "stdout",
     "output_type": "stream",
     "text": [
      "10\n"
     ]
    }
   ],
   "source": [
    "print(len(brand_name))"
   ]
  },
  {
   "cell_type": "code",
   "execution_count": 86,
   "id": "9cf0697b",
   "metadata": {},
   "outputs": [
    {
     "data": {
      "text/html": [
       "<div>\n",
       "<style scoped>\n",
       "    .dataframe tbody tr th:only-of-type {\n",
       "        vertical-align: middle;\n",
       "    }\n",
       "\n",
       "    .dataframe tbody tr th {\n",
       "        vertical-align: top;\n",
       "    }\n",
       "\n",
       "    .dataframe thead th {\n",
       "        text-align: right;\n",
       "    }\n",
       "</style>\n",
       "<table border=\"1\" class=\"dataframe\">\n",
       "  <thead>\n",
       "    <tr style=\"text-align: right;\">\n",
       "      <th></th>\n",
       "      <th>Product_Name</th>\n",
       "      <th>Brand_Name</th>\n",
       "    </tr>\n",
       "  </thead>\n",
       "  <tbody>\n",
       "    <tr>\n",
       "      <th>0</th>\n",
       "      <td>LG 1.5 Ton 3 Star DUAL Inverter Split AC (Copp...</td>\n",
       "      <td>Air Conditioners</td>\n",
       "    </tr>\n",
       "    <tr>\n",
       "      <th>1</th>\n",
       "      <td>Blue Star 1.5 Ton 3 Star Inverter Split AC (Co...</td>\n",
       "      <td>LG</td>\n",
       "    </tr>\n",
       "    <tr>\n",
       "      <th>2</th>\n",
       "      <td>Whirlpool 1.5 Ton 3 Star, Inverter Split AC (1...</td>\n",
       "      <td>Daikin</td>\n",
       "    </tr>\n",
       "    <tr>\n",
       "      <th>3</th>\n",
       "      <td>Lloyd 1.0 Ton 3 Star Inverter Split AC with An...</td>\n",
       "      <td>Blue Star</td>\n",
       "    </tr>\n",
       "    <tr>\n",
       "      <th>4</th>\n",
       "      <td>LG 1.5 Ton 4 Star DUAL Inverter Split AC (Copp...</td>\n",
       "      <td>Carrier</td>\n",
       "    </tr>\n",
       "    <tr>\n",
       "      <th>5</th>\n",
       "      <td>Blue Star 1.5 Ton 3 Star Inverter Split AC (Co...</td>\n",
       "      <td>Voltas</td>\n",
       "    </tr>\n",
       "    <tr>\n",
       "      <th>6</th>\n",
       "      <td>Whirlpool 1 Ton 3 Star Wi-Fi Inverter Split AC...</td>\n",
       "      <td>Godrej</td>\n",
       "    </tr>\n",
       "    <tr>\n",
       "      <th>7</th>\n",
       "      <td>Panasonic 1.5 Ton 5 Star Wi-Fi Twin-Cool Inver...</td>\n",
       "      <td>Panasonic</td>\n",
       "    </tr>\n",
       "    <tr>\n",
       "      <th>8</th>\n",
       "      <td>LG 1 Ton 3 Star DUAL Inverter Split AC (Copper...</td>\n",
       "      <td>See more</td>\n",
       "    </tr>\n",
       "    <tr>\n",
       "      <th>9</th>\n",
       "      <td>Hitachi 1.5 Ton 5 Star Inverter Split AC (Copp...</td>\n",
       "      <td></td>\n",
       "    </tr>\n",
       "  </tbody>\n",
       "</table>\n",
       "</div>"
      ],
      "text/plain": [
       "                                        Product_Name        Brand_Name\n",
       "0  LG 1.5 Ton 3 Star DUAL Inverter Split AC (Copp...  Air Conditioners\n",
       "1  Blue Star 1.5 Ton 3 Star Inverter Split AC (Co...                LG\n",
       "2  Whirlpool 1.5 Ton 3 Star, Inverter Split AC (1...            Daikin\n",
       "3  Lloyd 1.0 Ton 3 Star Inverter Split AC with An...         Blue Star\n",
       "4  LG 1.5 Ton 4 Star DUAL Inverter Split AC (Copp...           Carrier\n",
       "5  Blue Star 1.5 Ton 3 Star Inverter Split AC (Co...            Voltas\n",
       "6  Whirlpool 1 Ton 3 Star Wi-Fi Inverter Split AC...            Godrej\n",
       "7  Panasonic 1.5 Ton 5 Star Wi-Fi Twin-Cool Inver...         Panasonic\n",
       "8  LG 1 Ton 3 Star DUAL Inverter Split AC (Copper...          See more\n",
       "9  Hitachi 1.5 Ton 5 Star Inverter Split AC (Copp...                  "
      ]
     },
     "execution_count": 86,
     "metadata": {},
     "output_type": "execute_result"
    }
   ],
   "source": [
    "#creating dataframe from the above data\n",
    "df=pd.DataFrame({'Product_Name':product_name[0:10],'Brand_Name':brand_name[0:10]})\n",
    "df"
   ]
  },
  {
   "cell_type": "code",
   "execution_count": 87,
   "id": "2675b16a",
   "metadata": {},
   "outputs": [],
   "source": [
    "product_price=[]\n",
    "brand_deli=[]"
   ]
  },
  {
   "cell_type": "code",
   "execution_count": 88,
   "id": "f93ab588",
   "metadata": {},
   "outputs": [],
   "source": [
    "# scraping product price name from the given page\n",
    "product_prices=driver.find_elements(By.XPATH,'//span[@class=\"a-price-whole\"]')\n",
    "for i in product_prices[0:10]:\n",
    "    product=i.text\n",
    "    product_price.append(product)\n",
    "    \n",
    "# scraping product delivery name from the given page\n",
    "brand_delis=driver.find_elements(By.XPATH,'//div[@class=\"a-row a-size-base a-color-secondary s-align-children-center\"]')\n",
    "for i in brand_delis[0:10]:\n",
    "    delivery=i.text\n",
    "    brand_deli.append(delivery)"
   ]
  },
  {
   "cell_type": "code",
   "execution_count": 89,
   "id": "a02974f6",
   "metadata": {},
   "outputs": [
    {
     "data": {
      "text/plain": [
       "['41,490',\n",
       " '35,990',\n",
       " '37,480',\n",
       " '36,490',\n",
       " '35,990',\n",
       " '32,490',\n",
       " '30,490',\n",
       " '37,990',\n",
       " '35,990',\n",
       " '30,990']"
      ]
     },
     "execution_count": 89,
     "metadata": {},
     "output_type": "execute_result"
    }
   ],
   "source": [
    "product_price"
   ]
  },
  {
   "cell_type": "code",
   "execution_count": 90,
   "id": "a078aba8",
   "metadata": {},
   "outputs": [
    {
     "data": {
      "text/plain": [
       "['FREE delivery by Sun, 18 Dec, 7:00 am - 9:00 pm',\n",
       " 'FREE delivery by Sun, 18 Dec, 7:00 am - 9:00 pm',\n",
       " 'FREE Delivery by Amazon',\n",
       " 'FREE delivery by Sun, 18 Dec, 7:00 am - 9:00 pm',\n",
       " 'FREE delivery by Sun, 18 Dec, 7:00 am - 9:00 pm',\n",
       " 'FREE delivery by Sun, 18 Dec, 7:00 am - 9:00 pm',\n",
       " 'FREE delivery by Sun, 18 Dec, 7:00 am - 9:00 pm',\n",
       " 'FREE delivery by Sun, 18 Dec, 7:00 am - 9:00 pm',\n",
       " 'FREE delivery by Sun, 18 Dec, 7:00 am - 9:00 pm',\n",
       " 'FREE delivery by Sun, 18 Dec, 7:00 am - 9:00 pm']"
      ]
     },
     "execution_count": 90,
     "metadata": {},
     "output_type": "execute_result"
    }
   ],
   "source": [
    "brand_deli"
   ]
  },
  {
   "cell_type": "code",
   "execution_count": 91,
   "id": "488129d0",
   "metadata": {},
   "outputs": [
    {
     "name": "stdout",
     "output_type": "stream",
     "text": [
      "10 10\n"
     ]
    }
   ],
   "source": [
    "print(len(product_price),len(brand_deli))"
   ]
  },
  {
   "cell_type": "code",
   "execution_count": 92,
   "id": "17f221bd",
   "metadata": {},
   "outputs": [
    {
     "data": {
      "text/plain": [
       "[<selenium.webdriver.remote.webelement.WebElement (session=\"9d2f22d07693574bf048b25ac8cdd4b3\", element=\"aaeb3fb7-85e4-494d-b6f5-130976f3130a\")>,\n",
       " <selenium.webdriver.remote.webelement.WebElement (session=\"9d2f22d07693574bf048b25ac8cdd4b3\", element=\"b0b1dcf6-fa2c-4bb5-861f-eda4f0c61be6\")>,\n",
       " <selenium.webdriver.remote.webelement.WebElement (session=\"9d2f22d07693574bf048b25ac8cdd4b3\", element=\"dea02eda-3ab8-4c55-9071-704f5bb02eed\")>,\n",
       " <selenium.webdriver.remote.webelement.WebElement (session=\"9d2f22d07693574bf048b25ac8cdd4b3\", element=\"681b02c9-b079-4091-a383-58990e52751c\")>,\n",
       " <selenium.webdriver.remote.webelement.WebElement (session=\"9d2f22d07693574bf048b25ac8cdd4b3\", element=\"8f8b1d55-9595-4d0c-825e-71f19258b8a4\")>,\n",
       " <selenium.webdriver.remote.webelement.WebElement (session=\"9d2f22d07693574bf048b25ac8cdd4b3\", element=\"85ee45f0-26c6-43af-8271-41d407545e26\")>,\n",
       " <selenium.webdriver.remote.webelement.WebElement (session=\"9d2f22d07693574bf048b25ac8cdd4b3\", element=\"77bc12e2-f213-41af-a68f-4038a6618368\")>,\n",
       " <selenium.webdriver.remote.webelement.WebElement (session=\"9d2f22d07693574bf048b25ac8cdd4b3\", element=\"b2647857-0182-4ffe-bc34-23272e428bdf\")>,\n",
       " <selenium.webdriver.remote.webelement.WebElement (session=\"9d2f22d07693574bf048b25ac8cdd4b3\", element=\"0d5b7df9-52d3-4c0d-8a97-182b3d4912ed\")>,\n",
       " <selenium.webdriver.remote.webelement.WebElement (session=\"9d2f22d07693574bf048b25ac8cdd4b3\", element=\"9347d1b9-9070-45c9-bd28-c6d9613f4ef0\")>]"
      ]
     },
     "execution_count": 92,
     "metadata": {},
     "output_type": "execute_result"
    }
   ],
   "source": [
    "#to fetching the url\n",
    "url=driver.find_elements(By.XPATH,'//a[@class=\"a-link-normal s-underline-text s-underline-link-text s-link-style a-text-normal\"]')\n",
    "url[0:10]"
   ]
  },
  {
   "cell_type": "code",
   "execution_count": 93,
   "id": "0e8d5e91",
   "metadata": {},
   "outputs": [
    {
     "name": "stdout",
     "output_type": "stream",
     "text": [
      "22\n"
     ]
    }
   ],
   "source": [
    "print(len(url))"
   ]
  },
  {
   "cell_type": "code",
   "execution_count": 94,
   "id": "0c9f1aad",
   "metadata": {},
   "outputs": [
    {
     "name": "stdout",
     "output_type": "stream",
     "text": [
      "https://www.amazon.in/sspa/click?ie=UTF8&spc=MToyMDk1NDQzNjU5OTMwNTk1OjE2NzExNjAwOTE6c3BfYXRmX25leHQ6MjAwOTY1OTI4ODIzOTg6OjA6Og&url=%2FLG-Convertible-Anti-Virus-Protection-PS-Q18RNXA1%2Fdp%2FB0BD5GC76Y%2Fref%3Dsr_1_17_sspa%3Fcrid%3D19MAGYQMOTBHT%26keywords%3Dac%26qid%3D1671160091%26sprefix%3D%252Caps%252C728%26sr%3D8-17-spons%26sp_csd%3Dd2lkZ2V0TmFtZT1zcF9hdGZfbmV4dA%26psc%3D1\n",
      "https://www.amazon.in/sspa/click?ie=UTF8&spc=MToyMDk1NDQzNjU5OTMwNTk1OjE2NzExNjAwOTE6c3BfYXRmX25leHQ6MjAwNjY3NDE1NTE0OTg6OjA6Og&url=%2FBlue-Star-Inverter-Convertible-IA318FNU%2Fdp%2FB09RG2SZVX%2Fref%3Dsr_1_18_sspa%3Fcrid%3D19MAGYQMOTBHT%26keywords%3Dac%26qid%3D1671160091%26sprefix%3D%252Caps%252C728%26sr%3D8-18-spons%26sp_csd%3Dd2lkZ2V0TmFtZT1zcF9hdGZfbmV4dA%26psc%3D1\n",
      "https://www.amazon.in/Whirlpool-Inverter-Split-MAGICOOL-CONVERT/dp/B09Q68GZS8/ref=sr_1_19?crid=19MAGYQMOTBHT&keywords=ac&qid=1671160091&sprefix=%2Caps%2C728&sr=8-19\n",
      "https://www.amazon.in/Lloyd-Anti-Viral-GLS12I3FWAVG-Indication-Installation/dp/B09TNRLJG6/ref=sr_1_20?crid=19MAGYQMOTBHT&keywords=ac&qid=1671160091&sprefix=%2Caps%2C728&sr=8-20\n",
      "https://www.amazon.in/LG-Convertible-Anti-Virus-Protection-PS-Q19ENYA/dp/B0BGM1RLVM/ref=sr_1_21?crid=19MAGYQMOTBHT&keywords=ac&qid=1671160091&sprefix=%2Caps%2C728&sr=8-21\n",
      "https://www.amazon.in/Whirlpool-Inverter-Copper-3DCOOL-SAI12K31D5P/dp/B0932T8RYT/ref=sr_1_22?crid=19MAGYQMOTBHT&keywords=ac&qid=1671160091&sprefix=%2Caps%2C728&sr=8-22\n",
      "https://www.amazon.in/Panasonic-Conditioner-Convertible-Anti-Corrosion-CU-NU18XKYWA/dp/B09R29RSFH/ref=sr_1_23?crid=19MAGYQMOTBHT&keywords=ac&qid=1671160091&sprefix=%2Caps%2C728&sr=8-23\n",
      "https://www.amazon.in/LG-Convertible-Anti-Virus-Protection-PS-Q12CNXA2/dp/B0BF17YLPC/ref=sr_1_24?crid=19MAGYQMOTBHT&keywords=ac&qid=1671160091&sprefix=%2Caps%2C728&sr=8-24\n",
      "https://www.amazon.in/Hitachi-Inverter-Copper-Filter-RSRG518HFEOZ1/dp/B09WDS5414/ref=sr_1_25?crid=19MAGYQMOTBHT&keywords=ac&qid=1671160091&sprefix=%2Caps%2C728&sr=8-25\n",
      "https://www.amazon.in/Panasonic-Conditioner-Convertible-Anti-Corrosion-CU-SU12XKYWA/dp/B09R3T1QLW/ref=sr_1_26?crid=19MAGYQMOTBHT&keywords=ac&qid=1671160091&sprefix=%2Caps%2C728&sr=8-26\n"
     ]
    }
   ],
   "source": [
    "for i in url[0:10]: #lets provide range to print only top 10 data\n",
    "    print(i.get_attribute('href'))"
   ]
  },
  {
   "cell_type": "code",
   "execution_count": 95,
   "id": "4bfebbab",
   "metadata": {},
   "outputs": [
    {
     "name": "stdout",
     "output_type": "stream",
     "text": [
      "22\n"
     ]
    }
   ],
   "source": [
    "print(len(url))"
   ]
  },
  {
   "cell_type": "code",
   "execution_count": 96,
   "id": "3124d58c",
   "metadata": {},
   "outputs": [],
   "source": [
    "# Navigating to the next page\n",
    "next_page=driver.find_element(By.XPATH,'//a[@class=\"s-pagination-item s-pagination-next s-pagination-button s-pagination-separator\"]')\n",
    "next_page.click()"
   ]
  },
  {
   "cell_type": "code",
   "execution_count": 97,
   "id": "139d44a7",
   "metadata": {},
   "outputs": [
    {
     "name": "stdout",
     "output_type": "stream",
     "text": [
      "10 10 10 22\n"
     ]
    }
   ],
   "source": [
    "print(len(brand_name),len(product_name),len(brand_deli),len(url))"
   ]
  },
  {
   "cell_type": "code",
   "execution_count": 98,
   "id": "fd4afa47",
   "metadata": {},
   "outputs": [
    {
     "data": {
      "text/html": [
       "<div>\n",
       "<style scoped>\n",
       "    .dataframe tbody tr th:only-of-type {\n",
       "        vertical-align: middle;\n",
       "    }\n",
       "\n",
       "    .dataframe tbody tr th {\n",
       "        vertical-align: top;\n",
       "    }\n",
       "\n",
       "    .dataframe thead th {\n",
       "        text-align: right;\n",
       "    }\n",
       "</style>\n",
       "<table border=\"1\" class=\"dataframe\">\n",
       "  <thead>\n",
       "    <tr style=\"text-align: right;\">\n",
       "      <th></th>\n",
       "      <th>Brand_Name</th>\n",
       "      <th>Name of The Product</th>\n",
       "      <th>Expected Delivery</th>\n",
       "    </tr>\n",
       "  </thead>\n",
       "  <tbody>\n",
       "    <tr>\n",
       "      <th>0</th>\n",
       "      <td>Air Conditioners</td>\n",
       "      <td>LG 1.5 Ton 3 Star DUAL Inverter Split AC (Copp...</td>\n",
       "      <td>FREE delivery by Sun, 18 Dec, 7:00 am - 9:00 pm</td>\n",
       "    </tr>\n",
       "    <tr>\n",
       "      <th>1</th>\n",
       "      <td>LG</td>\n",
       "      <td>Blue Star 1.5 Ton 3 Star Inverter Split AC (Co...</td>\n",
       "      <td>FREE delivery by Sun, 18 Dec, 7:00 am - 9:00 pm</td>\n",
       "    </tr>\n",
       "    <tr>\n",
       "      <th>2</th>\n",
       "      <td>Daikin</td>\n",
       "      <td>Whirlpool 1.5 Ton 3 Star, Inverter Split AC (1...</td>\n",
       "      <td>FREE Delivery by Amazon</td>\n",
       "    </tr>\n",
       "    <tr>\n",
       "      <th>3</th>\n",
       "      <td>Blue Star</td>\n",
       "      <td>Lloyd 1.0 Ton 3 Star Inverter Split AC with An...</td>\n",
       "      <td>FREE delivery by Sun, 18 Dec, 7:00 am - 9:00 pm</td>\n",
       "    </tr>\n",
       "    <tr>\n",
       "      <th>4</th>\n",
       "      <td>Carrier</td>\n",
       "      <td>LG 1.5 Ton 4 Star DUAL Inverter Split AC (Copp...</td>\n",
       "      <td>FREE delivery by Sun, 18 Dec, 7:00 am - 9:00 pm</td>\n",
       "    </tr>\n",
       "    <tr>\n",
       "      <th>5</th>\n",
       "      <td>Voltas</td>\n",
       "      <td>Blue Star 1.5 Ton 3 Star Inverter Split AC (Co...</td>\n",
       "      <td>FREE delivery by Sun, 18 Dec, 7:00 am - 9:00 pm</td>\n",
       "    </tr>\n",
       "    <tr>\n",
       "      <th>6</th>\n",
       "      <td>Godrej</td>\n",
       "      <td>Whirlpool 1 Ton 3 Star Wi-Fi Inverter Split AC...</td>\n",
       "      <td>FREE delivery by Sun, 18 Dec, 7:00 am - 9:00 pm</td>\n",
       "    </tr>\n",
       "    <tr>\n",
       "      <th>7</th>\n",
       "      <td>Panasonic</td>\n",
       "      <td>Panasonic 1.5 Ton 5 Star Wi-Fi Twin-Cool Inver...</td>\n",
       "      <td>FREE delivery by Sun, 18 Dec, 7:00 am - 9:00 pm</td>\n",
       "    </tr>\n",
       "    <tr>\n",
       "      <th>8</th>\n",
       "      <td>See more</td>\n",
       "      <td>LG 1 Ton 3 Star DUAL Inverter Split AC (Copper...</td>\n",
       "      <td>FREE delivery by Sun, 18 Dec, 7:00 am - 9:00 pm</td>\n",
       "    </tr>\n",
       "    <tr>\n",
       "      <th>9</th>\n",
       "      <td></td>\n",
       "      <td>Hitachi 1.5 Ton 5 Star Inverter Split AC (Copp...</td>\n",
       "      <td>FREE delivery by Sun, 18 Dec, 7:00 am - 9:00 pm</td>\n",
       "    </tr>\n",
       "  </tbody>\n",
       "</table>\n",
       "</div>"
      ],
      "text/plain": [
       "         Brand_Name                                Name of The Product  \\\n",
       "0  Air Conditioners  LG 1.5 Ton 3 Star DUAL Inverter Split AC (Copp...   \n",
       "1                LG  Blue Star 1.5 Ton 3 Star Inverter Split AC (Co...   \n",
       "2            Daikin  Whirlpool 1.5 Ton 3 Star, Inverter Split AC (1...   \n",
       "3         Blue Star  Lloyd 1.0 Ton 3 Star Inverter Split AC with An...   \n",
       "4           Carrier  LG 1.5 Ton 4 Star DUAL Inverter Split AC (Copp...   \n",
       "5            Voltas  Blue Star 1.5 Ton 3 Star Inverter Split AC (Co...   \n",
       "6            Godrej  Whirlpool 1 Ton 3 Star Wi-Fi Inverter Split AC...   \n",
       "7         Panasonic  Panasonic 1.5 Ton 5 Star Wi-Fi Twin-Cool Inver...   \n",
       "8          See more  LG 1 Ton 3 Star DUAL Inverter Split AC (Copper...   \n",
       "9                    Hitachi 1.5 Ton 5 Star Inverter Split AC (Copp...   \n",
       "\n",
       "                                 Expected Delivery  \n",
       "0  FREE delivery by Sun, 18 Dec, 7:00 am - 9:00 pm  \n",
       "1  FREE delivery by Sun, 18 Dec, 7:00 am - 9:00 pm  \n",
       "2                          FREE Delivery by Amazon  \n",
       "3  FREE delivery by Sun, 18 Dec, 7:00 am - 9:00 pm  \n",
       "4  FREE delivery by Sun, 18 Dec, 7:00 am - 9:00 pm  \n",
       "5  FREE delivery by Sun, 18 Dec, 7:00 am - 9:00 pm  \n",
       "6  FREE delivery by Sun, 18 Dec, 7:00 am - 9:00 pm  \n",
       "7  FREE delivery by Sun, 18 Dec, 7:00 am - 9:00 pm  \n",
       "8  FREE delivery by Sun, 18 Dec, 7:00 am - 9:00 pm  \n",
       "9  FREE delivery by Sun, 18 Dec, 7:00 am - 9:00 pm  "
      ]
     },
     "execution_count": 98,
     "metadata": {},
     "output_type": "execute_result"
    }
   ],
   "source": [
    "df=pd.DataFrame({'Brand_Name':brand_name[0:10],'Name of The Product':product_name[0:10],'Expected Delivery':brand_deli[0:10]})\n",
    "df"
   ]
  },
  {
   "cell_type": "markdown",
   "id": "e8022052",
   "metadata": {},
   "source": [
    "# Q.NO.3-Write a python program to access the search bar and search button on images.google.com and scrape 10 images each for keywords ‘fruits’, ‘cars’ and ‘Machine Learning’, ‘Guitar’, ‘Cakes’."
   ]
  },
  {
   "cell_type": "code",
   "execution_count": 2,
   "id": "554f4709",
   "metadata": {},
   "outputs": [
    {
     "name": "stdout",
     "output_type": "stream",
     "text": [
      "Requirement already satisfied: selenium in c:\\users\\admin\\anaconda3\\lib\\site-packages (4.7.2)\n",
      "Requirement already satisfied: certifi>=2021.10.8 in c:\\users\\admin\\anaconda3\\lib\\site-packages (from selenium) (2021.10.8)\n",
      "Requirement already satisfied: trio~=0.17 in c:\\users\\admin\\anaconda3\\lib\\site-packages (from selenium) (0.22.0)\n",
      "Requirement already satisfied: urllib3[socks]~=1.26 in c:\\users\\admin\\anaconda3\\lib\\site-packages (from selenium) (1.26.9)\n",
      "Requirement already satisfied: trio-websocket~=0.9 in c:\\users\\admin\\anaconda3\\lib\\site-packages (from selenium) (0.9.2)\n",
      "Requirement already satisfied: cffi>=1.14 in c:\\users\\admin\\anaconda3\\lib\\site-packages (from trio~=0.17->selenium) (1.15.0)\n",
      "Requirement already satisfied: outcome in c:\\users\\admin\\anaconda3\\lib\\site-packages (from trio~=0.17->selenium) (1.2.0)\n",
      "Requirement already satisfied: idna in c:\\users\\admin\\anaconda3\\lib\\site-packages (from trio~=0.17->selenium) (3.3)\n",
      "Requirement already satisfied: async-generator>=1.9 in c:\\users\\admin\\anaconda3\\lib\\site-packages (from trio~=0.17->selenium) (1.10)\n",
      "Requirement already satisfied: sortedcontainers in c:\\users\\admin\\anaconda3\\lib\\site-packages (from trio~=0.17->selenium) (2.4.0)\n",
      "Requirement already satisfied: attrs>=19.2.0 in c:\\users\\admin\\anaconda3\\lib\\site-packages (from trio~=0.17->selenium) (21.4.0)\n",
      "Requirement already satisfied: sniffio in c:\\users\\admin\\anaconda3\\lib\\site-packages (from trio~=0.17->selenium) (1.2.0)\n",
      "Requirement already satisfied: exceptiongroup>=1.0.0rc9 in c:\\users\\admin\\anaconda3\\lib\\site-packages (from trio~=0.17->selenium) (1.0.4)\n",
      "Requirement already satisfied: pycparser in c:\\users\\admin\\anaconda3\\lib\\site-packages (from cffi>=1.14->trio~=0.17->selenium) (2.21)\n",
      "Requirement already satisfied: wsproto>=0.14 in c:\\users\\admin\\anaconda3\\lib\\site-packages (from trio-websocket~=0.9->selenium) (1.2.0)\n",
      "Requirement already satisfied: PySocks!=1.5.7,<2.0,>=1.5.6 in c:\\users\\admin\\anaconda3\\lib\\site-packages (from urllib3[socks]~=1.26->selenium) (1.7.1)\n",
      "Requirement already satisfied: h11<1,>=0.9.0 in c:\\users\\admin\\anaconda3\\lib\\site-packages (from wsproto>=0.14->trio-websocket~=0.9->selenium) (0.14.0)\n"
     ]
    }
   ],
   "source": [
    "!pip install selenium"
   ]
  },
  {
   "cell_type": "code",
   "execution_count": 3,
   "id": "652fa1ea",
   "metadata": {},
   "outputs": [],
   "source": [
    "import selenium\n",
    "import pandas as pd\n",
    "from selenium import webdriver\n",
    "import warnings\n",
    "warnings.filterwarnings('ignore')\n",
    "from selenium.common.exceptions import StaleElementReferenceException, NoSuchElementException\n",
    "from selenium.webdriver.common.by import By\n",
    "import time"
   ]
  },
  {
   "cell_type": "code",
   "execution_count": 4,
   "id": "696a61ef",
   "metadata": {},
   "outputs": [],
   "source": [
    "#Let first connect to the driver\n",
    "driver=webdriver.Chrome(r\"chromedriver.exe\")"
   ]
  },
  {
   "cell_type": "code",
   "execution_count": 5,
   "id": "2b268d5c",
   "metadata": {},
   "outputs": [],
   "source": [
    "#opening the images page on automated chrome browser\n",
    "driver.get(\"https://images.google.com/\")"
   ]
  },
  {
   "cell_type": "code",
   "execution_count": 6,
   "id": "de679afa",
   "metadata": {},
   "outputs": [],
   "source": [
    "product=driver.find_element(By.XPATH,\"/html/body/div[1]/div[3]/form/div[1]/div[1]/div[1]/button\")\n",
    "product.send_keys('fruits')"
   ]
  },
  {
   "cell_type": "code",
   "execution_count": 17,
   "id": "ed59df3b",
   "metadata": {},
   "outputs": [],
   "source": [
    "#creating the empty list\n",
    "fruit_image=[]"
   ]
  },
  {
   "cell_type": "code",
   "execution_count": 18,
   "id": "085a4ec1",
   "metadata": {},
   "outputs": [],
   "source": [
    "# scraping images of fruits from the given page\n",
    "fruit_images=driver.find_elements(By.XPATH,'//div[@class=\" bRMDJf islir\"]')\n",
    "for i in fruit_images[0:10]:\n",
    "    fruit=i.text\n",
    "    fruit_image.append(fruit)"
   ]
  },
  {
   "cell_type": "code",
   "execution_count": 19,
   "id": "ee814a9d",
   "metadata": {},
   "outputs": [
    {
     "data": {
      "text/plain": [
       "['', '', '', '', '', '', '', '', '', '']"
      ]
     },
     "execution_count": 19,
     "metadata": {},
     "output_type": "execute_result"
    }
   ],
   "source": [
    "fruit_image"
   ]
  },
  {
   "cell_type": "code",
   "execution_count": 20,
   "id": "f96c415f",
   "metadata": {},
   "outputs": [
    {
     "name": "stdout",
     "output_type": "stream",
     "text": [
      "10\n"
     ]
    }
   ],
   "source": [
    "print(len(fruit_image))"
   ]
  },
  {
   "cell_type": "code",
   "execution_count": 21,
   "id": "79cf130b",
   "metadata": {},
   "outputs": [
    {
     "name": "stdout",
     "output_type": "stream",
     "text": [
      "data:image/jpeg;base64,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\n"
     ]
    }
   ],
   "source": [
    "img = driver.find_element(By.XPATH,\"/html/body/div[2]/c-wiz/div[3]/div[1]/div/div/div/div/div[1]/div[1]/span/div[1]/div[1]/div[3]/a[1]/div[1]/img\")\n",
    "src = img.get_attribute('src')\n",
    "print(src)"
   ]
  },
  {
   "cell_type": "markdown",
   "id": "f6539bcc",
   "metadata": {},
   "source": [
    "# Q.NO.4-Write a python program to search for a smartphone(e.g.: Oneplus Nord, pixel 4A, etc.) on www.flipkart.com"
   ]
  },
  {
   "cell_type": "code",
   "execution_count": 22,
   "id": "f0541188",
   "metadata": {},
   "outputs": [],
   "source": [
    "#Let first connect to the driver\n",
    "driver =webdriver.Chrome(r\"C:\\Users\\Admin\\Downloads\\chromedriver.exe\")"
   ]
  },
  {
   "cell_type": "code",
   "execution_count": null,
   "id": "2c50e25f",
   "metadata": {},
   "outputs": [],
   "source": [
    "#Let first connect to the driver\n",
    "driver=webdriver.Chrome(r\"chromedriver.exe\")"
   ]
  },
  {
   "cell_type": "code",
   "execution_count": null,
   "id": "da5cd36b",
   "metadata": {},
   "outputs": [],
   "source": [
    "#opening the flipkart page on automated chrome browser\n",
    "driver.get(\"https://www.flipkart.com/\")\n"
   ]
  },
  {
   "cell_type": "code",
   "execution_count": null,
   "id": "1667f916",
   "metadata": {},
   "outputs": [],
   "source": [
    "phone=driver.find_element(By.XPATH,\"/html/body/div[1]/div/div[1]/div[1]/div[2]/div[2]/form/div/div/input\")\n",
    "phone.send_keys('smartphone')"
   ]
  },
  {
   "cell_type": "code",
   "execution_count": null,
   "id": "011c9c2a",
   "metadata": {},
   "outputs": [],
   "source": [
    "search=driver.find_element(By.CLASS_NAME,\"_34RNph\")\n",
    "search.click()"
   ]
  }
 ],
 "metadata": {
  "kernelspec": {
   "display_name": "Python 3 (ipykernel)",
   "language": "python",
   "name": "python3"
  },
  "language_info": {
   "codemirror_mode": {
    "name": "ipython",
    "version": 3
   },
   "file_extension": ".py",
   "mimetype": "text/x-python",
   "name": "python",
   "nbconvert_exporter": "python",
   "pygments_lexer": "ipython3",
   "version": "3.9.12"
  }
 },
 "nbformat": 4,
 "nbformat_minor": 5
}
