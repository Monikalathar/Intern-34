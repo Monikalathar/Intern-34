{
 "cells": [
  {
   "cell_type": "markdown",
   "id": "743cfe6a",
   "metadata": {},
   "source": [
    "Break anf Continue"
   ]
  },
  {
   "cell_type": "code",
   "execution_count": 1,
   "id": "de79511b",
   "metadata": {},
   "outputs": [
    {
     "name": "stdout",
     "output_type": "stream",
     "text": [
      "Apple\n",
      "Mango\n",
      "Banana\n",
      "Grapes\n"
     ]
    }
   ],
   "source": [
    "for i in ['Apple','Mango','Banana','Grapes']:\n",
    "    print(i) "
   ]
  },
  {
   "cell_type": "code",
   "execution_count": 14,
   "id": "c936b49c",
   "metadata": {},
   "outputs": [
    {
     "name": "stdout",
     "output_type": "stream",
     "text": [
      "Apple\n",
      "Mango\n"
     ]
    }
   ],
   "source": [
    "for i in ['Apple','Mango','Banana','Grapes']:\n",
    "    if(i=='Banana'):\n",
    "        break\n",
    "    print(i)"
   ]
  },
  {
   "cell_type": "code",
   "execution_count": 13,
   "id": "48d2b914",
   "metadata": {},
   "outputs": [
    {
     "name": "stdout",
     "output_type": "stream",
     "text": [
      "Banana\n"
     ]
    }
   ],
   "source": [
    "for i in ['Apple','Mango','Banana','Grapes']:\n",
    "    if(i=='Banana'):\n",
    "        break\n",
    "print(i)"
   ]
  },
  {
   "cell_type": "code",
   "execution_count": 4,
   "id": "5fb4d245",
   "metadata": {},
   "outputs": [
    {
     "name": "stdout",
     "output_type": "stream",
     "text": [
      "100\n",
      "200\n",
      "300\n",
      "400\n",
      "500\n"
     ]
    }
   ],
   "source": [
    "for x in [100,200,300,400,500]:\n",
    "    print(x)"
   ]
  },
  {
   "cell_type": "code",
   "execution_count": 12,
   "id": "4f38e4da",
   "metadata": {},
   "outputs": [
    {
     "name": "stdout",
     "output_type": "stream",
     "text": [
      "100\n",
      "200\n"
     ]
    }
   ],
   "source": [
    "for x in [100,200,300,400,500]:\n",
    "    if(x==300):\n",
    "        break\n",
    "    print(x)    "
   ]
  },
  {
   "cell_type": "code",
   "execution_count": 16,
   "id": "efc5a32a",
   "metadata": {},
   "outputs": [
    {
     "name": "stdout",
     "output_type": "stream",
     "text": [
      "100\n",
      "200\n",
      "End of the loop\n"
     ]
    }
   ],
   "source": [
    "for x in [100,200,300,400,500]:\n",
    "    if(x==300):\n",
    "        break\n",
    "    print(x)\n",
    "    \n",
    "print(\"End of the loop\")\n",
    "    "
   ]
  },
  {
   "cell_type": "code",
   "execution_count": 17,
   "id": "3d758c0e",
   "metadata": {},
   "outputs": [
    {
     "name": "stdout",
     "output_type": "stream",
     "text": [
      "100\n",
      "End inside the loop\n",
      "200\n",
      "End inside the loop\n",
      "End outside the for loop\n"
     ]
    }
   ],
   "source": [
    "for x in [100,200,300,400,500]:\n",
    "    if(x==300):\n",
    "        break\n",
    "    print(x)\n",
    "    print(\"End inside the loop\")\n",
    "    \n",
    "print(\"End outside the for loop\")"
   ]
  },
  {
   "cell_type": "code",
   "execution_count": 18,
   "id": "1dc649e1",
   "metadata": {},
   "outputs": [
    {
     "name": "stdout",
     "output_type": "stream",
     "text": [
      "100\n",
      "End\n",
      "200\n",
      "End\n",
      "300\n",
      "End\n",
      "End outside the for loop\n"
     ]
    }
   ],
   "source": [
    "for x in [100,200,300,400,500]:\n",
    "    if(x==400):\n",
    "        break\n",
    "    print(x)\n",
    "    print(\"End\")\n",
    "    \n",
    "print(\"End outside the for loop\")"
   ]
  },
  {
   "cell_type": "code",
   "execution_count": 21,
   "id": "3a95ce50",
   "metadata": {},
   "outputs": [
    {
     "name": "stdout",
     "output_type": "stream",
     "text": [
      "1\n",
      "Inside the loop\n",
      "Hello\n",
      "2\n",
      "Inside the loop\n",
      "Hello\n",
      "3\n",
      "Inside the loop\n",
      "Hello\n",
      "4\n",
      "Inside the loop\n",
      "Hello\n",
      "5\n",
      "Inside the loop\n",
      "Hello\n",
      "6\n",
      "Inside the loop\n",
      "Hello\n",
      "Outside the loop\n"
     ]
    }
   ],
   "source": [
    "for p in [1,2,3,4,5,6]:\n",
    "    print(p)\n",
    "    print(\"Inside the loop\")\n",
    "    print(\"Hello\")\n",
    "    \n",
    "print(\"Outside the loop\")"
   ]
  },
  {
   "cell_type": "code",
   "execution_count": 22,
   "id": "b547a4b5",
   "metadata": {},
   "outputs": [
    {
     "name": "stdout",
     "output_type": "stream",
     "text": [
      "Apple\n",
      "Mango\n",
      "Grapes\n"
     ]
    }
   ],
   "source": [
    "for i in ['Apple','Mango','Banana','Grapes']:\n",
    "    if (i=='Banana'):\n",
    "        continue\n",
    "    print(i)"
   ]
  },
  {
   "cell_type": "code",
   "execution_count": 23,
   "id": "ec0d6f45",
   "metadata": {},
   "outputs": [
    {
     "name": "stdout",
     "output_type": "stream",
     "text": [
      "100\n",
      "200\n",
      "400\n",
      "500\n"
     ]
    }
   ],
   "source": [
    "for i in [100,200,300,400,500]:\n",
    "    if (i==300):\n",
    "        continue\n",
    "    print(i)"
   ]
  },
  {
   "cell_type": "code",
   "execution_count": 24,
   "id": "f1d89f2e",
   "metadata": {},
   "outputs": [
    {
     "name": "stdout",
     "output_type": "stream",
     "text": [
      "100\n",
      "200\n",
      "400\n",
      "500\n",
      "End of the loop\n"
     ]
    }
   ],
   "source": [
    "for i in [100,200,300,400,500]:\n",
    "    if (i==300):\n",
    "        continue\n",
    "    print(i)\n",
    "    \n",
    "print(\"End of the loop\")"
   ]
  },
  {
   "cell_type": "markdown",
   "id": "302faed5",
   "metadata": {},
   "source": [
    "List Comprehension"
   ]
  },
  {
   "cell_type": "code",
   "execution_count": 25,
   "id": "b5b3e997",
   "metadata": {},
   "outputs": [
    {
     "name": "stdout",
     "output_type": "stream",
     "text": [
      "[1, 2, 3, 4, 5]\n"
     ]
    }
   ],
   "source": [
    "list1=[1,2,3,4,5]\n",
    "\n",
    "m=[i for i in list1]\n",
    "\n",
    "print(m)"
   ]
  },
  {
   "cell_type": "code",
   "execution_count": 26,
   "id": "853817ca",
   "metadata": {},
   "outputs": [
    {
     "name": "stdout",
     "output_type": "stream",
     "text": [
      "[100, 200, 300]\n"
     ]
    }
   ],
   "source": [
    "list2=[100,200,300]\n",
    "\n",
    "d=[i for i in list2]\n",
    "print(d)"
   ]
  },
  {
   "cell_type": "code",
   "execution_count": 27,
   "id": "56c2f91b",
   "metadata": {},
   "outputs": [
    {
     "name": "stdout",
     "output_type": "stream",
     "text": [
      "[2, 4, 6, 8, 10]\n"
     ]
    }
   ],
   "source": [
    "list3=[1,2,3,4,5,6,7,8,9,10]\n",
    "\n",
    "d=[i for i in list3 if i%2==0]\n",
    "print(d)"
   ]
  },
  {
   "cell_type": "code",
   "execution_count": 28,
   "id": "e8df6cf2",
   "metadata": {},
   "outputs": [
    {
     "data": {
      "text/plain": [
       "[0, 1, 2, 3, 4, 5, 6, 7, 8, 9, 10, 11, 12, 13, 14, 15, 16, 17, 18, 19]"
      ]
     },
     "execution_count": 28,
     "metadata": {},
     "output_type": "execute_result"
    }
   ],
   "source": [
    "p=[i for i in range(21)]\n",
    "\n",
    "p"
   ]
  },
  {
   "cell_type": "code",
   "execution_count": 29,
   "id": "35389ae4",
   "metadata": {},
   "outputs": [
    {
     "data": {
      "text/plain": [
       "[0, 2, 4, 6, 8, 10, 12, 14, 16, 18]"
      ]
     },
     "execution_count": 29,
     "metadata": {},
     "output_type": "execute_result"
    }
   ],
   "source": [
    "p=[i for i in range(20) if i%2==0]\n",
    "\n",
    "p"
   ]
  },
  {
   "cell_type": "code",
   "execution_count": 30,
   "id": "7dae0d54",
   "metadata": {},
   "outputs": [
    {
     "data": {
      "text/plain": [
       "[1, 3, 5, 7, 9, 11, 13, 15, 17, 19]"
      ]
     },
     "execution_count": 30,
     "metadata": {},
     "output_type": "execute_result"
    }
   ],
   "source": [
    "p=[i for i in range(20) if i%2!=0]\n",
    "\n",
    "p"
   ]
  },
  {
   "cell_type": "code",
   "execution_count": 31,
   "id": "7c4bf76c",
   "metadata": {},
   "outputs": [
    {
     "data": {
      "text/plain": [
       "[0, 4, 16, 36, 64, 100, 144, 196, 256, 324, 400]"
      ]
     },
     "execution_count": 31,
     "metadata": {},
     "output_type": "execute_result"
    }
   ],
   "source": [
    "p=[i**2 for i in range(21) if i%2==0]\n",
    "\n",
    "p"
   ]
  },
  {
   "cell_type": "code",
   "execution_count": null,
   "id": "a7b899ca",
   "metadata": {},
   "outputs": [],
   "source": []
  }
 ],
 "metadata": {
  "kernelspec": {
   "display_name": "Python 3 (ipykernel)",
   "language": "python",
   "name": "python3"
  },
  "language_info": {
   "codemirror_mode": {
    "name": "ipython",
    "version": 3
   },
   "file_extension": ".py",
   "mimetype": "text/x-python",
   "name": "python",
   "nbconvert_exporter": "python",
   "pygments_lexer": "ipython3",
   "version": "3.9.12"
  }
 },
 "nbformat": 4,
 "nbformat_minor": 5
}
