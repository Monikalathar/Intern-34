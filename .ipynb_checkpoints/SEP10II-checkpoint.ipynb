{
 "cells": [
  {
   "cell_type": "markdown",
   "id": "cc23e46d",
   "metadata": {},
   "source": [
    "# PANDAS"
   ]
  },
  {
   "cell_type": "code",
   "execution_count": 2,
   "id": "5c64918e",
   "metadata": {},
   "outputs": [],
   "source": [
    "import pandas as pd"
   ]
  },
  {
   "cell_type": "code",
   "execution_count": 4,
   "id": "c55b0ad8",
   "metadata": {},
   "outputs": [],
   "source": [
    "a=pd.Series([1,2,3,4,5])"
   ]
  },
  {
   "cell_type": "code",
   "execution_count": 5,
   "id": "6dfc3383",
   "metadata": {},
   "outputs": [
    {
     "data": {
      "text/plain": [
       "0    1\n",
       "1    2\n",
       "2    3\n",
       "3    4\n",
       "4    5\n",
       "dtype: int64"
      ]
     },
     "execution_count": 5,
     "metadata": {},
     "output_type": "execute_result"
    }
   ],
   "source": [
    "a"
   ]
  },
  {
   "cell_type": "code",
   "execution_count": 6,
   "id": "d6634668",
   "metadata": {},
   "outputs": [],
   "source": [
    "b=pd.Series([10,20,30,40,50])"
   ]
  },
  {
   "cell_type": "code",
   "execution_count": 7,
   "id": "09590780",
   "metadata": {},
   "outputs": [
    {
     "data": {
      "text/plain": [
       "0    10\n",
       "1    20\n",
       "2    30\n",
       "3    40\n",
       "4    50\n",
       "dtype: int64"
      ]
     },
     "execution_count": 7,
     "metadata": {},
     "output_type": "execute_result"
    }
   ],
   "source": [
    "b"
   ]
  },
  {
   "cell_type": "code",
   "execution_count": 14,
   "id": "bc39b9db",
   "metadata": {},
   "outputs": [],
   "source": [
    "c=pd.Series([12,13,14,15,16],index=[100,200,300,400,500],dtype='int32')"
   ]
  },
  {
   "cell_type": "code",
   "execution_count": 15,
   "id": "4cb9b395",
   "metadata": {},
   "outputs": [
    {
     "data": {
      "text/plain": [
       "100    12\n",
       "200    13\n",
       "300    14\n",
       "400    15\n",
       "500    16\n",
       "dtype: int32"
      ]
     },
     "execution_count": 15,
     "metadata": {},
     "output_type": "execute_result"
    }
   ],
   "source": [
    "c"
   ]
  },
  {
   "cell_type": "code",
   "execution_count": 16,
   "id": "47df0d80",
   "metadata": {},
   "outputs": [
    {
     "data": {
      "text/plain": [
       "100    12.0\n",
       "200    13.0\n",
       "300    14.0\n",
       "400    15.0\n",
       "500    16.0\n",
       "dtype: float32"
      ]
     },
     "execution_count": 16,
     "metadata": {},
     "output_type": "execute_result"
    }
   ],
   "source": [
    "c=pd.Series([12,13,14,15,16],index=[100,200,300,400,500],dtype='float32')\n",
    "c"
   ]
  },
  {
   "cell_type": "code",
   "execution_count": 17,
   "id": "85a3ee37",
   "metadata": {},
   "outputs": [
    {
     "data": {
      "text/plain": [
       "id        1\n",
       "Nmae    AAA\n",
       "dtype: object"
      ]
     },
     "execution_count": 17,
     "metadata": {},
     "output_type": "execute_result"
    }
   ],
   "source": [
    "dict1={'id':1,'Nmae':'AAA'}\n",
    "\n",
    "p=pd.Series(dict1)\n",
    "p"
   ]
  },
  {
   "cell_type": "code",
   "execution_count": 18,
   "id": "fea91558",
   "metadata": {},
   "outputs": [
    {
     "data": {
      "text/plain": [
       "roll no              101\n",
       "Name       MONIKA LATHAR\n",
       "dtype: object"
      ]
     },
     "execution_count": 18,
     "metadata": {},
     "output_type": "execute_result"
    }
   ],
   "source": [
    "dict2={'roll no':101,'Name':'MONIKA LATHAR'}\n",
    "\n",
    "p=pd.Series(dict2)\n",
    "p"
   ]
  },
  {
   "cell_type": "code",
   "execution_count": 19,
   "id": "8493b618",
   "metadata": {},
   "outputs": [],
   "source": [
    "# Series(data,index,dtype)\n",
    "s = pd.Series([1,2,3,4,5],index=[11,12,13,14,15],dtype=float)"
   ]
  },
  {
   "cell_type": "code",
   "execution_count": 20,
   "id": "4a2441bc",
   "metadata": {},
   "outputs": [
    {
     "data": {
      "text/plain": [
       "11    1.0\n",
       "12    2.0\n",
       "13    3.0\n",
       "14    4.0\n",
       "15    5.0\n",
       "dtype: float64"
      ]
     },
     "execution_count": 20,
     "metadata": {},
     "output_type": "execute_result"
    }
   ],
   "source": [
    "s"
   ]
  },
  {
   "cell_type": "code",
   "execution_count": 21,
   "id": "f8a9d8cc",
   "metadata": {},
   "outputs": [
    {
     "name": "stdout",
     "output_type": "stream",
     "text": [
      "20\n"
     ]
    }
   ],
   "source": [
    "# accessing data from series\n",
    "s=pd.Series([20,34,56,78,98,65])\n",
    "print(s[0])"
   ]
  },
  {
   "cell_type": "code",
   "execution_count": 23,
   "id": "68d2f393",
   "metadata": {},
   "outputs": [
    {
     "data": {
      "text/plain": [
       "65"
      ]
     },
     "execution_count": 23,
     "metadata": {},
     "output_type": "execute_result"
    }
   ],
   "source": [
    "s[5]"
   ]
  },
  {
   "cell_type": "code",
   "execution_count": 24,
   "id": "735264f6",
   "metadata": {},
   "outputs": [
    {
     "name": "stdout",
     "output_type": "stream",
     "text": [
      "0    10\n",
      "1    20\n",
      "2    30\n",
      "3    40\n",
      "dtype: int64\n"
     ]
    }
   ],
   "source": [
    "# retrieve first three elements\n",
    "s=pd.Series([10,20,30,40,50,60,70,80])\n",
    "print(s[0:4])"
   ]
  },
  {
   "cell_type": "code",
   "execution_count": 25,
   "id": "015984c8",
   "metadata": {},
   "outputs": [
    {
     "data": {
      "text/plain": [
       "0    1\n",
       "1    2\n",
       "2    3\n",
       "3    4\n",
       "dtype: int32"
      ]
     },
     "execution_count": 25,
     "metadata": {},
     "output_type": "execute_result"
    }
   ],
   "source": [
    "#passing data from list\n",
    "import numpy as np\n",
    "data=np.array([1,2,3,4])\n",
    "m=pd.Series(data)\n",
    "m"
   ]
  },
  {
   "cell_type": "code",
   "execution_count": 27,
   "id": "ccf58d20",
   "metadata": {},
   "outputs": [
    {
     "data": {
      "text/plain": [
       "{'name': 'virat', 'runs': 243, 'innings': 3, 'balls': 56}"
      ]
     },
     "execution_count": 27,
     "metadata": {},
     "output_type": "execute_result"
    }
   ],
   "source": [
    "# Task create one dictionary object with crickter name and run and pass it to pandas series print\n",
    "ckr = {'name':'virat','runs':243,'innings': 3,'balls': 56}\n",
    "ckr"
   ]
  },
  {
   "cell_type": "code",
   "execution_count": 28,
   "id": "753510ae",
   "metadata": {},
   "outputs": [
    {
     "data": {
      "text/plain": [
       "name       virat\n",
       "runs         243\n",
       "innings        3\n",
       "balls         56\n",
       "dtype: object"
      ]
     },
     "execution_count": 28,
     "metadata": {},
     "output_type": "execute_result"
    }
   ],
   "source": [
    "s2 = pd.Series(ckr)\n",
    "s2"
   ]
  },
  {
   "cell_type": "markdown",
   "id": "09aab321",
   "metadata": {},
   "source": [
    "Data frame is a two dimensional data structure,i.e. data is aligned in a tabular fashion in rows and columns.\n",
    "\n",
    "Features ofdataframe:\n",
    "\n",
    "Potentially columns are of different types\n",
    "\n",
    "Size - Mutable\n",
    "\n",
    "Labeled axes (rows and columns)\n",
    "\n",
    "Can Perform Arithmatic operations on rown and columns\n",
    "\n",
    "pandas.FataFrame\n",
    "\n",
    "Apandas DaaFrame can be created using the following constructor -\n",
    "\n",
    "pandas.DataFrame(data,index,columns,dtype,copy)\n",
    "    "
   ]
  },
  {
   "cell_type": "markdown",
   "id": "15e74c4e",
   "metadata": {},
   "source": [
    "# PANDAS DATAFrame"
   ]
  },
  {
   "cell_type": "code",
   "execution_count": 2,
   "id": "fa51012b",
   "metadata": {},
   "outputs": [],
   "source": [
    "import pandas as pd"
   ]
  },
  {
   "cell_type": "code",
   "execution_count": 2,
   "id": "c1332b60",
   "metadata": {},
   "outputs": [
    {
     "data": {
      "text/html": [
       "<div>\n",
       "<style scoped>\n",
       "    .dataframe tbody tr th:only-of-type {\n",
       "        vertical-align: middle;\n",
       "    }\n",
       "\n",
       "    .dataframe tbody tr th {\n",
       "        vertical-align: top;\n",
       "    }\n",
       "\n",
       "    .dataframe thead th {\n",
       "        text-align: right;\n",
       "    }\n",
       "</style>\n",
       "<table border=\"1\" class=\"dataframe\">\n",
       "  <thead>\n",
       "    <tr style=\"text-align: right;\">\n",
       "      <th></th>\n",
       "      <th>0</th>\n",
       "    </tr>\n",
       "  </thead>\n",
       "  <tbody>\n",
       "    <tr>\n",
       "      <th>0</th>\n",
       "      <td>1</td>\n",
       "    </tr>\n",
       "    <tr>\n",
       "      <th>1</th>\n",
       "      <td>2</td>\n",
       "    </tr>\n",
       "    <tr>\n",
       "      <th>2</th>\n",
       "      <td>3</td>\n",
       "    </tr>\n",
       "    <tr>\n",
       "      <th>3</th>\n",
       "      <td>4</td>\n",
       "    </tr>\n",
       "  </tbody>\n",
       "</table>\n",
       "</div>"
      ],
      "text/plain": [
       "   0\n",
       "0  1\n",
       "1  2\n",
       "2  3\n",
       "3  4"
      ]
     },
     "execution_count": 2,
     "metadata": {},
     "output_type": "execute_result"
    }
   ],
   "source": [
    "data = [1,2,3,4]\n",
    "df=pd.DataFrame(data)\n",
    "df"
   ]
  },
  {
   "cell_type": "code",
   "execution_count": 4,
   "id": "b0d12c2d",
   "metadata": {},
   "outputs": [
    {
     "data": {
      "text/html": [
       "<div>\n",
       "<style scoped>\n",
       "    .dataframe tbody tr th:only-of-type {\n",
       "        vertical-align: middle;\n",
       "    }\n",
       "\n",
       "    .dataframe tbody tr th {\n",
       "        vertical-align: top;\n",
       "    }\n",
       "\n",
       "    .dataframe thead th {\n",
       "        text-align: right;\n",
       "    }\n",
       "</style>\n",
       "<table border=\"1\" class=\"dataframe\">\n",
       "  <thead>\n",
       "    <tr style=\"text-align: right;\">\n",
       "      <th></th>\n",
       "      <th>0</th>\n",
       "      <th>1</th>\n",
       "    </tr>\n",
       "  </thead>\n",
       "  <tbody>\n",
       "    <tr>\n",
       "      <th>0</th>\n",
       "      <td>Alex</td>\n",
       "      <td>10</td>\n",
       "    </tr>\n",
       "    <tr>\n",
       "      <th>1</th>\n",
       "      <td>Bob</td>\n",
       "      <td>12</td>\n",
       "    </tr>\n",
       "    <tr>\n",
       "      <th>2</th>\n",
       "      <td>Clarke</td>\n",
       "      <td>13</td>\n",
       "    </tr>\n",
       "  </tbody>\n",
       "</table>\n",
       "</div>"
      ],
      "text/plain": [
       "        0   1\n",
       "0    Alex  10\n",
       "1     Bob  12\n",
       "2  Clarke  13"
      ]
     },
     "execution_count": 4,
     "metadata": {},
     "output_type": "execute_result"
    }
   ],
   "source": [
    "data= [['Alex',10],['Bob',12],['Clarke',13]]\n",
    "df = pd.DataFrame(data)\n",
    "df"
   ]
  },
  {
   "cell_type": "code",
   "execution_count": 5,
   "id": "3f1c8fcf",
   "metadata": {},
   "outputs": [
    {
     "name": "stdout",
     "output_type": "stream",
     "text": [
      "     Name  Age\n",
      "0    Alex   10\n",
      "1     Bob   12\n",
      "2  Clarke   13\n"
     ]
    }
   ],
   "source": [
    "data= [['Alex',10],['Bob',12],['Clarke',13]]\n",
    "df = pd.DataFrame(data,columns=['Name','Age'])\n",
    "print(df)\n"
   ]
  },
  {
   "cell_type": "code",
   "execution_count": 6,
   "id": "14761e76",
   "metadata": {},
   "outputs": [
    {
     "name": "stdout",
     "output_type": "stream",
     "text": [
      "     Name   Age\n",
      "0    Alex  10.0\n",
      "1     Bob  12.0\n",
      "2  Clarke  13.0\n"
     ]
    },
    {
     "name": "stderr",
     "output_type": "stream",
     "text": [
      "C:\\Users\\Admin\\AppData\\Local\\Temp\\ipykernel_9532\\1607329982.py:2: FutureWarning: Could not cast to float64, falling back to object. This behavior is deprecated. In a future version, when a dtype is passed to 'DataFrame', either all columns will be cast to that dtype, or a TypeError will be raised.\n",
      "  df = pd.DataFrame(data,columns=['Name','Age'],dtype=float)\n"
     ]
    }
   ],
   "source": [
    "data= [['Alex',10],['Bob',12],['Clarke',13]]\n",
    "df = pd.DataFrame(data,columns=['Name','Age'],dtype=float)\n",
    "print(df)\n"
   ]
  },
  {
   "cell_type": "code",
   "execution_count": 7,
   "id": "5445e1a4",
   "metadata": {},
   "outputs": [
    {
     "name": "stdout",
     "output_type": "stream",
     "text": [
      "    Name  Age\n",
      "0    Tom   28\n",
      "1   Jack   34\n",
      "2  Steve   29\n",
      "3  Ricky   42\n"
     ]
    }
   ],
   "source": [
    "data = {'Name':['Tom','Jack','Steve','Ricky'],'Age':[28,34,29,42]}\n",
    "df = pd.DataFrame(data)\n",
    "print(df)"
   ]
  },
  {
   "cell_type": "code",
   "execution_count": 8,
   "id": "9608b79f",
   "metadata": {},
   "outputs": [
    {
     "name": "stdout",
     "output_type": "stream",
     "text": [
      "     a     b     c\n",
      "0  1.0   2.0   NaN\n",
      "1  5.0  10.0  20.0\n"
     ]
    }
   ],
   "source": [
    "#Note - Observe,NaN(Not a Number) is appended in missing areas.\n",
    "data = [{'a' : 1,'b' : 2},{'a' : 5, 'b' : 10,'c' : 20}]\n",
    "df = pd.DataFrame(data,dtype=float)\n",
    "print(df)\n"
   ]
  },
  {
   "cell_type": "code",
   "execution_count": 3,
   "id": "a2e70f4e",
   "metadata": {},
   "outputs": [
    {
     "name": "stdout",
     "output_type": "stream",
     "text": [
      "          a     b     c\n",
      "first   1.0   2.0   NaN\n",
      "second  5.0  10.0  20.0\n"
     ]
    }
   ],
   "source": [
    "data = [{'a' : 1,'b' : 2},{'a' : 5, 'b' : 10,'c' : 20}]\n",
    "df = pd.DataFrame(data,index=['first','second'],dtype=float)\n",
    "print(df)\n"
   ]
  },
  {
   "cell_type": "code",
   "execution_count": 4,
   "id": "e82c009b",
   "metadata": {},
   "outputs": [
    {
     "name": "stdout",
     "output_type": "stream",
     "text": [
      "        a   b\n",
      "first   1   2\n",
      "second  5  10\n"
     ]
    }
   ],
   "source": [
    "data = [{'a' : 1,'b' : 2},{'a' : 5, 'b' : 10,'c' : 20}]\n",
    "\n",
    "#with two column indices, values same as dictionary keys\n",
    "df1 = pd.DataFrame(data,index=['first','second'], columns=['a','b'])\n",
    "print(df1)"
   ]
  },
  {
   "cell_type": "code",
   "execution_count": 5,
   "id": "0554bbe0",
   "metadata": {},
   "outputs": [
    {
     "name": "stdout",
     "output_type": "stream",
     "text": [
      "        a  b1\n",
      "first   1 NaN\n",
      "second  5 NaN\n"
     ]
    }
   ],
   "source": [
    "#with two column indices with one index with other name\n",
    "df2 = pd.DataFrame(data,index=['first','second'], columns=['a','b1'])\n",
    "print(df2)"
   ]
  },
  {
   "cell_type": "raw",
   "id": "7b08afb6",
   "metadata": {},
   "source": [
    "#Addition of Rows\n",
    "#ADD new rows to a DataFrame using the append function.This function will append the rows at the end.\n",
    "df1 = pd.DtaFrame([[1,2], [3,4]], columns = ['a','b'])\n",
    "df2 = pd.DtaFrame([[5,6], [7,8]], columns = ['a','b'])\n",
    "\n",
    "\n",
    "df3 = df1.append(df2)\n",
    "print(df3)\n"
   ]
  },
  {
   "cell_type": "markdown",
   "id": "7b32c2f1",
   "metadata": {},
   "source": [
    "# Indexing and Slicing in PANDAS"
   ]
  },
  {
   "cell_type": "code",
   "execution_count": null,
   "id": "a4d3b522",
   "metadata": {},
   "outputs": [],
   "source": []
  }
 ],
 "metadata": {
  "kernelspec": {
   "display_name": "Python 3 (ipykernel)",
   "language": "python",
   "name": "python3"
  },
  "language_info": {
   "codemirror_mode": {
    "name": "ipython",
    "version": 3
   },
   "file_extension": ".py",
   "mimetype": "text/x-python",
   "name": "python",
   "nbconvert_exporter": "python",
   "pygments_lexer": "ipython3",
   "version": "3.9.12"
  }
 },
 "nbformat": 4,
 "nbformat_minor": 5
}
