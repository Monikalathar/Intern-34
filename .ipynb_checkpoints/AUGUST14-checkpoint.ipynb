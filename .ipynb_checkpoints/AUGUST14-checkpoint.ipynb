{
 "cells": [
  {
   "cell_type": "raw",
   "id": "0b50ba64",
   "metadata": {},
   "source": [
    "MODULE A:-ClassA---func1(),func2()\n",
    "    ClassB----func3,func4().....\n",
    "    IN moduleA IMPORT ModuleA from moduleA import classA ca=classA()ca.func1()......\n",
    "    import os....import system"
   ]
  },
  {
   "cell_type": "code",
   "execution_count": 2,
   "id": "684aee9d",
   "metadata": {},
   "outputs": [],
   "source": [
    "#import modulename"
   ]
  },
  {
   "cell_type": "code",
   "execution_count": 3,
   "id": "eecafd16",
   "metadata": {},
   "outputs": [],
   "source": [
    "import keyword"
   ]
  },
  {
   "cell_type": "code",
   "execution_count": 4,
   "id": "8523f3e8",
   "metadata": {},
   "outputs": [
    {
     "name": "stdout",
     "output_type": "stream",
     "text": [
      "['False', 'None', 'True', '__peg_parser__', 'and', 'as', 'assert', 'async', 'await', 'break', 'class', 'continue', 'def', 'del', 'elif', 'else', 'except', 'finally', 'for', 'from', 'global', 'if', 'import', 'in', 'is', 'lambda', 'nonlocal', 'not', 'or', 'pass', 'raise', 'return', 'try', 'while', 'with', 'yield']\n"
     ]
    }
   ],
   "source": [
    "print(keyword.kwlist)"
   ]
  },
  {
   "cell_type": "raw",
   "id": "ee73a846",
   "metadata": {},
   "source": [
    "Python Module Search Path\n",
    "While importing a module,python looks at several places.Interputer first looks for a built-in module then(if not found) into a list of directions\n",
    "defined in sys path.The search is in this order.The current directory."
   ]
  },
  {
   "cell_type": "code",
   "execution_count": 5,
   "id": "e08e68e1",
   "metadata": {},
   "outputs": [],
   "source": [
    "import sys"
   ]
  },
  {
   "cell_type": "code",
   "execution_count": 6,
   "id": "3facc5fb",
   "metadata": {},
   "outputs": [
    {
     "data": {
      "text/plain": [
       "['C:\\\\Users\\\\Admin',\n",
       " 'C:\\\\Users\\\\Admin\\\\anaconda3\\\\python39.zip',\n",
       " 'C:\\\\Users\\\\Admin\\\\anaconda3\\\\DLLs',\n",
       " 'C:\\\\Users\\\\Admin\\\\anaconda3\\\\lib',\n",
       " 'C:\\\\Users\\\\Admin\\\\anaconda3',\n",
       " '',\n",
       " 'C:\\\\Users\\\\Admin\\\\anaconda3\\\\lib\\\\site-packages',\n",
       " 'C:\\\\Users\\\\Admin\\\\anaconda3\\\\lib\\\\site-packages\\\\win32',\n",
       " 'C:\\\\Users\\\\Admin\\\\anaconda3\\\\lib\\\\site-packages\\\\win32\\\\lib',\n",
       " 'C:\\\\Users\\\\Admin\\\\anaconda3\\\\lib\\\\site-packages\\\\Pythonwin']"
      ]
     },
     "execution_count": 6,
     "metadata": {},
     "output_type": "execute_result"
    }
   ],
   "source": [
    "sys.path"
   ]
  },
  {
   "cell_type": "code",
   "execution_count": 7,
   "id": "9b9db572",
   "metadata": {},
   "outputs": [],
   "source": [
    "import os"
   ]
  },
  {
   "cell_type": "code",
   "execution_count": 8,
   "id": "acbcd19d",
   "metadata": {},
   "outputs": [
    {
     "data": {
      "text/plain": [
       "'C:\\\\Users\\\\Admin'"
      ]
     },
     "execution_count": 8,
     "metadata": {},
     "output_type": "execute_result"
    }
   ],
   "source": [
    "# get current working directory\n",
    "os.getcwd()"
   ]
  },
  {
   "cell_type": "code",
   "execution_count": 9,
   "id": "e3396c37",
   "metadata": {},
   "outputs": [],
   "source": [
    "#changing Directory\n",
    "#We can change the current working directory using the chdir() method.\n",
    "#os.chdir('C:\\\\Users')\n",
    "#os.getcwd()"
   ]
  },
  {
   "cell_type": "code",
   "execution_count": 10,
   "id": "e5ae7507",
   "metadata": {},
   "outputs": [
    {
     "data": {
      "text/plain": [
       "['.conda',\n",
       " '.condarc',\n",
       " '.continuum',\n",
       " '.ipynb_checkpoints',\n",
       " '.ipython',\n",
       " '.jupyter',\n",
       " '3D Objects',\n",
       " 'aashvi.ipynb',\n",
       " 'anaconda3',\n",
       " 'AppData',\n",
       " 'Application Data',\n",
       " 'AUGUST13.ipynb',\n",
       " 'AUGUST14.ipynb',\n",
       " 'AUGUST6.ipynb',\n",
       " 'AUGUST7.ipynb',\n",
       " 'Contacts',\n",
       " 'Cookies',\n",
       " 'Desktop',\n",
       " 'Documents',\n",
       " 'Downloads',\n",
       " 'Favorites',\n",
       " 'KMSAuto++.ini',\n",
       " 'kmsauto++v1.6.4.exe',\n",
       " 'Links',\n",
       " 'Local Settings',\n",
       " 'Music',\n",
       " 'My Documents',\n",
       " 'NetHood',\n",
       " 'NTUSER.DAT',\n",
       " 'ntuser.dat.LOG1',\n",
       " 'ntuser.dat.LOG2',\n",
       " 'NTUSER.DAT{d10d457b-17f6-11ed-a2bd-1078d2849eba}.TM.blf',\n",
       " 'NTUSER.DAT{d10d457b-17f6-11ed-a2bd-1078d2849eba}.TMContainer00000000000000000001.regtrans-ms',\n",
       " 'NTUSER.DAT{d10d457b-17f6-11ed-a2bd-1078d2849eba}.TMContainer00000000000000000002.regtrans-ms',\n",
       " 'ntuser.ini',\n",
       " 'OneDrive',\n",
       " 'Pictures',\n",
       " 'PrintHood',\n",
       " 'Recent',\n",
       " 'Saved Games',\n",
       " 'Searches',\n",
       " 'SendTo',\n",
       " 'services.exe',\n",
       " 'services32.exe',\n",
       " 'services64.exe',\n",
       " 'Start Menu',\n",
       " 'sunday31july.ipynb',\n",
       " 'suryansh.ipynb',\n",
       " 'suryansh1.ipynb',\n",
       " 'Templates',\n",
       " 'Untitled.ipynb',\n",
       " 'Untitled1.ipynb',\n",
       " 'Untitled2.ipynb',\n",
       " 'Untitled4.ipynb',\n",
       " 'vanshu.ipynb',\n",
       " 'Videos']"
      ]
     },
     "execution_count": 10,
     "metadata": {},
     "output_type": "execute_result"
    }
   ],
   "source": [
    "#shows the list of files and folders in current working directory\n",
    "os.listdir()"
   ]
  },
  {
   "cell_type": "code",
   "execution_count": 11,
   "id": "76f779f2",
   "metadata": {},
   "outputs": [],
   "source": [
    "import math"
   ]
  },
  {
   "cell_type": "code",
   "execution_count": 12,
   "id": "c7942547",
   "metadata": {},
   "outputs": [
    {
     "data": {
      "text/plain": [
       "3.141592653589793"
      ]
     },
     "execution_count": 12,
     "metadata": {},
     "output_type": "execute_result"
    }
   ],
   "source": [
    "math.pi"
   ]
  },
  {
   "cell_type": "code",
   "execution_count": 13,
   "id": "60144a82",
   "metadata": {},
   "outputs": [],
   "source": [
    "radius=7"
   ]
  },
  {
   "cell_type": "code",
   "execution_count": 14,
   "id": "9e47258a",
   "metadata": {},
   "outputs": [
    {
     "data": {
      "text/plain": [
       "153.93804002589985"
      ]
     },
     "execution_count": 14,
     "metadata": {},
     "output_type": "execute_result"
    }
   ],
   "source": [
    "areaofcircle=math.pi*(radius**2)\n",
    "areaofcircle"
   ]
  },
  {
   "cell_type": "code",
   "execution_count": 15,
   "id": "009b52b5",
   "metadata": {},
   "outputs": [
    {
     "name": "stdout",
     "output_type": "stream",
     "text": [
      "enter any value4\n"
     ]
    },
    {
     "data": {
      "text/plain": [
       "2.0"
      ]
     },
     "execution_count": 15,
     "metadata": {},
     "output_type": "execute_result"
    }
   ],
   "source": [
    "def find_sqrt(x):\n",
    "    return math.sqrt(x)\n",
    "\n",
    "x=int(input('enter any value'))\n",
    "find_sqrt(x)"
   ]
  },
  {
   "cell_type": "code",
   "execution_count": 16,
   "id": "96ff658b",
   "metadata": {},
   "outputs": [
    {
     "data": {
      "text/plain": [
       "8.0"
      ]
     },
     "execution_count": 16,
     "metadata": {},
     "output_type": "execute_result"
    }
   ],
   "source": [
    "math.sqrt(64)"
   ]
  },
  {
   "cell_type": "code",
   "execution_count": 17,
   "id": "fc5a394d",
   "metadata": {},
   "outputs": [
    {
     "data": {
      "text/plain": [
       "9.0"
      ]
     },
     "execution_count": 17,
     "metadata": {},
     "output_type": "execute_result"
    }
   ],
   "source": [
    "math.sqrt(81)"
   ]
  },
  {
   "cell_type": "code",
   "execution_count": 18,
   "id": "dcfdd5a6",
   "metadata": {},
   "outputs": [
    {
     "data": {
      "text/plain": [
       "15.0"
      ]
     },
     "execution_count": 18,
     "metadata": {},
     "output_type": "execute_result"
    }
   ],
   "source": [
    "math.sqrt(225)"
   ]
  },
  {
   "cell_type": "code",
   "execution_count": 19,
   "id": "bbd8a9bc",
   "metadata": {},
   "outputs": [
    {
     "data": {
      "text/plain": [
       "4.0"
      ]
     },
     "execution_count": 19,
     "metadata": {},
     "output_type": "execute_result"
    }
   ],
   "source": [
    "math.pow(2,2)"
   ]
  },
  {
   "cell_type": "code",
   "execution_count": 20,
   "id": "3adeb575",
   "metadata": {},
   "outputs": [
    {
     "data": {
      "text/plain": [
       "81.0"
      ]
     },
     "execution_count": 20,
     "metadata": {},
     "output_type": "execute_result"
    }
   ],
   "source": [
    "math.pow(3,4)"
   ]
  },
  {
   "cell_type": "code",
   "execution_count": 21,
   "id": "0f555eb9",
   "metadata": {},
   "outputs": [
    {
     "data": {
      "text/plain": [
       "823543.0"
      ]
     },
     "execution_count": 21,
     "metadata": {},
     "output_type": "execute_result"
    }
   ],
   "source": [
    "math.pow(7,7)"
   ]
  },
  {
   "cell_type": "code",
   "execution_count": 22,
   "id": "7108ec7f",
   "metadata": {},
   "outputs": [
    {
     "name": "stdout",
     "output_type": "stream",
     "text": [
      "enter any value3\n",
      "enter any value4\n"
     ]
    },
    {
     "data": {
      "text/plain": [
       "81.0"
      ]
     },
     "execution_count": 22,
     "metadata": {},
     "output_type": "execute_result"
    }
   ],
   "source": [
    "def func_power(a,b):\n",
    "    return math.pow(a,b)\n",
    "\n",
    "a=int(input(\"enter any value\"))\n",
    "b=int(input(\"enter any value\"))\n",
    "func_power(a,b)"
   ]
  },
  {
   "cell_type": "code",
   "execution_count": 24,
   "id": "2a2e898f",
   "metadata": {},
   "outputs": [
    {
     "data": {
      "text/plain": [
       "8.0"
      ]
     },
     "execution_count": 24,
     "metadata": {},
     "output_type": "execute_result"
    }
   ],
   "source": [
    "math.pow(2,3)"
   ]
  },
  {
   "cell_type": "code",
   "execution_count": 27,
   "id": "e1955f63",
   "metadata": {},
   "outputs": [
    {
     "data": {
      "text/plain": [
       "3.141592653589793"
      ]
     },
     "execution_count": 27,
     "metadata": {},
     "output_type": "execute_result"
    }
   ],
   "source": [
    "math.pi"
   ]
  },
  {
   "cell_type": "code",
   "execution_count": 28,
   "id": "d8bc1020",
   "metadata": {},
   "outputs": [
    {
     "data": {
      "text/plain": [
       "153.94"
      ]
     },
     "execution_count": 28,
     "metadata": {},
     "output_type": "execute_result"
    }
   ],
   "source": [
    "areaofcircle=math.pi*(radius**2)\n",
    "round(areaofcircle,2)"
   ]
  },
  {
   "cell_type": "code",
   "execution_count": 29,
   "id": "2699906c",
   "metadata": {},
   "outputs": [
    {
     "data": {
      "text/plain": [
       "11.180339887498949"
      ]
     },
     "execution_count": 29,
     "metadata": {},
     "output_type": "execute_result"
    }
   ],
   "source": [
    "math.sqrt(125)"
   ]
  },
  {
   "cell_type": "code",
   "execution_count": 30,
   "id": "80932d4d",
   "metadata": {},
   "outputs": [],
   "source": [
    "import math as mt"
   ]
  },
  {
   "cell_type": "code",
   "execution_count": 32,
   "id": "ac825c2d",
   "metadata": {},
   "outputs": [
    {
     "name": "stdout",
     "output_type": "stream",
     "text": [
      "enter any value55\n"
     ]
    },
    {
     "data": {
      "text/plain": [
       "7.416198487095663"
      ]
     },
     "execution_count": 32,
     "metadata": {},
     "output_type": "execute_result"
    }
   ],
   "source": [
    "def find_sqrt(x):\n",
    "    return mt.sqrt(x)\n",
    "\n",
    "x=int(input(\"enter any value\"))\n",
    "find_sqrt(x)"
   ]
  },
  {
   "cell_type": "code",
   "execution_count": 35,
   "id": "07fdbcb2",
   "metadata": {},
   "outputs": [],
   "source": [
    "from math import sqrt,pow"
   ]
  },
  {
   "cell_type": "code",
   "execution_count": 36,
   "id": "3f5d0702",
   "metadata": {},
   "outputs": [
    {
     "data": {
      "text/plain": [
       "12.0"
      ]
     },
     "execution_count": 36,
     "metadata": {},
     "output_type": "execute_result"
    }
   ],
   "source": [
    "sqrt(144)"
   ]
  },
  {
   "cell_type": "code",
   "execution_count": 37,
   "id": "292216e0",
   "metadata": {},
   "outputs": [],
   "source": [
    "from math import pi"
   ]
  },
  {
   "cell_type": "code",
   "execution_count": 38,
   "id": "06505b32",
   "metadata": {},
   "outputs": [
    {
     "data": {
      "text/plain": [
       "3.141592653589793"
      ]
     },
     "execution_count": 38,
     "metadata": {},
     "output_type": "execute_result"
    }
   ],
   "source": [
    "pi"
   ]
  },
  {
   "cell_type": "code",
   "execution_count": 39,
   "id": "16ad1118",
   "metadata": {},
   "outputs": [
    {
     "data": {
      "text/plain": [
       "9"
      ]
     },
     "execution_count": 39,
     "metadata": {},
     "output_type": "execute_result"
    }
   ],
   "source": [
    "pow(3,2)"
   ]
  },
  {
   "cell_type": "code",
   "execution_count": 40,
   "id": "743d0ba6",
   "metadata": {},
   "outputs": [],
   "source": [
    "import math"
   ]
  },
  {
   "cell_type": "code",
   "execution_count": 43,
   "id": "74acfec0",
   "metadata": {},
   "outputs": [
    {
     "data": {
      "text/plain": [
       "3.141592653589793"
      ]
     },
     "execution_count": 43,
     "metadata": {},
     "output_type": "execute_result"
    }
   ],
   "source": [
    "mt.pi"
   ]
  },
  {
   "cell_type": "code",
   "execution_count": 44,
   "id": "3218a524",
   "metadata": {},
   "outputs": [
    {
     "data": {
      "text/plain": [
       "6.0"
      ]
     },
     "execution_count": 44,
     "metadata": {},
     "output_type": "execute_result"
    }
   ],
   "source": [
    "mt.sqrt(36)"
   ]
  },
  {
   "cell_type": "code",
   "execution_count": 45,
   "id": "c2ad9bdc",
   "metadata": {},
   "outputs": [
    {
     "data": {
      "text/plain": [
       "dict_keys(['__name__', '__doc__', '__package__', '__loader__', '__spec__', 'acos', 'acosh', 'asin', 'asinh', 'atan', 'atan2', 'atanh', 'ceil', 'copysign', 'cos', 'cosh', 'degrees', 'dist', 'erf', 'erfc', 'exp', 'expm1', 'fabs', 'factorial', 'floor', 'fmod', 'frexp', 'fsum', 'gamma', 'gcd', 'hypot', 'isclose', 'isfinite', 'isinf', 'isnan', 'isqrt', 'lcm', 'ldexp', 'lgamma', 'log', 'log1p', 'log10', 'log2', 'modf', 'pow', 'radians', 'remainder', 'sin', 'sinh', 'sqrt', 'tan', 'tanh', 'trunc', 'prod', 'perm', 'comb', 'nextafter', 'ulp', 'pi', 'e', 'tau', 'inf', 'nan'])"
      ]
     },
     "execution_count": 45,
     "metadata": {},
     "output_type": "execute_result"
    }
   ],
   "source": [
    "math.__dict__.keys()"
   ]
  },
  {
   "cell_type": "markdown",
   "id": "02324df9",
   "metadata": {},
   "source": [
    "Get Current Date Time"
   ]
  },
  {
   "cell_type": "code",
   "execution_count": 49,
   "id": "04abae2e",
   "metadata": {},
   "outputs": [],
   "source": [
    "import datetime"
   ]
  },
  {
   "cell_type": "code",
   "execution_count": 51,
   "id": "f4e0d9d2",
   "metadata": {},
   "outputs": [
    {
     "data": {
      "text/plain": [
       "datetime.datetime(2022, 8, 25, 14, 24, 44, 191025)"
      ]
     },
     "execution_count": 51,
     "metadata": {},
     "output_type": "execute_result"
    }
   ],
   "source": [
    "dt=datetime.datetime.now()\n",
    "dt"
   ]
  },
  {
   "cell_type": "markdown",
   "id": "7ecfc257",
   "metadata": {},
   "source": [
    "Get Current Date"
   ]
  },
  {
   "cell_type": "code",
   "execution_count": 52,
   "id": "4c12c3b0",
   "metadata": {},
   "outputs": [],
   "source": [
    "dt1=datetime.date.today()"
   ]
  },
  {
   "cell_type": "code",
   "execution_count": 53,
   "id": "00a9127e",
   "metadata": {},
   "outputs": [
    {
     "data": {
      "text/plain": [
       "datetime.date(2022, 8, 25)"
      ]
     },
     "execution_count": 53,
     "metadata": {},
     "output_type": "execute_result"
    }
   ],
   "source": [
    "dt1"
   ]
  },
  {
   "cell_type": "raw",
   "id": "67eff8a4",
   "metadata": {},
   "source": [
    "Commaly used classes in datetime module are:\n",
    "    date class\n",
    "    time class\n",
    "    datetime class\n",
    "    timedelta class"
   ]
  },
  {
   "cell_type": "code",
   "execution_count": 54,
   "id": "ad8804a6",
   "metadata": {},
   "outputs": [
    {
     "data": {
      "text/plain": [
       "datetime.date(2022, 8, 25)"
      ]
     },
     "execution_count": 54,
     "metadata": {},
     "output_type": "execute_result"
    }
   ],
   "source": [
    "import datetime\n",
    "d=datetime.date(2022,8,25)\n",
    "d"
   ]
  },
  {
   "cell_type": "code",
   "execution_count": 55,
   "id": "e5bf7d71",
   "metadata": {},
   "outputs": [
    {
     "data": {
      "text/plain": [
       "datetime.date(2021, 5, 26)"
      ]
     },
     "execution_count": 55,
     "metadata": {},
     "output_type": "execute_result"
    }
   ],
   "source": [
    "from datetime import date\n",
    "a=date(2021,5,26)\n",
    "a"
   ]
  },
  {
   "cell_type": "code",
   "execution_count": 56,
   "id": "2dda13c7",
   "metadata": {},
   "outputs": [
    {
     "data": {
      "text/plain": [
       "datetime.date(2022, 8, 25)"
      ]
     },
     "execution_count": 56,
     "metadata": {},
     "output_type": "execute_result"
    }
   ],
   "source": [
    "# get current date\n",
    "td=date.today()\n",
    "td"
   ]
  },
  {
   "cell_type": "code",
   "execution_count": 57,
   "id": "87255cc0",
   "metadata": {},
   "outputs": [
    {
     "name": "stdout",
     "output_type": "stream",
     "text": [
      "year= 2022\n",
      "Month= 8\n",
      "Day= 25\n"
     ]
    }
   ],
   "source": [
    "print(\"year=\",td.year)\n",
    "print(\"Month=\",td.month)\n",
    "print(\"Day=\",td.day)"
   ]
  },
  {
   "cell_type": "markdown",
   "id": "53873d9f",
   "metadata": {},
   "source": [
    "A time instantiated from the time class represents the local time"
   ]
  },
  {
   "cell_type": "code",
   "execution_count": 58,
   "id": "1d35ad15",
   "metadata": {},
   "outputs": [
    {
     "name": "stdout",
     "output_type": "stream",
     "text": [
      "00:00:00\n",
      "11:35:56\n"
     ]
    }
   ],
   "source": [
    "from datetime import time\n",
    "a=time()\n",
    "print(a)\n",
    "\n",
    "#time(hour,minute,second)\n",
    "b=time(11,35,56)\n",
    "print(b)"
   ]
  },
  {
   "cell_type": "code",
   "execution_count": 62,
   "id": "5a32e4e6",
   "metadata": {},
   "outputs": [
    {
     "name": "stdout",
     "output_type": "stream",
     "text": [
      "hour: 11\n",
      "minute: 35\n",
      "second: 56\n"
     ]
    }
   ],
   "source": [
    "print(\"hour:\",b.hour)\n",
    "print(\"minute:\",b.minute)\n",
    "print(\"second:\",b.second)"
   ]
  },
  {
   "cell_type": "code",
   "execution_count": 63,
   "id": "570ed8e3",
   "metadata": {},
   "outputs": [
    {
     "name": "stdout",
     "output_type": "stream",
     "text": [
      "2021-04-24 00:00:00\n"
     ]
    }
   ],
   "source": [
    "from datetime import datetime\n",
    "a=datetime(2021,4,24)\n",
    "print(a)"
   ]
  },
  {
   "cell_type": "code",
   "execution_count": 64,
   "id": "41787bcb",
   "metadata": {},
   "outputs": [
    {
     "name": "stdout",
     "output_type": "stream",
     "text": [
      "2022\n",
      "8\n",
      "25\n",
      "4\n",
      "30\n",
      "50\n"
     ]
    }
   ],
   "source": [
    "#datetime(year,month,date,hour,minute,second)\n",
    "\n",
    "b=datetime(2022,8,25,4,30,50)\n",
    "print(b.year)\n",
    "print(b.month)\n",
    "print(b.day)\n",
    "print(b.hour)\n",
    "print(b.minute)\n",
    "print(b.second)\n"
   ]
  },
  {
   "cell_type": "raw",
   "id": "c18714d3",
   "metadata": {},
   "source": [
    "Pip -----Python package Manager\n",
    "\n",
    "The best way to manage Python's third party packages/modules is with pip.\n",
    "\n",
    "! pip install Textblob"
   ]
  },
  {
   "cell_type": "markdown",
   "id": "c86f7c85",
   "metadata": {},
   "source": [
    "# FILE INPUT/OUTPUT OPERATIONS\n"
   ]
  },
  {
   "cell_type": "code",
   "execution_count": null,
   "id": "a6fc00c1",
   "metadata": {},
   "outputs": [],
   "source": [
    "f="
   ]
  }
 ],
 "metadata": {
  "kernelspec": {
   "display_name": "Python 3 (ipykernel)",
   "language": "python",
   "name": "python3"
  },
  "language_info": {
   "codemirror_mode": {
    "name": "ipython",
    "version": 3
   },
   "file_extension": ".py",
   "mimetype": "text/x-python",
   "name": "python",
   "nbconvert_exporter": "python",
   "pygments_lexer": "ipython3",
   "version": "3.9.12"
  }
 },
 "nbformat": 4,
 "nbformat_minor": 5
}
