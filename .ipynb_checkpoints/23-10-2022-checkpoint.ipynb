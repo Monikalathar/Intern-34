{
 "cells": [
  {
   "cell_type": "markdown",
   "id": "e27edf5a",
   "metadata": {},
   "source": [
    "# MACHINE LEARNING"
   ]
  },
  {
   "cell_type": "code",
   "execution_count": null,
   "id": "8b6f8cd7",
   "metadata": {},
   "outputs": [],
   "source": [
    "FOR example :- when a child is inracting first time with their teacher,the child will not acqire anything\n",
    "    but after continus learning he will able to recognize the things slowly slowly.\n",
    "    \n",
    "    when i providing the questions to a child that is his training time,then i will take TEST of some questions(??),"
   ]
  }
 ],
 "metadata": {
  "kernelspec": {
   "display_name": "Python 3 (ipykernel)",
   "language": "python",
   "name": "python3"
  },
  "language_info": {
   "codemirror_mode": {
    "name": "ipython",
    "version": 3
   },
   "file_extension": ".py",
   "mimetype": "text/x-python",
   "name": "python",
   "nbconvert_exporter": "python",
   "pygments_lexer": "ipython3",
   "version": "3.9.12"
  }
 },
 "nbformat": 4,
 "nbformat_minor": 5
}
