{
 "cells": [
  {
   "cell_type": "markdown",
   "id": "9955bc0d",
   "metadata": {},
   "source": [
    "Anonymous (Lambda functions):--single line expression------test1=lambda x : x+2\n",
    "        t1(5,2)=7"
   ]
  },
  {
   "cell_type": "markdown",
   "id": "5e11d5dc",
   "metadata": {},
   "source": [
    "Lambda variable:expression \n",
    "    A lambda function is a small function containing a single expression.Lambda functions can also act as anonymous functions where they don't require any name.These are very helpful when we have to perform small tasks with less code.\n",
    "    The expression is composed of:\n",
    "    The keyword:lambda\n",
    "    Abound variable:x\n",
    "    Abody:x*2"
   ]
  },
  {
   "cell_type": "code",
   "execution_count": 1,
   "id": "cb19f864",
   "metadata": {},
   "outputs": [],
   "source": [
    "t1=lambda x:x+2"
   ]
  },
  {
   "cell_type": "code",
   "execution_count": 2,
   "id": "70b31e89",
   "metadata": {
    "scrolled": true
   },
   "outputs": [
    {
     "data": {
      "text/plain": [
       "4"
      ]
     },
     "execution_count": 2,
     "metadata": {},
     "output_type": "execute_result"
    }
   ],
   "source": [
    "t1(2)"
   ]
  },
  {
   "cell_type": "code",
   "execution_count": 3,
   "id": "765b83c1",
   "metadata": {},
   "outputs": [
    {
     "data": {
      "text/plain": [
       "10"
      ]
     },
     "execution_count": 3,
     "metadata": {},
     "output_type": "execute_result"
    }
   ],
   "source": [
    "t1(8)"
   ]
  },
  {
   "cell_type": "code",
   "execution_count": 4,
   "id": "6d4f7ff2",
   "metadata": {},
   "outputs": [],
   "source": [
    "t2=lambda x:x+6"
   ]
  },
  {
   "cell_type": "code",
   "execution_count": 5,
   "id": "f682cf7c",
   "metadata": {},
   "outputs": [
    {
     "data": {
      "text/plain": [
       "13"
      ]
     },
     "execution_count": 5,
     "metadata": {},
     "output_type": "execute_result"
    }
   ],
   "source": [
    "t2(7)"
   ]
  },
  {
   "cell_type": "code",
   "execution_count": 6,
   "id": "061411c9",
   "metadata": {},
   "outputs": [
    {
     "data": {
      "text/plain": [
       "106"
      ]
     },
     "execution_count": 6,
     "metadata": {},
     "output_type": "execute_result"
    }
   ],
   "source": [
    "t2(100)"
   ]
  },
  {
   "cell_type": "markdown",
   "id": "86f3eb9f",
   "metadata": {},
   "source": []
  },
  {
   "cell_type": "code",
   "execution_count": 7,
   "id": "28fc2f2b",
   "metadata": {},
   "outputs": [],
   "source": [
    "t3=lambda x:x*5"
   ]
  },
  {
   "cell_type": "code",
   "execution_count": 8,
   "id": "1fd4f57a",
   "metadata": {},
   "outputs": [
    {
     "data": {
      "text/plain": [
       "60"
      ]
     },
     "execution_count": 8,
     "metadata": {},
     "output_type": "execute_result"
    }
   ],
   "source": [
    "t3(12)"
   ]
  },
  {
   "cell_type": "code",
   "execution_count": 9,
   "id": "824e2271",
   "metadata": {},
   "outputs": [],
   "source": [
    "t4=lambda y:y+10"
   ]
  },
  {
   "cell_type": "code",
   "execution_count": 10,
   "id": "c4383c29",
   "metadata": {},
   "outputs": [
    {
     "data": {
      "text/plain": [
       "30"
      ]
     },
     "execution_count": 10,
     "metadata": {},
     "output_type": "execute_result"
    }
   ],
   "source": [
    "t4(20)"
   ]
  },
  {
   "cell_type": "code",
   "execution_count": 11,
   "id": "ea8e5c4f",
   "metadata": {},
   "outputs": [
    {
     "data": {
      "text/plain": [
       "210"
      ]
     },
     "execution_count": 11,
     "metadata": {},
     "output_type": "execute_result"
    }
   ],
   "source": [
    "t4(200)"
   ]
  },
  {
   "cell_type": "code",
   "execution_count": 12,
   "id": "340f0a2b",
   "metadata": {},
   "outputs": [
    {
     "data": {
      "text/plain": [
       "99"
      ]
     },
     "execution_count": 12,
     "metadata": {},
     "output_type": "execute_result"
    }
   ],
   "source": [
    "t4(89)"
   ]
  },
  {
   "cell_type": "code",
   "execution_count": 13,
   "id": "9ea41e41",
   "metadata": {},
   "outputs": [],
   "source": [
    "t5=lambda y:y**2"
   ]
  },
  {
   "cell_type": "code",
   "execution_count": 14,
   "id": "6fa1ef9b",
   "metadata": {},
   "outputs": [
    {
     "data": {
      "text/plain": [
       "81"
      ]
     },
     "execution_count": 14,
     "metadata": {},
     "output_type": "execute_result"
    }
   ],
   "source": [
    "t5(9)"
   ]
  },
  {
   "cell_type": "code",
   "execution_count": 15,
   "id": "a0d120cf",
   "metadata": {},
   "outputs": [
    {
     "data": {
      "text/plain": [
       "484"
      ]
     },
     "execution_count": 15,
     "metadata": {},
     "output_type": "execute_result"
    }
   ],
   "source": [
    "t5(22)"
   ]
  },
  {
   "cell_type": "code",
   "execution_count": 16,
   "id": "8fc52a02",
   "metadata": {},
   "outputs": [],
   "source": [
    "t6=lambda y:y**3"
   ]
  },
  {
   "cell_type": "code",
   "execution_count": 17,
   "id": "010f406a",
   "metadata": {},
   "outputs": [
    {
     "data": {
      "text/plain": [
       "8"
      ]
     },
     "execution_count": 17,
     "metadata": {},
     "output_type": "execute_result"
    }
   ],
   "source": [
    "t6(2)"
   ]
  },
  {
   "cell_type": "code",
   "execution_count": 18,
   "id": "22d33657",
   "metadata": {},
   "outputs": [],
   "source": [
    "t7=lambda x,y:x+y"
   ]
  },
  {
   "cell_type": "code",
   "execution_count": 19,
   "id": "6a05ddc3",
   "metadata": {},
   "outputs": [
    {
     "data": {
      "text/plain": [
       "4"
      ]
     },
     "execution_count": 19,
     "metadata": {},
     "output_type": "execute_result"
    }
   ],
   "source": [
    "t7(2,2)"
   ]
  },
  {
   "cell_type": "code",
   "execution_count": 20,
   "id": "a3934f4e",
   "metadata": {},
   "outputs": [
    {
     "data": {
      "text/plain": [
       "12"
      ]
     },
     "execution_count": 20,
     "metadata": {},
     "output_type": "execute_result"
    }
   ],
   "source": [
    "t7(8,4)"
   ]
  },
  {
   "cell_type": "code",
   "execution_count": 21,
   "id": "6220501b",
   "metadata": {},
   "outputs": [
    {
     "data": {
      "text/plain": [
       "95"
      ]
     },
     "execution_count": 21,
     "metadata": {},
     "output_type": "execute_result"
    }
   ],
   "source": [
    "t7(50,45)"
   ]
  },
  {
   "cell_type": "code",
   "execution_count": 22,
   "id": "f83fa3af",
   "metadata": {},
   "outputs": [],
   "source": [
    "t8=lambda x,y:x*y"
   ]
  },
  {
   "cell_type": "code",
   "execution_count": 23,
   "id": "e25474c5",
   "metadata": {},
   "outputs": [
    {
     "data": {
      "text/plain": [
       "12"
      ]
     },
     "execution_count": 23,
     "metadata": {},
     "output_type": "execute_result"
    }
   ],
   "source": [
    "t8(4,3)"
   ]
  },
  {
   "cell_type": "code",
   "execution_count": 24,
   "id": "7a4a0874",
   "metadata": {},
   "outputs": [
    {
     "data": {
      "text/plain": [
       "5850"
      ]
     },
     "execution_count": 24,
     "metadata": {},
     "output_type": "execute_result"
    }
   ],
   "source": [
    "t8(90,65)"
   ]
  },
  {
   "cell_type": "code",
   "execution_count": 25,
   "id": "a4f95278",
   "metadata": {},
   "outputs": [],
   "source": [
    "t9=lambda p:p**2"
   ]
  },
  {
   "cell_type": "code",
   "execution_count": 26,
   "id": "953eddb3",
   "metadata": {},
   "outputs": [
    {
     "data": {
      "text/plain": [
       "16"
      ]
     },
     "execution_count": 26,
     "metadata": {},
     "output_type": "execute_result"
    }
   ],
   "source": [
    "t9(4)"
   ]
  },
  {
   "cell_type": "code",
   "execution_count": 27,
   "id": "b9b0877f",
   "metadata": {},
   "outputs": [
    {
     "data": {
      "text/plain": [
       "8100"
      ]
     },
     "execution_count": 27,
     "metadata": {},
     "output_type": "execute_result"
    }
   ],
   "source": [
    "t9(90)"
   ]
  },
  {
   "cell_type": "code",
   "execution_count": 28,
   "id": "4b2742e3",
   "metadata": {},
   "outputs": [],
   "source": [
    "t10=lambda s:s**4"
   ]
  },
  {
   "cell_type": "code",
   "execution_count": 29,
   "id": "6bb6f197",
   "metadata": {},
   "outputs": [
    {
     "data": {
      "text/plain": [
       "81"
      ]
     },
     "execution_count": 29,
     "metadata": {},
     "output_type": "execute_result"
    }
   ],
   "source": [
    "t10(3)"
   ]
  },
  {
   "cell_type": "code",
   "execution_count": 30,
   "id": "e266483b",
   "metadata": {},
   "outputs": [],
   "source": [
    "t11=lambda m:m**(1/2)"
   ]
  },
  {
   "cell_type": "code",
   "execution_count": 31,
   "id": "df9be274",
   "metadata": {},
   "outputs": [
    {
     "data": {
      "text/plain": [
       "6.0"
      ]
     },
     "execution_count": 31,
     "metadata": {},
     "output_type": "execute_result"
    }
   ],
   "source": [
    "t11(36)"
   ]
  },
  {
   "cell_type": "code",
   "execution_count": 32,
   "id": "fa92960c",
   "metadata": {},
   "outputs": [],
   "source": [
    "t12=lambda y,z:z/y"
   ]
  },
  {
   "cell_type": "code",
   "execution_count": 33,
   "id": "3e492820",
   "metadata": {},
   "outputs": [
    {
     "data": {
      "text/plain": [
       "0.5"
      ]
     },
     "execution_count": 33,
     "metadata": {},
     "output_type": "execute_result"
    }
   ],
   "source": [
    "t12(8,4)"
   ]
  },
  {
   "cell_type": "code",
   "execution_count": 34,
   "id": "6846f30b",
   "metadata": {},
   "outputs": [
    {
     "data": {
      "text/plain": [
       "3.0"
      ]
     },
     "execution_count": 34,
     "metadata": {},
     "output_type": "execute_result"
    }
   ],
   "source": [
    "t12(4,12)"
   ]
  },
  {
   "cell_type": "code",
   "execution_count": 35,
   "id": "af5bea0b",
   "metadata": {},
   "outputs": [],
   "source": [
    "t13=lambda x:x%2"
   ]
  },
  {
   "cell_type": "code",
   "execution_count": 36,
   "id": "2c37d47f",
   "metadata": {},
   "outputs": [
    {
     "data": {
      "text/plain": [
       "0"
      ]
     },
     "execution_count": 36,
     "metadata": {},
     "output_type": "execute_result"
    }
   ],
   "source": [
    "t13(20)"
   ]
  },
  {
   "cell_type": "code",
   "execution_count": 37,
   "id": "9e236c33",
   "metadata": {},
   "outputs": [
    {
     "data": {
      "text/plain": [
       "1"
      ]
     },
     "execution_count": 37,
     "metadata": {},
     "output_type": "execute_result"
    }
   ],
   "source": [
    "t13(21)"
   ]
  },
  {
   "cell_type": "code",
   "execution_count": 38,
   "id": "d894c826",
   "metadata": {},
   "outputs": [],
   "source": [
    "t14=lambda x:x%3"
   ]
  },
  {
   "cell_type": "code",
   "execution_count": 39,
   "id": "c9abde4c",
   "metadata": {},
   "outputs": [
    {
     "data": {
      "text/plain": [
       "1"
      ]
     },
     "execution_count": 39,
     "metadata": {},
     "output_type": "execute_result"
    }
   ],
   "source": [
    "t14(31)"
   ]
  },
  {
   "cell_type": "code",
   "execution_count": 40,
   "id": "921f619b",
   "metadata": {},
   "outputs": [
    {
     "data": {
      "text/plain": [
       "0"
      ]
     },
     "execution_count": 40,
     "metadata": {},
     "output_type": "execute_result"
    }
   ],
   "source": [
    "t14(90)"
   ]
  },
  {
   "cell_type": "code",
   "execution_count": 41,
   "id": "22c0d262",
   "metadata": {},
   "outputs": [],
   "source": [
    "t15=lambda var1,var2:var1-var2"
   ]
  },
  {
   "cell_type": "code",
   "execution_count": 43,
   "id": "0387b74d",
   "metadata": {},
   "outputs": [
    {
     "data": {
      "text/plain": [
       "19"
      ]
     },
     "execution_count": 43,
     "metadata": {},
     "output_type": "execute_result"
    }
   ],
   "source": [
    "t15(40,21)"
   ]
  },
  {
   "cell_type": "code",
   "execution_count": 44,
   "id": "2157bd08",
   "metadata": {},
   "outputs": [],
   "source": [
    "carea=lambda pi,radius:pi*(radius**2)"
   ]
  },
  {
   "cell_type": "code",
   "execution_count": 45,
   "id": "d632fb33",
   "metadata": {},
   "outputs": [
    {
     "data": {
      "text/plain": [
       "1256.0"
      ]
     },
     "execution_count": 45,
     "metadata": {},
     "output_type": "execute_result"
    }
   ],
   "source": [
    "carea(3.14,20)"
   ]
  },
  {
   "cell_type": "code",
   "execution_count": 46,
   "id": "ee9d74ec",
   "metadata": {},
   "outputs": [],
   "source": [
    "rarea=lambda length,breadth:length*breadth"
   ]
  },
  {
   "cell_type": "code",
   "execution_count": 47,
   "id": "f5a75a23",
   "metadata": {},
   "outputs": [
    {
     "data": {
      "text/plain": [
       "12"
      ]
     },
     "execution_count": 47,
     "metadata": {},
     "output_type": "execute_result"
    }
   ],
   "source": [
    "rarea(4,3)"
   ]
  },
  {
   "cell_type": "code",
   "execution_count": 48,
   "id": "512d3c3b",
   "metadata": {},
   "outputs": [],
   "source": [
    "tarea=lambda base,height:base*height*0.5"
   ]
  },
  {
   "cell_type": "code",
   "execution_count": 49,
   "id": "54576513",
   "metadata": {},
   "outputs": [
    {
     "data": {
      "text/plain": [
       "15.0"
      ]
     },
     "execution_count": 49,
     "metadata": {},
     "output_type": "execute_result"
    }
   ],
   "source": [
    "tarea(5,6)"
   ]
  },
  {
   "cell_type": "code",
   "execution_count": 52,
   "id": "0d7b45f1",
   "metadata": {},
   "outputs": [
    {
     "data": {
      "text/plain": [
       "62.5"
      ]
     },
     "execution_count": 52,
     "metadata": {},
     "output_type": "execute_result"
    }
   ],
   "source": [
    "tarea(5,25)"
   ]
  },
  {
   "cell_type": "code",
   "execution_count": 53,
   "id": "86b5663a",
   "metadata": {},
   "outputs": [
    {
     "data": {
      "text/plain": [
       "64"
      ]
     },
     "execution_count": 53,
     "metadata": {},
     "output_type": "execute_result"
    }
   ],
   "source": [
    "#find cube\n",
    "cube=lambda x:x**3\n",
    "cube(4)"
   ]
  },
  {
   "cell_type": "code",
   "execution_count": 54,
   "id": "f9456150",
   "metadata": {},
   "outputs": [
    {
     "data": {
      "text/plain": [
       "1.5874010519681994"
      ]
     },
     "execution_count": 54,
     "metadata": {},
     "output_type": "execute_result"
    }
   ],
   "source": [
    "#find cuberoot\n",
    "croot=lambda x:x**(1/3)\n",
    "croot(4)"
   ]
  },
  {
   "cell_type": "code",
   "execution_count": 59,
   "id": "c5310278",
   "metadata": {},
   "outputs": [],
   "source": [
    "#converting temperature in fahrenheit\n",
    "def fahrenheit(T):\n",
    "    return ((9/5)*T+32)"
   ]
  },
  {
   "cell_type": "code",
   "execution_count": 61,
   "id": "565ce6af",
   "metadata": {},
   "outputs": [
    {
     "data": {
      "text/plain": [
       "95.0"
      ]
     },
     "execution_count": 61,
     "metadata": {},
     "output_type": "execute_result"
    }
   ],
   "source": [
    "f=fahrenheit(35)\n",
    "f"
   ]
  },
  {
   "cell_type": "code",
   "execution_count": 66,
   "id": "49b65df7",
   "metadata": {},
   "outputs": [
    {
     "data": {
      "text/plain": [
       "149.0"
      ]
     },
     "execution_count": 66,
     "metadata": {},
     "output_type": "execute_result"
    }
   ],
   "source": [
    "f=fahrenheit(65)\n",
    "f"
   ]
  },
  {
   "cell_type": "code",
   "execution_count": 64,
   "id": "2ac554f9",
   "metadata": {},
   "outputs": [],
   "source": [
    "#converting temperature in celsius\n",
    "def celsius(T):\n",
    "    return ((5/9)*(T-32))"
   ]
  },
  {
   "cell_type": "code",
   "execution_count": 65,
   "id": "1269821d",
   "metadata": {},
   "outputs": [
    {
     "data": {
      "text/plain": [
       "35.0"
      ]
     },
     "execution_count": 65,
     "metadata": {},
     "output_type": "execute_result"
    }
   ],
   "source": [
    "ce=celsius(95)\n",
    "ce"
   ]
  },
  {
   "cell_type": "code",
   "execution_count": 67,
   "id": "9ffbe93f",
   "metadata": {},
   "outputs": [
    {
     "data": {
      "text/plain": [
       "29.444444444444446"
      ]
     },
     "execution_count": 67,
     "metadata": {},
     "output_type": "execute_result"
    }
   ],
   "source": [
    "ce=celsius(85)\n",
    "ce"
   ]
  },
  {
   "cell_type": "code",
   "execution_count": 70,
   "id": "c6116205",
   "metadata": {},
   "outputs": [],
   "source": [
    "def testin():\n",
    "    x=int(input (\"Enter x\"))\n",
    "    y=int(input(\"Enter y\"))\n",
    "    t=lambda x,y:x**y\n",
    "    print(t(x,y))"
   ]
  },
  {
   "cell_type": "code",
   "execution_count": 71,
   "id": "1ec15c1c",
   "metadata": {},
   "outputs": [
    {
     "name": "stdout",
     "output_type": "stream",
     "text": [
      "Enter x4\n",
      "Enter y3\n",
      "64\n"
     ]
    }
   ],
   "source": [
    "testin()"
   ]
  },
  {
   "cell_type": "code",
   "execution_count": 72,
   "id": "78e8f116",
   "metadata": {},
   "outputs": [
    {
     "name": "stdout",
     "output_type": "stream",
     "text": [
      "Enter x6\n",
      "Enter y5\n",
      "7776\n"
     ]
    }
   ],
   "source": [
    "testin()"
   ]
  },
  {
   "cell_type": "code",
   "execution_count": 73,
   "id": "ad1f1bc2",
   "metadata": {},
   "outputs": [],
   "source": [
    "celsiustemp=lambda t:(9/5)*t+32\n"
   ]
  },
  {
   "cell_type": "code",
   "execution_count": 74,
   "id": "68b5de81",
   "metadata": {},
   "outputs": [
    {
     "data": {
      "text/plain": [
       "95.0"
      ]
     },
     "execution_count": 74,
     "metadata": {},
     "output_type": "execute_result"
    }
   ],
   "source": [
    "celsiustemp(35)"
   ]
  },
  {
   "cell_type": "code",
   "execution_count": 78,
   "id": "cbb8160c",
   "metadata": {},
   "outputs": [],
   "source": [
    "fahrenheittemp=lambda temp:(5/9)*(temp-32)"
   ]
  },
  {
   "cell_type": "code",
   "execution_count": 79,
   "id": "c8f836f3",
   "metadata": {},
   "outputs": [
    {
     "data": {
      "text/plain": [
       "35.0"
      ]
     },
     "execution_count": 79,
     "metadata": {},
     "output_type": "execute_result"
    }
   ],
   "source": [
    "fahrenheittemp(95)"
   ]
  },
  {
   "cell_type": "code",
   "execution_count": 81,
   "id": "79159426",
   "metadata": {},
   "outputs": [
    {
     "data": {
      "text/plain": [
       "<map at 0x2057b278f70>"
      ]
     },
     "execution_count": 81,
     "metadata": {},
     "output_type": "execute_result"
    }
   ],
   "source": [
    "list1=[10,20,30,40]\n",
    "map(lambda x:x+2,list1)"
   ]
  },
  {
   "cell_type": "code",
   "execution_count": 1,
   "id": "df0aad1c",
   "metadata": {},
   "outputs": [
    {
     "data": {
      "text/plain": [
       "[12, 22, 32, 42]"
      ]
     },
     "execution_count": 1,
     "metadata": {},
     "output_type": "execute_result"
    }
   ],
   "source": [
    "list1=[10,20,30,40]\n",
    "list(map(lambda x:x+2,list1))"
   ]
  },
  {
   "cell_type": "code",
   "execution_count": 3,
   "id": "2fc97a23",
   "metadata": {},
   "outputs": [
    {
     "data": {
      "text/plain": [
       "[1, 4, 9, 16, 25, 36, 49, 64, 81, 100]"
      ]
     },
     "execution_count": 3,
     "metadata": {},
     "output_type": "execute_result"
    }
   ],
   "source": [
    "list2=[1,2,3,4,5,6,7,8,9,10]\n",
    "\n",
    "list(map(lambda y:y**2,list2))"
   ]
  },
  {
   "cell_type": "code",
   "execution_count": 4,
   "id": "2b6aa31c",
   "metadata": {},
   "outputs": [
    {
     "data": {
      "text/plain": [
       "[0, 10, 15, 20, 25, 40, 60]"
      ]
     },
     "execution_count": 4,
     "metadata": {},
     "output_type": "execute_result"
    }
   ],
   "source": [
    "list3=[5,15,20,25,30,45,65]\n",
    "list(map(lambda z:z-5,list3))"
   ]
  },
  {
   "cell_type": "code",
   "execution_count": 12,
   "id": "d6b094d5",
   "metadata": {},
   "outputs": [],
   "source": [
    "C = [35.2,36.5,37.3,38,39.8]"
   ]
  },
  {
   "cell_type": "code",
   "execution_count": 15,
   "id": "fc03eadc",
   "metadata": {},
   "outputs": [
    {
     "name": "stdout",
     "output_type": "stream",
     "text": [
      "[95.36000000000001, 97.7, 99.14, 100.4, 103.64]\n"
     ]
    }
   ],
   "source": [
    "F = list(map(lambda x: (9/5)*x + 32,C))\n",
    "print(F)"
   ]
  },
  {
   "cell_type": "code",
   "execution_count": 16,
   "id": "9e1ba983",
   "metadata": {},
   "outputs": [
    {
     "name": "stdout",
     "output_type": "stream",
     "text": [
      "[35.20000000000001, 36.5, 37.300000000000004, 38.00000000000001, 39.800000000000004]\n"
     ]
    }
   ],
   "source": [
    "C = list(map(lambda x:(5/9)*(x-32),F))\n",
    "print(C)"
   ]
  },
  {
   "cell_type": "code",
   "execution_count": 17,
   "id": "f5fda6e9",
   "metadata": {},
   "outputs": [
    {
     "data": {
      "text/plain": [
       "[35.2, 36.5, 37.3, 38.0, 39.8]"
      ]
     },
     "execution_count": 17,
     "metadata": {},
     "output_type": "execute_result"
    }
   ],
   "source": [
    "newClist= [round(x,2) for x in C]\n",
    "\n",
    "newClist"
   ]
  },
  {
   "cell_type": "code",
   "execution_count": 2,
   "id": "73659893",
   "metadata": {},
   "outputs": [],
   "source": [
    "C = [35.2,36.5,37.3,38,39.8]"
   ]
  },
  {
   "cell_type": "code",
   "execution_count": 3,
   "id": "da40b1b5",
   "metadata": {},
   "outputs": [
    {
     "data": {
      "text/plain": [
       "['35.20', '36.50', '37.30', '38.00', '39.80']"
      ]
     },
     "execution_count": 3,
     "metadata": {},
     "output_type": "execute_result"
    }
   ],
   "source": [
    "newlist = ['%.2f' % j for j in C]\n",
    "\n",
    "newlist"
   ]
  },
  {
   "cell_type": "code",
   "execution_count": 4,
   "id": "b2d47587",
   "metadata": {},
   "outputs": [
    {
     "name": "stdout",
     "output_type": "stream",
     "text": [
      "[25.12, 37.68, 50.24, 62.800000000000004]\n"
     ]
    }
   ],
   "source": [
    "#find circumference of circle ------ (2*pi*radiusvalue) using map in lambda ----------->pi---->3.14\n",
    "radius=[4,6,8,10]\n",
    "\n",
    "cir=list(map(lambda y:2*3.14*y,radius))\n",
    "\n",
    "print(cir)"
   ]
  },
  {
   "cell_type": "code",
   "execution_count": 5,
   "id": "6baafb94",
   "metadata": {},
   "outputs": [
    {
     "data": {
      "text/plain": [
       "['25.12', '37.68', '50.24', '62.80']"
      ]
     },
     "execution_count": 5,
     "metadata": {},
     "output_type": "execute_result"
    }
   ],
   "source": [
    "cirnew= ['%.2f'%k for k in cir]\n",
    "cirnew"
   ]
  },
  {
   "cell_type": "markdown",
   "id": "f04b47b5",
   "metadata": {},
   "source": [
    "# Filter in Lambda"
   ]
  },
  {
   "cell_type": "raw",
   "id": "9c4ded66",
   "metadata": {},
   "source": [
    "filter() function\n",
    "It returns the itemes where function is true.\n",
    "If none of the element meets condition,it will return nothing.In the code below,we are checking if the value is greater than 2."
   ]
  },
  {
   "cell_type": "code",
   "execution_count": 6,
   "id": "8a222f73",
   "metadata": {},
   "outputs": [
    {
     "data": {
      "text/plain": [
       "[3, 4, 5, 6, 7, 8]"
      ]
     },
     "execution_count": 6,
     "metadata": {},
     "output_type": "execute_result"
    }
   ],
   "source": [
    "mylist=[1,2,3,4,5,6,7,8]\n",
    "\n",
    "list(filter(lambda x: x>2, mylist))"
   ]
  },
  {
   "cell_type": "code",
   "execution_count": 7,
   "id": "c8c015d2",
   "metadata": {},
   "outputs": [
    {
     "data": {
      "text/plain": [
       "[0, 2, 4, 6, 8, 10]"
      ]
     },
     "execution_count": 7,
     "metadata": {},
     "output_type": "execute_result"
    }
   ],
   "source": [
    "even = lambda x: x%2 == 0\n",
    "list(filter(even, range(11)))"
   ]
  },
  {
   "cell_type": "code",
   "execution_count": 8,
   "id": "f60c20bd",
   "metadata": {},
   "outputs": [
    {
     "data": {
      "text/plain": [
       "[0, 2, 4, 6, 8, 10]"
      ]
     },
     "execution_count": 8,
     "metadata": {},
     "output_type": "execute_result"
    }
   ],
   "source": [
    "# you can do it by list compression\n",
    "[x for x in range(11) if x%2 == 0]"
   ]
  },
  {
   "cell_type": "code",
   "execution_count": null,
   "id": "1752c241",
   "metadata": {},
   "outputs": [],
   "source": []
  }
 ],
 "metadata": {
  "kernelspec": {
   "display_name": "Python 3 (ipykernel)",
   "language": "python",
   "name": "python3"
  },
  "language_info": {
   "codemirror_mode": {
    "name": "ipython",
    "version": 3
   },
   "file_extension": ".py",
   "mimetype": "text/x-python",
   "name": "python",
   "nbconvert_exporter": "python",
   "pygments_lexer": "ipython3",
   "version": "3.9.12"
  }
 },
 "nbformat": 4,
 "nbformat_minor": 5
}
