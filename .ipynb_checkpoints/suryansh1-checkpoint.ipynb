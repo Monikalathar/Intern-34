{
 "cells": [
  {
   "cell_type": "markdown",
   "id": "3c246dcf",
   "metadata": {},
   "source": [
    " User-defined Function"
   ]
  },
  {
   "cell_type": "code",
   "execution_count": 1,
   "id": "570eaf17",
   "metadata": {},
   "outputs": [],
   "source": [
    "#function definition\n",
    "def function1():\n",
    "    print(\"hello\")"
   ]
  },
  {
   "cell_type": "code",
   "execution_count": 2,
   "id": "c1ea710a",
   "metadata": {},
   "outputs": [
    {
     "name": "stdout",
     "output_type": "stream",
     "text": [
      "hello\n"
     ]
    }
   ],
   "source": [
    "#calling of function\n",
    "function1()"
   ]
  },
  {
   "cell_type": "code",
   "execution_count": 3,
   "id": "dfa99a4d",
   "metadata": {},
   "outputs": [],
   "source": [
    "def function2():\n",
    "    print(\"inside function2\")"
   ]
  },
  {
   "cell_type": "code",
   "execution_count": 4,
   "id": "03b7a020",
   "metadata": {},
   "outputs": [
    {
     "name": "stdout",
     "output_type": "stream",
     "text": [
      "inside function2\n"
     ]
    }
   ],
   "source": [
    "function2()"
   ]
  },
  {
   "cell_type": "code",
   "execution_count": 14,
   "id": "43d9cc24",
   "metadata": {},
   "outputs": [],
   "source": [
    "def function3():\n",
    "    print(\"learning\")\n",
    "    print(\"inside function3\")\n",
    "    print(\"User defined function\")"
   ]
  },
  {
   "cell_type": "code",
   "execution_count": 15,
   "id": "6e5bdab8",
   "metadata": {},
   "outputs": [
    {
     "name": "stdout",
     "output_type": "stream",
     "text": [
      "learning\n",
      "inside function3\n",
      "User defined function\n"
     ]
    }
   ],
   "source": [
    "function3()"
   ]
  },
  {
   "cell_type": "code",
   "execution_count": 17,
   "id": "f7a64ae8",
   "metadata": {},
   "outputs": [],
   "source": [
    "def addition():\n",
    "    a=10\n",
    "    b=20\n",
    "    c=a+b \n",
    "    print(\"The value of c=\",c)"
   ]
  },
  {
   "cell_type": "code",
   "execution_count": 18,
   "id": "39a25f64",
   "metadata": {},
   "outputs": [
    {
     "name": "stdout",
     "output_type": "stream",
     "text": [
      "The value of c= 30\n"
     ]
    }
   ],
   "source": [
    "addition()"
   ]
  },
  {
   "cell_type": "code",
   "execution_count": 21,
   "id": "3d01a5ee",
   "metadata": {},
   "outputs": [],
   "source": [
    "def subtraction():\n",
    "    a=50\n",
    "    b=30\n",
    "    c=a-b\n",
    "    print(\"The value of c=\",c)"
   ]
  },
  {
   "cell_type": "code",
   "execution_count": 22,
   "id": "3b3fc010",
   "metadata": {},
   "outputs": [
    {
     "name": "stdout",
     "output_type": "stream",
     "text": [
      "The value of c= 20\n"
     ]
    }
   ],
   "source": [
    "subtraction()"
   ]
  },
  {
   "cell_type": "code",
   "execution_count": 23,
   "id": "8b37aa33",
   "metadata": {},
   "outputs": [],
   "source": [
    "def multiplication():\n",
    "    a=8\n",
    "    b=5\n",
    "    print(\"The value of multiplication=\",a*b)"
   ]
  },
  {
   "cell_type": "code",
   "execution_count": 24,
   "id": "7b0b631e",
   "metadata": {},
   "outputs": [
    {
     "name": "stdout",
     "output_type": "stream",
     "text": [
      "The value of multiplication= 40\n"
     ]
    }
   ],
   "source": [
    "multiplication()"
   ]
  },
  {
   "cell_type": "code",
   "execution_count": 25,
   "id": "47da2036",
   "metadata": {},
   "outputs": [],
   "source": [
    "def square_func():\n",
    "    x=8\n",
    "    print(\"The squared value is \",x**2)\n",
    "    "
   ]
  },
  {
   "cell_type": "code",
   "execution_count": 26,
   "id": "c5768e5e",
   "metadata": {},
   "outputs": [
    {
     "name": "stdout",
     "output_type": "stream",
     "text": [
      "The squared value is  64\n"
     ]
    }
   ],
   "source": [
    "square_func()"
   ]
  },
  {
   "cell_type": "code",
   "execution_count": 33,
   "id": "710baa02",
   "metadata": {},
   "outputs": [],
   "source": [
    "def area_of_circle():\n",
    "    pi=3.14\n",
    "    radius=5\n",
    "    area=pi*(radius**2)\n",
    "    print(\"The area of circle=\",area)\n",
    "    print(\"The area of circle with values of pi=\",pi,\"and radius=\",radius,\"is\",area)"
   ]
  },
  {
   "cell_type": "code",
   "execution_count": 34,
   "id": "f7d163a2",
   "metadata": {},
   "outputs": [
    {
     "name": "stdout",
     "output_type": "stream",
     "text": [
      "The area of circle= 78.5\n",
      "The area of circle with values of pi= 3.14 and radius= 5 is 78.5\n"
     ]
    }
   ],
   "source": [
    "area_of_circle()"
   ]
  },
  {
   "cell_type": "raw",
   "id": "39d3f561",
   "metadata": {},
   "source": []
  },
  {
   "cell_type": "code",
   "execution_count": 35,
   "id": "98ba63f0",
   "metadata": {},
   "outputs": [],
   "source": [
    "def area_of_rectangle():\n",
    "    length=200\n",
    "    breadth=100\n",
    "    area_rect=length*breadth\n",
    "    print(\"The area of rectangle=\",area_rect)\n",
    "    print(\"The area of rectangle with length=\",length,\"and breadth=\",breadth,\"is\",area_rect)"
   ]
  },
  {
   "cell_type": "code",
   "execution_count": 36,
   "id": "50b3ea31",
   "metadata": {},
   "outputs": [
    {
     "name": "stdout",
     "output_type": "stream",
     "text": [
      "The area of rectangle= 20000\n",
      "The area of rectangle with length= 200 and breadth= 100 is 20000\n"
     ]
    }
   ],
   "source": [
    "area_of_rectangle()"
   ]
  },
  {
   "cell_type": "code",
   "execution_count": 38,
   "id": "a773376d",
   "metadata": {},
   "outputs": [],
   "source": [
    "def area_of_triangle():\n",
    "    constant=0.5\n",
    "    base=2\n",
    "    height=4\n",
    "    area_triangle=0.5*base*height\n",
    "    print(\"The area of triangle=\",area_triangle)"
   ]
  },
  {
   "cell_type": "code",
   "execution_count": 39,
   "id": "6677c807",
   "metadata": {},
   "outputs": [
    {
     "name": "stdout",
     "output_type": "stream",
     "text": [
      "The area of triangle= 4.0\n"
     ]
    }
   ],
   "source": [
    "area_of_triangle()"
   ]
  },
  {
   "cell_type": "code",
   "execution_count": null,
   "id": "8d059530",
   "metadata": {},
   "outputs": [],
   "source": []
  }
 ],
 "metadata": {
  "kernelspec": {
   "display_name": "Python 3 (ipykernel)",
   "language": "python",
   "name": "python3"
  },
  "language_info": {
   "codemirror_mode": {
    "name": "ipython",
    "version": 3
   },
   "file_extension": ".py",
   "mimetype": "text/x-python",
   "name": "python",
   "nbconvert_exporter": "python",
   "pygments_lexer": "ipython3",
   "version": "3.9.12"
  }
 },
 "nbformat": 4,
 "nbformat_minor": 5
}
