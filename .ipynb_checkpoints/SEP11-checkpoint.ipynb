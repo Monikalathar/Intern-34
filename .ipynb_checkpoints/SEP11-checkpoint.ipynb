{
 "cells": [
  {
   "cell_type": "markdown",
   "id": "47dfa433",
   "metadata": {},
   "source": [
    "# PANDAS FINAL"
   ]
  },
  {
   "cell_type": "raw",
   "id": "97cf588d",
   "metadata": {},
   "source": [
    "Pandas is a Python library for \n",
    "\n",
    "in dataframe their are location and index location\n",
    "df.loc[row:,A(column)]   df.loc[row:,'CD']  ---loc indecate labelling and characters alphabets name also.(Header name also)\n",
    "Using label based (loc)function and index location based(iloc)function.loc(Pandas provide various methods to have purely label based indexing.\n",
    "iloc-----df.iloc[start:end,column-start:end] -----for indicating indexing for rows and columns."
   ]
  },
  {
   "cell_type": "markdown",
   "id": "e27ed2b3",
   "metadata": {},
   "source": [
    "# INDEXING AND SLICING IN PANDAS"
   ]
  },
  {
   "cell_type": "code",
   "execution_count": 1,
   "id": "46f69f65",
   "metadata": {},
   "outputs": [],
   "source": [
    "import pandas as pd\n",
    "import numpy as np"
   ]
  },
  {
   "cell_type": "code",
   "execution_count": 3,
   "id": "821e9b13",
   "metadata": {},
   "outputs": [
    {
     "data": {
      "text/html": [
       "<div>\n",
       "<style scoped>\n",
       "    .dataframe tbody tr th:only-of-type {\n",
       "        vertical-align: middle;\n",
       "    }\n",
       "\n",
       "    .dataframe tbody tr th {\n",
       "        vertical-align: top;\n",
       "    }\n",
       "\n",
       "    .dataframe thead th {\n",
       "        text-align: right;\n",
       "    }\n",
       "</style>\n",
       "<table border=\"1\" class=\"dataframe\">\n",
       "  <thead>\n",
       "    <tr style=\"text-align: right;\">\n",
       "      <th></th>\n",
       "      <th>A</th>\n",
       "      <th>B</th>\n",
       "      <th>C</th>\n",
       "      <th>D</th>\n",
       "    </tr>\n",
       "  </thead>\n",
       "  <tbody>\n",
       "    <tr>\n",
       "      <th>0</th>\n",
       "      <td>0.707713</td>\n",
       "      <td>0.847380</td>\n",
       "      <td>0.973732</td>\n",
       "      <td>-0.940625</td>\n",
       "    </tr>\n",
       "    <tr>\n",
       "      <th>1</th>\n",
       "      <td>-0.138386</td>\n",
       "      <td>-0.768656</td>\n",
       "      <td>-1.340466</td>\n",
       "      <td>0.693449</td>\n",
       "    </tr>\n",
       "    <tr>\n",
       "      <th>2</th>\n",
       "      <td>-0.791639</td>\n",
       "      <td>-0.394567</td>\n",
       "      <td>0.918892</td>\n",
       "      <td>-0.132435</td>\n",
       "    </tr>\n",
       "    <tr>\n",
       "      <th>3</th>\n",
       "      <td>1.422806</td>\n",
       "      <td>0.111881</td>\n",
       "      <td>-0.863408</td>\n",
       "      <td>0.640913</td>\n",
       "    </tr>\n",
       "    <tr>\n",
       "      <th>4</th>\n",
       "      <td>-0.460840</td>\n",
       "      <td>-1.164169</td>\n",
       "      <td>-0.100802</td>\n",
       "      <td>-0.466170</td>\n",
       "    </tr>\n",
       "    <tr>\n",
       "      <th>5</th>\n",
       "      <td>0.639710</td>\n",
       "      <td>0.832889</td>\n",
       "      <td>0.373115</td>\n",
       "      <td>0.627973</td>\n",
       "    </tr>\n",
       "    <tr>\n",
       "      <th>6</th>\n",
       "      <td>-0.414775</td>\n",
       "      <td>1.651146</td>\n",
       "      <td>-1.673093</td>\n",
       "      <td>1.957734</td>\n",
       "    </tr>\n",
       "    <tr>\n",
       "      <th>7</th>\n",
       "      <td>-0.418668</td>\n",
       "      <td>0.085485</td>\n",
       "      <td>0.129917</td>\n",
       "      <td>1.753126</td>\n",
       "    </tr>\n",
       "  </tbody>\n",
       "</table>\n",
       "</div>"
      ],
      "text/plain": [
       "          A         B         C         D\n",
       "0  0.707713  0.847380  0.973732 -0.940625\n",
       "1 -0.138386 -0.768656 -1.340466  0.693449\n",
       "2 -0.791639 -0.394567  0.918892 -0.132435\n",
       "3  1.422806  0.111881 -0.863408  0.640913\n",
       "4 -0.460840 -1.164169 -0.100802 -0.466170\n",
       "5  0.639710  0.832889  0.373115  0.627973\n",
       "6 -0.414775  1.651146 -1.673093  1.957734\n",
       "7 -0.418668  0.085485  0.129917  1.753126"
      ]
     },
     "execution_count": 3,
     "metadata": {},
     "output_type": "execute_result"
    }
   ],
   "source": [
    "#df = pd.DataFrame(np.random.randn(8,4),index=['a','b','c','d','e','f','g','h'],columns=['A','B','C','D'])\n",
    "#df\n",
    "\n",
    "df = pd.DataFrame(np.random.randn(8,4),columns=['A','B','C','D'])\n",
    "df"
   ]
  },
  {
   "cell_type": "markdown",
   "id": "04711e24",
   "metadata": {},
   "source": [
    "loc[rowstart:rowend,'label or column name']"
   ]
  },
  {
   "cell_type": "code",
   "execution_count": 4,
   "id": "878ba25e",
   "metadata": {},
   "outputs": [
    {
     "name": "stdout",
     "output_type": "stream",
     "text": [
      "0    0.707713\n",
      "1   -0.138386\n",
      "2   -0.791639\n",
      "3    1.422806\n",
      "4   -0.460840\n",
      "5    0.639710\n",
      "6   -0.414775\n",
      "7   -0.418668\n",
      "Name: A, dtype: float64\n"
     ]
    }
   ],
   "source": [
    "print(df.loc[:,'A'])"
   ]
  },
  {
   "cell_type": "raw",
   "id": "04a7c6d0",
   "metadata": {},
   "source": [
    "df.loc[['indexname1':'indexname2'],[labelA,labelB]] as location will take label only,it will not work with indexing in numeric format"
   ]
  },
  {
   "cell_type": "code",
   "execution_count": 5,
   "id": "dbedabd5",
   "metadata": {},
   "outputs": [
    {
     "name": "stdout",
     "output_type": "stream",
     "text": [
      "          C         D\n",
      "0  0.973732 -0.940625\n",
      "1 -1.340466  0.693449\n",
      "2  0.918892 -0.132435\n",
      "3 -0.863408  0.640913\n",
      "4 -0.100802 -0.466170\n",
      "5  0.373115  0.627973\n",
      "6 -1.673093  1.957734\n",
      "7  0.129917  1.753126\n"
     ]
    }
   ],
   "source": [
    "print(df.loc[:,['C','D']])"
   ]
  },
  {
   "cell_type": "raw",
   "id": "b83af05d",
   "metadata": {},
   "source": [
    "iloc()Pndas provide various methods in order to get purely integer based indexing.Like python and numpy,these are 0-based indexing."
   ]
  },
  {
   "cell_type": "code",
   "execution_count": 6,
   "id": "0c2b8229",
   "metadata": {},
   "outputs": [
    {
     "name": "stdout",
     "output_type": "stream",
     "text": [
      "          0         1         2         3\n",
      "0 -1.517309  1.586426  0.229993 -1.780373\n",
      "1  1.680627  0.339365  0.588198 -0.809187\n",
      "2  0.958735  1.748877  1.147684 -0.351469\n",
      "3 -0.212040 -0.063911  0.419777  0.426531\n",
      "4  0.011670 -0.692702  1.257943  0.412257\n",
      "5  0.548825 -0.866272  0.655863 -0.447110\n",
      "6  0.984912  0.846628 -1.441906  0.297989\n",
      "7 -0.141549  0.223235  1.443490 -0.840339\n"
     ]
    }
   ],
   "source": [
    "import pandas as pd\n",
    "df=pd.DataFrame(np.random.randn(8,4))\n",
    "print(df)"
   ]
  },
  {
   "cell_type": "code",
   "execution_count": 7,
   "id": "fdef05ea",
   "metadata": {},
   "outputs": [
    {
     "name": "stdout",
     "output_type": "stream",
     "text": [
      "          0         1         2         3\n",
      "0 -1.517309  1.586426  0.229993 -1.780373\n",
      "1  1.680627  0.339365  0.588198 -0.809187\n",
      "2  0.958735  1.748877  1.147684 -0.351469\n",
      "3 -0.212040 -0.063911  0.419777  0.426531\n"
     ]
    }
   ],
   "source": [
    "print(df.iloc[:4,:])"
   ]
  },
  {
   "cell_type": "code",
   "execution_count": 8,
   "id": "fbf71a4c",
   "metadata": {},
   "outputs": [
    {
     "name": "stdout",
     "output_type": "stream",
     "text": [
      "          0         1         2\n",
      "0 -1.517309  1.586426  0.229993\n",
      "1  1.680627  0.339365  0.588198\n"
     ]
    }
   ],
   "source": [
    "print(df.iloc[:2,:3])"
   ]
  },
  {
   "cell_type": "code",
   "execution_count": 10,
   "id": "71b31da1",
   "metadata": {},
   "outputs": [
    {
     "name": "stdout",
     "output_type": "stream",
     "text": [
      "0   -1.517309\n",
      "1    1.680627\n",
      "2    0.958735\n",
      "3   -0.212040\n",
      "4    0.011670\n",
      "5    0.548825\n",
      "6    0.984912\n",
      "7   -0.141549\n",
      "Name: 0, dtype: float64\n"
     ]
    }
   ],
   "source": [
    "print(df.iloc[:,0])"
   ]
  },
  {
   "cell_type": "code",
   "execution_count": 12,
   "id": "7fe4299f",
   "metadata": {},
   "outputs": [
    {
     "name": "stdout",
     "output_type": "stream",
     "text": [
      "0    0.229993\n",
      "1    0.588198\n",
      "2    1.147684\n",
      "3    0.419777\n",
      "4    1.257943\n",
      "5    0.655863\n",
      "6   -1.441906\n",
      "7    1.443490\n",
      "Name: 2, dtype: float64\n"
     ]
    }
   ],
   "source": [
    "print(df.iloc[:,2])"
   ]
  },
  {
   "cell_type": "code",
   "execution_count": 13,
   "id": "df6a71ee",
   "metadata": {},
   "outputs": [
    {
     "name": "stdout",
     "output_type": "stream",
     "text": [
      "1    0.339365\n",
      "2    1.748877\n",
      "3   -0.063911\n",
      "4   -0.692702\n",
      "Name: 1, dtype: float64\n"
     ]
    }
   ],
   "source": [
    "print(df.iloc[1:5,1])"
   ]
  },
  {
   "cell_type": "code",
   "execution_count": 14,
   "id": "efa3677b",
   "metadata": {},
   "outputs": [
    {
     "data": {
      "text/html": [
       "<div>\n",
       "<style scoped>\n",
       "    .dataframe tbody tr th:only-of-type {\n",
       "        vertical-align: middle;\n",
       "    }\n",
       "\n",
       "    .dataframe tbody tr th {\n",
       "        vertical-align: top;\n",
       "    }\n",
       "\n",
       "    .dataframe thead th {\n",
       "        text-align: right;\n",
       "    }\n",
       "</style>\n",
       "<table border=\"1\" class=\"dataframe\">\n",
       "  <thead>\n",
       "    <tr style=\"text-align: right;\">\n",
       "      <th></th>\n",
       "      <th>0</th>\n",
       "      <th>1</th>\n",
       "      <th>2</th>\n",
       "      <th>3</th>\n",
       "    </tr>\n",
       "  </thead>\n",
       "  <tbody>\n",
       "    <tr>\n",
       "      <th>0</th>\n",
       "      <td>-1.517309</td>\n",
       "      <td>1.586426</td>\n",
       "      <td>0.229993</td>\n",
       "      <td>-1.780373</td>\n",
       "    </tr>\n",
       "    <tr>\n",
       "      <th>1</th>\n",
       "      <td>1.680627</td>\n",
       "      <td>0.339365</td>\n",
       "      <td>0.588198</td>\n",
       "      <td>-0.809187</td>\n",
       "    </tr>\n",
       "    <tr>\n",
       "      <th>2</th>\n",
       "      <td>0.958735</td>\n",
       "      <td>1.748877</td>\n",
       "      <td>1.147684</td>\n",
       "      <td>-0.351469</td>\n",
       "    </tr>\n",
       "    <tr>\n",
       "      <th>3</th>\n",
       "      <td>-0.212040</td>\n",
       "      <td>-0.063911</td>\n",
       "      <td>0.419777</td>\n",
       "      <td>0.426531</td>\n",
       "    </tr>\n",
       "    <tr>\n",
       "      <th>4</th>\n",
       "      <td>0.011670</td>\n",
       "      <td>-0.692702</td>\n",
       "      <td>1.257943</td>\n",
       "      <td>0.412257</td>\n",
       "    </tr>\n",
       "    <tr>\n",
       "      <th>5</th>\n",
       "      <td>0.548825</td>\n",
       "      <td>-0.866272</td>\n",
       "      <td>0.655863</td>\n",
       "      <td>-0.447110</td>\n",
       "    </tr>\n",
       "    <tr>\n",
       "      <th>6</th>\n",
       "      <td>0.984912</td>\n",
       "      <td>0.846628</td>\n",
       "      <td>-1.441906</td>\n",
       "      <td>0.297989</td>\n",
       "    </tr>\n",
       "    <tr>\n",
       "      <th>7</th>\n",
       "      <td>-0.141549</td>\n",
       "      <td>0.223235</td>\n",
       "      <td>1.443490</td>\n",
       "      <td>-0.840339</td>\n",
       "    </tr>\n",
       "  </tbody>\n",
       "</table>\n",
       "</div>"
      ],
      "text/plain": [
       "          0         1         2         3\n",
       "0 -1.517309  1.586426  0.229993 -1.780373\n",
       "1  1.680627  0.339365  0.588198 -0.809187\n",
       "2  0.958735  1.748877  1.147684 -0.351469\n",
       "3 -0.212040 -0.063911  0.419777  0.426531\n",
       "4  0.011670 -0.692702  1.257943  0.412257\n",
       "5  0.548825 -0.866272  0.655863 -0.447110\n",
       "6  0.984912  0.846628 -1.441906  0.297989\n",
       "7 -0.141549  0.223235  1.443490 -0.840339"
      ]
     },
     "execution_count": 14,
     "metadata": {},
     "output_type": "execute_result"
    }
   ],
   "source": [
    "df"
   ]
  },
  {
   "cell_type": "code",
   "execution_count": 16,
   "id": "fa77f8bd",
   "metadata": {},
   "outputs": [
    {
     "name": "stdout",
     "output_type": "stream",
     "text": [
      "2    1.147684\n",
      "3    0.419777\n",
      "4    1.257943\n",
      "5    0.655863\n",
      "Name: 2, dtype: float64\n"
     ]
    }
   ],
   "source": [
    "print(df.iloc[2:6,2])"
   ]
  },
  {
   "cell_type": "code",
   "execution_count": 17,
   "id": "0035a774",
   "metadata": {},
   "outputs": [
    {
     "name": "stdout",
     "output_type": "stream",
     "text": [
      "0   -1.780373\n",
      "1   -0.809187\n",
      "2   -0.351469\n",
      "3    0.426531\n",
      "4    0.412257\n",
      "5   -0.447110\n",
      "6    0.297989\n",
      "7   -0.840339\n",
      "Name: 3, dtype: float64\n"
     ]
    }
   ],
   "source": [
    "print(df.iloc[:,3])"
   ]
  },
  {
   "cell_type": "code",
   "execution_count": 18,
   "id": "a837a87d",
   "metadata": {},
   "outputs": [
    {
     "name": "stdout",
     "output_type": "stream",
     "text": [
      "3    0.426531\n",
      "4    0.412257\n",
      "5   -0.447110\n",
      "Name: 3, dtype: float64\n"
     ]
    }
   ],
   "source": [
    "print(df.iloc[3:6,3])"
   ]
  },
  {
   "cell_type": "code",
   "execution_count": 19,
   "id": "b5dedf18",
   "metadata": {},
   "outputs": [
    {
     "name": "stdout",
     "output_type": "stream",
     "text": [
      "          2         3\n",
      "1  0.588198 -0.809187\n",
      "2  1.147684 -0.351469\n",
      "3  0.419777  0.426531\n",
      "4  1.257943  0.412257\n"
     ]
    }
   ],
   "source": [
    "print(df.iloc[1:5,2:4])    # 4 is exclusive"
   ]
  },
  {
   "cell_type": "code",
   "execution_count": 20,
   "id": "ff8ebe27",
   "metadata": {},
   "outputs": [
    {
     "name": "stdout",
     "output_type": "stream",
     "text": [
      "          0         1         2         3\n",
      "1  1.680627  0.339365  0.588198 -0.809187\n",
      "2  0.958735  1.748877  1.147684 -0.351469\n",
      "          1         2\n",
      "0  1.586426  0.229993\n",
      "1  0.339365  0.588198\n",
      "2  1.748877  1.147684\n",
      "3 -0.063911  0.419777\n",
      "4 -0.692702  1.257943\n",
      "5 -0.866272  0.655863\n",
      "6  0.846628 -1.441906\n",
      "7  0.223235  1.443490\n"
     ]
    }
   ],
   "source": [
    "print(df.iloc[1:3,:])\n",
    "print(df.iloc[:,1:3])"
   ]
  },
  {
   "cell_type": "markdown",
   "id": "c586c496",
   "metadata": {},
   "source": [
    "Negative Indexing"
   ]
  },
  {
   "cell_type": "code",
   "execution_count": 21,
   "id": "e9c6c4ca",
   "metadata": {},
   "outputs": [
    {
     "data": {
      "text/html": [
       "<div>\n",
       "<style scoped>\n",
       "    .dataframe tbody tr th:only-of-type {\n",
       "        vertical-align: middle;\n",
       "    }\n",
       "\n",
       "    .dataframe tbody tr th {\n",
       "        vertical-align: top;\n",
       "    }\n",
       "\n",
       "    .dataframe thead th {\n",
       "        text-align: right;\n",
       "    }\n",
       "</style>\n",
       "<table border=\"1\" class=\"dataframe\">\n",
       "  <thead>\n",
       "    <tr style=\"text-align: right;\">\n",
       "      <th></th>\n",
       "      <th>0</th>\n",
       "      <th>1</th>\n",
       "      <th>2</th>\n",
       "      <th>3</th>\n",
       "    </tr>\n",
       "  </thead>\n",
       "  <tbody>\n",
       "    <tr>\n",
       "      <th>0</th>\n",
       "      <td>-1.517309</td>\n",
       "      <td>1.586426</td>\n",
       "      <td>0.229993</td>\n",
       "      <td>-1.780373</td>\n",
       "    </tr>\n",
       "    <tr>\n",
       "      <th>1</th>\n",
       "      <td>1.680627</td>\n",
       "      <td>0.339365</td>\n",
       "      <td>0.588198</td>\n",
       "      <td>-0.809187</td>\n",
       "    </tr>\n",
       "    <tr>\n",
       "      <th>2</th>\n",
       "      <td>0.958735</td>\n",
       "      <td>1.748877</td>\n",
       "      <td>1.147684</td>\n",
       "      <td>-0.351469</td>\n",
       "    </tr>\n",
       "    <tr>\n",
       "      <th>3</th>\n",
       "      <td>-0.212040</td>\n",
       "      <td>-0.063911</td>\n",
       "      <td>0.419777</td>\n",
       "      <td>0.426531</td>\n",
       "    </tr>\n",
       "    <tr>\n",
       "      <th>4</th>\n",
       "      <td>0.011670</td>\n",
       "      <td>-0.692702</td>\n",
       "      <td>1.257943</td>\n",
       "      <td>0.412257</td>\n",
       "    </tr>\n",
       "    <tr>\n",
       "      <th>5</th>\n",
       "      <td>0.548825</td>\n",
       "      <td>-0.866272</td>\n",
       "      <td>0.655863</td>\n",
       "      <td>-0.447110</td>\n",
       "    </tr>\n",
       "    <tr>\n",
       "      <th>6</th>\n",
       "      <td>0.984912</td>\n",
       "      <td>0.846628</td>\n",
       "      <td>-1.441906</td>\n",
       "      <td>0.297989</td>\n",
       "    </tr>\n",
       "    <tr>\n",
       "      <th>7</th>\n",
       "      <td>-0.141549</td>\n",
       "      <td>0.223235</td>\n",
       "      <td>1.443490</td>\n",
       "      <td>-0.840339</td>\n",
       "    </tr>\n",
       "  </tbody>\n",
       "</table>\n",
       "</div>"
      ],
      "text/plain": [
       "          0         1         2         3\n",
       "0 -1.517309  1.586426  0.229993 -1.780373\n",
       "1  1.680627  0.339365  0.588198 -0.809187\n",
       "2  0.958735  1.748877  1.147684 -0.351469\n",
       "3 -0.212040 -0.063911  0.419777  0.426531\n",
       "4  0.011670 -0.692702  1.257943  0.412257\n",
       "5  0.548825 -0.866272  0.655863 -0.447110\n",
       "6  0.984912  0.846628 -1.441906  0.297989\n",
       "7 -0.141549  0.223235  1.443490 -0.840339"
      ]
     },
     "execution_count": 21,
     "metadata": {},
     "output_type": "execute_result"
    }
   ],
   "source": [
    "df"
   ]
  },
  {
   "cell_type": "code",
   "execution_count": 22,
   "id": "96dc6882",
   "metadata": {},
   "outputs": [
    {
     "name": "stdout",
     "output_type": "stream",
     "text": [
      "0   -1.780373\n",
      "1   -0.809187\n",
      "2   -0.351469\n",
      "3    0.426531\n",
      "4    0.412257\n",
      "5   -0.447110\n",
      "6    0.297989\n",
      "7   -0.840339\n",
      "Name: 3, dtype: float64\n"
     ]
    }
   ],
   "source": [
    "print(df.iloc[:,-1])"
   ]
  },
  {
   "cell_type": "code",
   "execution_count": 23,
   "id": "c5ed0f8e",
   "metadata": {},
   "outputs": [
    {
     "name": "stdout",
     "output_type": "stream",
     "text": [
      "0   -1.517309\n",
      "1    1.680627\n",
      "2    0.958735\n",
      "3   -0.212040\n",
      "4    0.011670\n",
      "5    0.548825\n",
      "6    0.984912\n",
      "7   -0.141549\n",
      "Name: 0, dtype: float64\n"
     ]
    }
   ],
   "source": [
    "print(df.iloc[:,-4])"
   ]
  },
  {
   "cell_type": "code",
   "execution_count": 25,
   "id": "63cb7d30",
   "metadata": {},
   "outputs": [
    {
     "name": "stdout",
     "output_type": "stream",
     "text": [
      "0    1.586426\n",
      "1    0.339365\n",
      "2    1.748877\n",
      "3   -0.063911\n",
      "4   -0.692702\n",
      "5   -0.866272\n",
      "6    0.846628\n",
      "7    0.223235\n",
      "Name: 1, dtype: float64\n"
     ]
    }
   ],
   "source": [
    "print(df.iloc[:,-3])"
   ]
  },
  {
   "cell_type": "code",
   "execution_count": 26,
   "id": "640065f1",
   "metadata": {},
   "outputs": [
    {
     "name": "stdout",
     "output_type": "stream",
     "text": [
      "          1\n",
      "0  1.586426\n",
      "1  0.339365\n",
      "2  1.748877\n",
      "3 -0.063911\n",
      "4 -0.692702\n",
      "5 -0.866272\n",
      "6  0.846628\n",
      "7  0.223235\n"
     ]
    }
   ],
   "source": [
    "print(df.iloc[:,-3:-2])"
   ]
  },
  {
   "cell_type": "code",
   "execution_count": 28,
   "id": "8e5ed615",
   "metadata": {},
   "outputs": [
    {
     "name": "stdout",
     "output_type": "stream",
     "text": [
      "          0         1         2\n",
      "0 -1.517309  1.586426  0.229993\n",
      "1  1.680627  0.339365  0.588198\n",
      "2  0.958735  1.748877  1.147684\n",
      "3 -0.212040 -0.063911  0.419777\n",
      "4  0.011670 -0.692702  1.257943\n",
      "5  0.548825 -0.866272  0.655863\n",
      "6  0.984912  0.846628 -1.441906\n",
      "7 -0.141549  0.223235  1.443490\n"
     ]
    }
   ],
   "source": [
    "print(df.iloc[:,:-1])"
   ]
  },
  {
   "cell_type": "code",
   "execution_count": 29,
   "id": "f6c13d53",
   "metadata": {},
   "outputs": [
    {
     "name": "stdout",
     "output_type": "stream",
     "text": [
      "          0         1         2         3\n",
      "0 -1.517309  1.586426  0.229993 -1.780373\n",
      "1  1.680627  0.339365  0.588198 -0.809187\n",
      "2  0.958735  1.748877  1.147684 -0.351469\n",
      "3 -0.212040 -0.063911  0.419777  0.426531\n",
      "4  0.011670 -0.692702  1.257943  0.412257\n",
      "5  0.548825 -0.866272  0.655863 -0.447110\n",
      "6  0.984912  0.846628 -1.441906  0.297989\n",
      "7 -0.141549  0.223235  1.443490 -0.840339\n"
     ]
    }
   ],
   "source": [
    "print(df.iloc[:,-4:])"
   ]
  },
  {
   "cell_type": "code",
   "execution_count": 30,
   "id": "022caa5b",
   "metadata": {},
   "outputs": [
    {
     "name": "stdout",
     "output_type": "stream",
     "text": [
      "          0         1\n",
      "2  0.958735  1.748877\n",
      "3 -0.212040 -0.063911\n",
      "4  0.011670 -0.692702\n",
      "5  0.548825 -0.866272\n"
     ]
    }
   ],
   "source": [
    "# Negative indexicing\n",
    "#do     -- df.iloc[2:6,-4:-2]\n",
    "#                [3:7,-3:-1]\n",
    "#                [:,-4:-1]\n",
    "#                [-:,-2:-1]\n",
    "#                [1:4,-4:]\n",
    "#Practice    -- do it now\n",
    "\n",
    "\n",
    "print(df.iloc[2:6,-4:-2])"
   ]
  },
  {
   "cell_type": "code",
   "execution_count": 31,
   "id": "ea05dc92",
   "metadata": {},
   "outputs": [
    {
     "name": "stdout",
     "output_type": "stream",
     "text": [
      "          1         2\n",
      "3 -0.063911  0.419777\n",
      "4 -0.692702  1.257943\n",
      "5 -0.866272  0.655863\n",
      "6  0.846628 -1.441906\n"
     ]
    }
   ],
   "source": [
    "print(df.iloc[3:7,-3:-1])"
   ]
  },
  {
   "cell_type": "code",
   "execution_count": 32,
   "id": "966fed3a",
   "metadata": {},
   "outputs": [
    {
     "name": "stdout",
     "output_type": "stream",
     "text": [
      "          0         1         2\n",
      "0 -1.517309  1.586426  0.229993\n",
      "1  1.680627  0.339365  0.588198\n",
      "2  0.958735  1.748877  1.147684\n",
      "3 -0.212040 -0.063911  0.419777\n",
      "4  0.011670 -0.692702  1.257943\n",
      "5  0.548825 -0.866272  0.655863\n",
      "6  0.984912  0.846628 -1.441906\n",
      "7 -0.141549  0.223235  1.443490\n"
     ]
    }
   ],
   "source": [
    "   print(df.iloc[:,-4:-1])"
   ]
  },
  {
   "cell_type": "markdown",
   "id": "1c49f559",
   "metadata": {},
   "source": [
    "# Pandas Visualization"
   ]
  },
  {
   "cell_type": "raw",
   "id": "d4bc6dc1",
   "metadata": {},
   "source": [
    "These methods can be provided as the kind keyword argument to plot().These include  -\n",
    "\n",
    "bar or barh for bar plots\n",
    "\n",
    "hist for histogram\n",
    "\n",
    "box for boxplot\n",
    "\n",
    "'scatter' for scatter plots"
   ]
  },
  {
   "cell_type": "code",
   "execution_count": 33,
   "id": "1997a0db",
   "metadata": {},
   "outputs": [
    {
     "name": "stdout",
     "output_type": "stream",
     "text": [
      "          a         b         c         d\n",
      "0  0.037904  0.834780  0.717946  0.070173\n",
      "1  0.281352  0.034803  0.359018  0.172307\n",
      "2  0.734580  0.166827  0.871729  0.386783\n",
      "3  0.826188  0.647175  0.899612  0.276166\n",
      "4  0.295764  0.769803  0.417412  0.686792\n",
      "5  0.300077  0.931491  0.473282  0.566928\n",
      "6  0.134710  0.894616  0.493423  0.863578\n",
      "7  0.732094  0.759670  0.351590  0.800896\n",
      "8  0.996836  0.559988  0.951756  0.795020\n",
      "9  0.344625  0.918183  0.048180  0.122533\n"
     ]
    },
    {
     "data": {
      "text/plain": [
       "<AxesSubplot:>"
      ]
     },
     "execution_count": 33,
     "metadata": {},
     "output_type": "execute_result"
    },
    {
     "data": {
      "image/png": "[encoded data removed]",
      "text/plain": [
       "<Figure size 432x288 with 1 Axes>"
      ]
     },
     "metadata": {
      "needs_background": "light"
     },
     "output_type": "display_data"
    }
   ],
   "source": [
    "#Bar Plot\n",
    "import pandas as pd\n",
    "import numpy as np\n",
    "\n",
    "df = pd.DataFrame(np.random.rand(10,4),columns=['a','b','c','d'])\n",
    "print(df)\n",
    "df.plot.bar()"
   ]
  },
  {
   "cell_type": "code",
   "execution_count": 34,
   "id": "256dfa65",
   "metadata": {},
   "outputs": [
    {
     "data": {
      "text/plain": [
       "<AxesSubplot:>"
      ]
     },
     "execution_count": 34,
     "metadata": {},
     "output_type": "execute_result"
    },
    {
     "data": {
      "image/png": "[encoded data removed]",
      "text/plain": [
       "<Figure size 432x288 with 1 Axes>"
      ]
     },
     "metadata": {
      "needs_background": "light"
     },
     "output_type": "display_data"
    }
   ],
   "source": [
    "df.plot.bar(stacked=True)"
   ]
  },
  {
   "cell_type": "code",
   "execution_count": 35,
   "id": "86e2cf0d",
   "metadata": {},
   "outputs": [
    {
     "data": {
      "text/plain": [
       "<AxesSubplot:>"
      ]
     },
     "execution_count": 35,
     "metadata": {},
     "output_type": "execute_result"
    },
    {
     "data": {
      "image/png": "[encoded data removed]",
      "text/plain": [
       "<Figure size 432x288 with 1 Axes>"
      ]
     },
     "metadata": {
      "needs_background": "light"
     },
     "output_type": "display_data"
    }
   ],
   "source": [
    "#To get horizontal bar plots, use the barh method  -\n",
    "df.plot.barh(stacked=True)"
   ]
  },
  {
   "cell_type": "raw",
   "id": "6654fe44",
   "metadata": {},
   "source": [
    "Histograms can be plotted using the plot.hist()method.We can specify number of bins."
   ]
  },
  {
   "cell_type": "code",
   "execution_count": 36,
   "id": "b0496d25",
   "metadata": {},
   "outputs": [
    {
     "data": {
      "text/plain": [
       "<AxesSubplot:ylabel='Frequency'>"
      ]
     },
     "execution_count": 36,
     "metadata": {},
     "output_type": "execute_result"
    },
    {
     "data": {
      "image/png": "[encoded data removed]",
      "text/plain": [
       "<Figure size 432x288 with 1 Axes>"
      ]
     },
     "metadata": {
      "needs_background": "light"
     },
     "output_type": "display_data"
    }
   ],
   "source": [
    "df.plot.hist()"
   ]
  },
  {
   "cell_type": "raw",
   "id": "f1101953",
   "metadata": {},
   "source": [
    "Box Plots Boxplot can be drawn calling series.box.plot(), or DataFrame.boxplot() to visualize the distribution of \n",
    "values within each column.\n",
    "\n",
    "For instance,here is a boxlot representing five trials of 10 observations of a uniform random variable on [0.1]."
   ]
  },
  {
   "cell_type": "code",
   "execution_count": 38,
   "id": "55877820",
   "metadata": {},
   "outputs": [
    {
     "name": "stdout",
     "output_type": "stream",
     "text": [
      "          A         B         C         D         E\n",
      "0  0.521440  0.905210  0.350431  0.909312  0.541346\n",
      "1  0.717279  0.024407  0.566493  0.659799  0.518789\n",
      "2  0.048350  0.966825  0.126266  0.894412  0.693107\n",
      "3  0.965393  0.856227  0.190110  0.954138  0.767654\n",
      "4  0.054450  0.954629  0.610277  0.974639  0.807642\n",
      "5  0.062801  0.787308  0.687901  0.092548  0.916608\n",
      "6  0.914407  0.723239  0.763974  0.484304  0.177060\n",
      "7  0.291595  0.418095  0.142076  0.066129  0.143601\n",
      "8  0.720932  0.670218  0.350111  0.879422  0.539690\n",
      "9  0.364294  0.917310  0.661858  0.401565  0.776535\n"
     ]
    },
    {
     "data": {
      "text/plain": [
       "<AxesSubplot:>"
      ]
     },
     "execution_count": 38,
     "metadata": {},
     "output_type": "execute_result"
    },
    {
     "data": {
      "image/png": "[encoded data removed]",
      "text/plain": [
       "<Figure size 432x288 with 1 Axes>"
      ]
     },
     "metadata": {
      "needs_background": "light"
     },
     "output_type": "display_data"
    }
   ],
   "source": [
    "df = pd.DataFrame(np.random.rand(10,5),columns=['A','B','C','D','E'])\n",
    "print(df)\n",
    "df.plot.box()"
   ]
  },
  {
   "cell_type": "raw",
   "id": "aa4d58db",
   "metadata": {},
   "source": [
    "lower part shows minimum values and upper part shows maximum values"
   ]
  },
  {
   "cell_type": "markdown",
   "id": "1dbb533a",
   "metadata": {},
   "source": [
    "Scatter Plot"
   ]
  },
  {
   "cell_type": "markdown",
   "id": "c371ed35",
   "metadata": {},
   "source": [
    "scatter plot can be created using the DataFrame.plot.scatter\"(methods)"
   ]
  },
  {
   "cell_type": "code",
   "execution_count": 39,
   "id": "c1f212b1",
   "metadata": {},
   "outputs": [
    {
     "data": {
      "text/plain": [
       "<AxesSubplot:xlabel='a', ylabel='b'>"
      ]
     },
     "execution_count": 39,
     "metadata": {},
     "output_type": "execute_result"
    },
    {
     "data": {
      "image/png": "[encoded data removed]",
      "text/plain": [
       "<Figure size 432x288 with 1 Axes>"
      ]
     },
     "metadata": {
      "needs_background": "light"
     },
     "output_type": "display_data"
    }
   ],
   "source": [
    "df = pd.DataFrame(np.random.rand(50,4),columns=['a','b','c','d'])\n",
    "df.plot.scatter(x='a',y='b')"
   ]
  },
  {
   "cell_type": "markdown",
   "id": "8bffc30d",
   "metadata": {},
   "source": [
    "Data Analysis in Python"
   ]
  },
  {
   "cell_type": "markdown",
   "id": "5162229d",
   "metadata": {},
   "source": [
    "# Working with PANDAS FINAL\n",
    "\n",
    "Set Index"
   ]
  },
  {
   "cell_type": "markdown",
   "id": "1a2b5474",
   "metadata": {},
   "source": [
    "# CHANGE THE INDEX\n",
    "Next in python pandas tutorial,we will understand how to change the index values in a dataframe.\n",
    "For example,let us create a dataframe with some key value pairs in a dictionary \n",
    "and change the index values.Consider the example below:\n",
    "    \n",
    "Let us see how it actually happens:    "
   ]
  },
  {
   "cell_type": "code",
   "execution_count": 42,
   "id": "04a90b5d",
   "metadata": {},
   "outputs": [
    {
     "name": "stdout",
     "output_type": "stream",
     "text": [
      "   Day  Visitors  Bounce_Rate\n",
      "0    1       200           20\n",
      "1    2       100           45\n",
      "2    3       230           60\n",
      "3    4       300           10\n"
     ]
    },
    {
     "data": {
      "text/html": [
       "<div>\n",
       "<style scoped>\n",
       "    .dataframe tbody tr th:only-of-type {\n",
       "        vertical-align: middle;\n",
       "    }\n",
       "\n",
       "    .dataframe tbody tr th {\n",
       "        vertical-align: top;\n",
       "    }\n",
       "\n",
       "    .dataframe thead th {\n",
       "        text-align: right;\n",
       "    }\n",
       "</style>\n",
       "<table border=\"1\" class=\"dataframe\">\n",
       "  <thead>\n",
       "    <tr style=\"text-align: right;\">\n",
       "      <th></th>\n",
       "      <th>Visitors</th>\n",
       "      <th>Bounce_Rate</th>\n",
       "    </tr>\n",
       "    <tr>\n",
       "      <th>Day</th>\n",
       "      <th></th>\n",
       "      <th></th>\n",
       "    </tr>\n",
       "  </thead>\n",
       "  <tbody>\n",
       "    <tr>\n",
       "      <th>1</th>\n",
       "      <td>200</td>\n",
       "      <td>20</td>\n",
       "    </tr>\n",
       "    <tr>\n",
       "      <th>2</th>\n",
       "      <td>100</td>\n",
       "      <td>45</td>\n",
       "    </tr>\n",
       "    <tr>\n",
       "      <th>3</th>\n",
       "      <td>230</td>\n",
       "      <td>60</td>\n",
       "    </tr>\n",
       "    <tr>\n",
       "      <th>4</th>\n",
       "      <td>300</td>\n",
       "      <td>10</td>\n",
       "    </tr>\n",
       "  </tbody>\n",
       "</table>\n",
       "</div>"
      ],
      "text/plain": [
       "     Visitors  Bounce_Rate\n",
       "Day                       \n",
       "1         200           20\n",
       "2         100           45\n",
       "3         230           60\n",
       "4         300           10"
      ]
     },
     "execution_count": 42,
     "metadata": {},
     "output_type": "execute_result"
    }
   ],
   "source": [
    "import pandas as pd\n",
    "\n",
    "df= pd.DataFrame({\"Day\":[1,2,3,4],\"Visitors\":[200,100,230,300],\"Bounce_Rate\":[20,45,60,10]})\n",
    "print(df)\n",
    "\n",
    "df1=df.set_index(\"Day\")\n",
    "df1"
   ]
  },
  {
   "cell_type": "code",
   "execution_count": 43,
   "id": "db51042b",
   "metadata": {},
   "outputs": [
    {
     "name": "stdout",
     "output_type": "stream",
     "text": [
      "     Visitors  Bounce_Rate\n",
      "Day                       \n",
      "1         200           20\n",
      "2         100           45\n",
      "3         230           60\n",
      "4         300           10\n"
     ]
    }
   ],
   "source": [
    "df.set_index(\"Day\",inplace=True)\n",
    "\n",
    "print(df)"
   ]
  },
  {
   "cell_type": "code",
   "execution_count": 45,
   "id": "75ab22ba",
   "metadata": {},
   "outputs": [
    {
     "name": "stdout",
     "output_type": "stream",
     "text": [
      "     Users  Bounce_Rate\n",
      "Day                    \n",
      "1      200           20\n",
      "2      100           45\n",
      "3      230           60\n",
      "4      300           10\n"
     ]
    }
   ],
   "source": [
    "df = df.rename(columns={\"Visitors\":\"Users\"})\n",
    "\n",
    "print(df)"
   ]
  },
  {
   "cell_type": "markdown",
   "id": "69864085",
   "metadata": {},
   "source": [
    "# Data Analysis in Python"
   ]
  },
  {
   "cell_type": "code",
   "execution_count": 48,
   "id": "d113f9d0",
   "metadata": {},
   "outputs": [
    {
     "name": "stdout",
     "output_type": "stream",
     "text": [
      "   Day  Visitors  Bounce_Rate\n",
      "0    1      1000           20\n",
      "1    2       700           20\n",
      "2    3      6000           23\n",
      "3    4      1000           15\n",
      "4    5       400           10\n",
      "5    6       350           34\n"
     ]
    }
   ],
   "source": [
    "data= {\"Day\":[1,2,3,4,5,6],\"Visitors\":[1000,700,6000,1000,400,350],\"Bounce_Rate\":[20,20,23,15,10,34]}\n",
    "\n",
    "df=pd.DataFrame(data)\n",
    "\n",
    "print(df)"
   ]
  },
  {
   "cell_type": "code",
   "execution_count": 49,
   "id": "7c8b2df7",
   "metadata": {},
   "outputs": [
    {
     "data": {
      "text/html": [
       "<div>\n",
       "<style scoped>\n",
       "    .dataframe tbody tr th:only-of-type {\n",
       "        vertical-align: middle;\n",
       "    }\n",
       "\n",
       "    .dataframe tbody tr th {\n",
       "        vertical-align: top;\n",
       "    }\n",
       "\n",
       "    .dataframe thead th {\n",
       "        text-align: right;\n",
       "    }\n",
       "</style>\n",
       "<table border=\"1\" class=\"dataframe\">\n",
       "  <thead>\n",
       "    <tr style=\"text-align: right;\">\n",
       "      <th></th>\n",
       "      <th>Day</th>\n",
       "      <th>Visitors</th>\n",
       "      <th>Bounce_Rate</th>\n",
       "    </tr>\n",
       "  </thead>\n",
       "  <tbody>\n",
       "    <tr>\n",
       "      <th>0</th>\n",
       "      <td>1</td>\n",
       "      <td>1000</td>\n",
       "      <td>20</td>\n",
       "    </tr>\n",
       "    <tr>\n",
       "      <th>1</th>\n",
       "      <td>2</td>\n",
       "      <td>700</td>\n",
       "      <td>20</td>\n",
       "    </tr>\n",
       "    <tr>\n",
       "      <th>2</th>\n",
       "      <td>3</td>\n",
       "      <td>6000</td>\n",
       "      <td>23</td>\n",
       "    </tr>\n",
       "    <tr>\n",
       "      <th>3</th>\n",
       "      <td>4</td>\n",
       "      <td>1000</td>\n",
       "      <td>15</td>\n",
       "    </tr>\n",
       "    <tr>\n",
       "      <th>4</th>\n",
       "      <td>5</td>\n",
       "      <td>400</td>\n",
       "      <td>10</td>\n",
       "    </tr>\n",
       "  </tbody>\n",
       "</table>\n",
       "</div>"
      ],
      "text/plain": [
       "   Day  Visitors  Bounce_Rate\n",
       "0    1      1000           20\n",
       "1    2       700           20\n",
       "2    3      6000           23\n",
       "3    4      1000           15\n",
       "4    5       400           10"
      ]
     },
     "execution_count": 49,
     "metadata": {},
     "output_type": "execute_result"
    }
   ],
   "source": [
    "df.head()"
   ]
  },
  {
   "cell_type": "code",
   "execution_count": 50,
   "id": "b7d32bd2",
   "metadata": {},
   "outputs": [
    {
     "data": {
      "text/html": [
       "<div>\n",
       "<style scoped>\n",
       "    .dataframe tbody tr th:only-of-type {\n",
       "        vertical-align: middle;\n",
       "    }\n",
       "\n",
       "    .dataframe tbody tr th {\n",
       "        vertical-align: top;\n",
       "    }\n",
       "\n",
       "    .dataframe thead th {\n",
       "        text-align: right;\n",
       "    }\n",
       "</style>\n",
       "<table border=\"1\" class=\"dataframe\">\n",
       "  <thead>\n",
       "    <tr style=\"text-align: right;\">\n",
       "      <th></th>\n",
       "      <th>Day</th>\n",
       "      <th>Visitors</th>\n",
       "      <th>Bounce_Rate</th>\n",
       "    </tr>\n",
       "  </thead>\n",
       "  <tbody>\n",
       "    <tr>\n",
       "      <th>0</th>\n",
       "      <td>1</td>\n",
       "      <td>1000</td>\n",
       "      <td>20</td>\n",
       "    </tr>\n",
       "    <tr>\n",
       "      <th>1</th>\n",
       "      <td>2</td>\n",
       "      <td>700</td>\n",
       "      <td>20</td>\n",
       "    </tr>\n",
       "    <tr>\n",
       "      <th>2</th>\n",
       "      <td>3</td>\n",
       "      <td>6000</td>\n",
       "      <td>23</td>\n",
       "    </tr>\n",
       "  </tbody>\n",
       "</table>\n",
       "</div>"
      ],
      "text/plain": [
       "   Day  Visitors  Bounce_Rate\n",
       "0    1      1000           20\n",
       "1    2       700           20\n",
       "2    3      6000           23"
      ]
     },
     "execution_count": 50,
     "metadata": {},
     "output_type": "execute_result"
    }
   ],
   "source": [
    "df.head(3)"
   ]
  },
  {
   "cell_type": "code",
   "execution_count": 51,
   "id": "5332ab11",
   "metadata": {},
   "outputs": [
    {
     "data": {
      "text/html": [
       "<div>\n",
       "<style scoped>\n",
       "    .dataframe tbody tr th:only-of-type {\n",
       "        vertical-align: middle;\n",
       "    }\n",
       "\n",
       "    .dataframe tbody tr th {\n",
       "        vertical-align: top;\n",
       "    }\n",
       "\n",
       "    .dataframe thead th {\n",
       "        text-align: right;\n",
       "    }\n",
       "</style>\n",
       "<table border=\"1\" class=\"dataframe\">\n",
       "  <thead>\n",
       "    <tr style=\"text-align: right;\">\n",
       "      <th></th>\n",
       "      <th>Day</th>\n",
       "      <th>Visitors</th>\n",
       "      <th>Bounce_Rate</th>\n",
       "    </tr>\n",
       "  </thead>\n",
       "  <tbody>\n",
       "    <tr>\n",
       "      <th>1</th>\n",
       "      <td>2</td>\n",
       "      <td>700</td>\n",
       "      <td>20</td>\n",
       "    </tr>\n",
       "    <tr>\n",
       "      <th>2</th>\n",
       "      <td>3</td>\n",
       "      <td>6000</td>\n",
       "      <td>23</td>\n",
       "    </tr>\n",
       "    <tr>\n",
       "      <th>3</th>\n",
       "      <td>4</td>\n",
       "      <td>1000</td>\n",
       "      <td>15</td>\n",
       "    </tr>\n",
       "    <tr>\n",
       "      <th>4</th>\n",
       "      <td>5</td>\n",
       "      <td>400</td>\n",
       "      <td>10</td>\n",
       "    </tr>\n",
       "    <tr>\n",
       "      <th>5</th>\n",
       "      <td>6</td>\n",
       "      <td>350</td>\n",
       "      <td>34</td>\n",
       "    </tr>\n",
       "  </tbody>\n",
       "</table>\n",
       "</div>"
      ],
      "text/plain": [
       "   Day  Visitors  Bounce_Rate\n",
       "1    2       700           20\n",
       "2    3      6000           23\n",
       "3    4      1000           15\n",
       "4    5       400           10\n",
       "5    6       350           34"
      ]
     },
     "execution_count": 51,
     "metadata": {},
     "output_type": "execute_result"
    }
   ],
   "source": [
    "df.tail()"
   ]
  },
  {
   "cell_type": "code",
   "execution_count": 52,
   "id": "fd2048a8",
   "metadata": {},
   "outputs": [
    {
     "data": {
      "text/html": [
       "<div>\n",
       "<style scoped>\n",
       "    .dataframe tbody tr th:only-of-type {\n",
       "        vertical-align: middle;\n",
       "    }\n",
       "\n",
       "    .dataframe tbody tr th {\n",
       "        vertical-align: top;\n",
       "    }\n",
       "\n",
       "    .dataframe thead th {\n",
       "        text-align: right;\n",
       "    }\n",
       "</style>\n",
       "<table border=\"1\" class=\"dataframe\">\n",
       "  <thead>\n",
       "    <tr style=\"text-align: right;\">\n",
       "      <th></th>\n",
       "      <th>Day</th>\n",
       "      <th>Visitors</th>\n",
       "      <th>Bounce_Rate</th>\n",
       "    </tr>\n",
       "  </thead>\n",
       "  <tbody>\n",
       "    <tr>\n",
       "      <th>4</th>\n",
       "      <td>5</td>\n",
       "      <td>400</td>\n",
       "      <td>10</td>\n",
       "    </tr>\n",
       "    <tr>\n",
       "      <th>5</th>\n",
       "      <td>6</td>\n",
       "      <td>350</td>\n",
       "      <td>34</td>\n",
       "    </tr>\n",
       "  </tbody>\n",
       "</table>\n",
       "</div>"
      ],
      "text/plain": [
       "   Day  Visitors  Bounce_Rate\n",
       "4    5       400           10\n",
       "5    6       350           34"
      ]
     },
     "execution_count": 52,
     "metadata": {},
     "output_type": "execute_result"
    }
   ],
   "source": [
    "df.tail(2)"
   ]
  },
  {
   "cell_type": "code",
   "execution_count": 53,
   "id": "75723171",
   "metadata": {},
   "outputs": [
    {
     "data": {
      "text/html": [
       "<div>\n",
       "<style scoped>\n",
       "    .dataframe tbody tr th:only-of-type {\n",
       "        vertical-align: middle;\n",
       "    }\n",
       "\n",
       "    .dataframe tbody tr th {\n",
       "        vertical-align: top;\n",
       "    }\n",
       "\n",
       "    .dataframe thead th {\n",
       "        text-align: right;\n",
       "    }\n",
       "</style>\n",
       "<table border=\"1\" class=\"dataframe\">\n",
       "  <thead>\n",
       "    <tr style=\"text-align: right;\">\n",
       "      <th></th>\n",
       "      <th>Day</th>\n",
       "      <th>Visitors</th>\n",
       "      <th>Bounce_Rate</th>\n",
       "    </tr>\n",
       "  </thead>\n",
       "  <tbody>\n",
       "    <tr>\n",
       "      <th>2</th>\n",
       "      <td>3</td>\n",
       "      <td>6000</td>\n",
       "      <td>23</td>\n",
       "    </tr>\n",
       "  </tbody>\n",
       "</table>\n",
       "</div>"
      ],
      "text/plain": [
       "   Day  Visitors  Bounce_Rate\n",
       "2    3      6000           23"
      ]
     },
     "execution_count": 53,
     "metadata": {},
     "output_type": "execute_result"
    }
   ],
   "source": [
    "df.sample()"
   ]
  },
  {
   "cell_type": "code",
   "execution_count": 54,
   "id": "85b9668e",
   "metadata": {},
   "outputs": [
    {
     "data": {
      "text/html": [
       "<div>\n",
       "<style scoped>\n",
       "    .dataframe tbody tr th:only-of-type {\n",
       "        vertical-align: middle;\n",
       "    }\n",
       "\n",
       "    .dataframe tbody tr th {\n",
       "        vertical-align: top;\n",
       "    }\n",
       "\n",
       "    .dataframe thead th {\n",
       "        text-align: right;\n",
       "    }\n",
       "</style>\n",
       "<table border=\"1\" class=\"dataframe\">\n",
       "  <thead>\n",
       "    <tr style=\"text-align: right;\">\n",
       "      <th></th>\n",
       "      <th>Day</th>\n",
       "      <th>Visitors</th>\n",
       "      <th>Bounce_Rate</th>\n",
       "    </tr>\n",
       "  </thead>\n",
       "  <tbody>\n",
       "    <tr>\n",
       "      <th>2</th>\n",
       "      <td>3</td>\n",
       "      <td>6000</td>\n",
       "      <td>23</td>\n",
       "    </tr>\n",
       "    <tr>\n",
       "      <th>0</th>\n",
       "      <td>1</td>\n",
       "      <td>1000</td>\n",
       "      <td>20</td>\n",
       "    </tr>\n",
       "  </tbody>\n",
       "</table>\n",
       "</div>"
      ],
      "text/plain": [
       "   Day  Visitors  Bounce_Rate\n",
       "2    3      6000           23\n",
       "0    1      1000           20"
      ]
     },
     "execution_count": 54,
     "metadata": {},
     "output_type": "execute_result"
    }
   ],
   "source": [
    "df.sample(2)"
   ]
  },
  {
   "cell_type": "code",
   "execution_count": 55,
   "id": "a5e429ae",
   "metadata": {},
   "outputs": [
    {
     "data": {
      "text/html": [
       "<div>\n",
       "<style scoped>\n",
       "    .dataframe tbody tr th:only-of-type {\n",
       "        vertical-align: middle;\n",
       "    }\n",
       "\n",
       "    .dataframe tbody tr th {\n",
       "        vertical-align: top;\n",
       "    }\n",
       "\n",
       "    .dataframe thead th {\n",
       "        text-align: right;\n",
       "    }\n",
       "</style>\n",
       "<table border=\"1\" class=\"dataframe\">\n",
       "  <thead>\n",
       "    <tr style=\"text-align: right;\">\n",
       "      <th></th>\n",
       "      <th>Day</th>\n",
       "      <th>Visitors</th>\n",
       "      <th>Bounce_Rate</th>\n",
       "    </tr>\n",
       "  </thead>\n",
       "  <tbody>\n",
       "    <tr>\n",
       "      <th>4</th>\n",
       "      <td>5</td>\n",
       "      <td>400</td>\n",
       "      <td>10</td>\n",
       "    </tr>\n",
       "    <tr>\n",
       "      <th>2</th>\n",
       "      <td>3</td>\n",
       "      <td>6000</td>\n",
       "      <td>23</td>\n",
       "    </tr>\n",
       "    <tr>\n",
       "      <th>5</th>\n",
       "      <td>6</td>\n",
       "      <td>350</td>\n",
       "      <td>34</td>\n",
       "    </tr>\n",
       "  </tbody>\n",
       "</table>\n",
       "</div>"
      ],
      "text/plain": [
       "   Day  Visitors  Bounce_Rate\n",
       "4    5       400           10\n",
       "2    3      6000           23\n",
       "5    6       350           34"
      ]
     },
     "execution_count": 55,
     "metadata": {},
     "output_type": "execute_result"
    }
   ],
   "source": [
    "df.sample(3)"
   ]
  },
  {
   "cell_type": "code",
   "execution_count": null,
   "id": "539bbab5",
   "metadata": {},
   "outputs": [],
   "source": []
  }
 ],
 "metadata": {
  "kernelspec": {
   "display_name": "Python 3 (ipykernel)",
   "language": "python",
   "name": "python3"
  },
  "language_info": {
   "codemirror_mode": {
    "name": "ipython",
    "version": 3
   },
   "file_extension": ".py",
   "mimetype": "text/x-python",
   "name": "python",
   "nbconvert_exporter": "python",
   "pygments_lexer": "ipython3",
   "version": "3.9.12"
  }
 },
 "nbformat": 4,
 "nbformat_minor": 5
}
