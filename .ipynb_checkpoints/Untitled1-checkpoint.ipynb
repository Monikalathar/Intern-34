{
 "cells": [
  {
   "cell_type": "markdown",
   "id": "938e6fe1",
   "metadata": {},
   "source": [
    "strin functions:word=Predefined inside the string\n",
    "    'computer'word.upper()==COMPUTER\n",
    "    String1='MOBILE'\n",
    "    STRING1.LOWER()==mobile\n",
    "    str1=\"TeSla\"==str1.swapcase()==\"tEsLA\""
   ]
  },
  {
   "cell_type": "markdown",
   "id": "7760cc5d",
   "metadata": {},
   "source": [
    "String Functions"
   ]
  },
  {
   "cell_type": "code",
   "execution_count": 1,
   "id": "7ad0f45b",
   "metadata": {},
   "outputs": [],
   "source": [
    "word=\"computer\""
   ]
  },
  {
   "cell_type": "code",
   "execution_count": 2,
   "id": "abc0378b",
   "metadata": {},
   "outputs": [
    {
     "data": {
      "text/plain": [
       "'computer'"
      ]
     },
     "execution_count": 2,
     "metadata": {},
     "output_type": "execute_result"
    }
   ],
   "source": [
    "word"
   ]
  },
  {
   "cell_type": "code",
   "execution_count": 44,
   "id": "f91412cf",
   "metadata": {},
   "outputs": [
    {
     "data": {
      "text/plain": [
       "False"
      ]
     },
     "execution_count": 44,
     "metadata": {},
     "output_type": "execute_result"
    }
   ],
   "source": [
    "word.isupper()"
   ]
  },
  {
   "cell_type": "raw",
   "id": "9a448772",
   "metadata": {},
   "source": [
    "word.islower()"
   ]
  },
  {
   "cell_type": "code",
   "execution_count": 3,
   "id": "0bb454d4",
   "metadata": {},
   "outputs": [
    {
     "data": {
      "text/plain": [
       "'COMPUTER'"
      ]
     },
     "execution_count": 3,
     "metadata": {},
     "output_type": "execute_result"
    }
   ],
   "source": [
    "word.upper()"
   ]
  },
  {
   "cell_type": "code",
   "execution_count": 46,
   "id": "edcf2ecd",
   "metadata": {},
   "outputs": [
    {
     "data": {
      "text/plain": [
       "False"
      ]
     },
     "execution_count": 46,
     "metadata": {},
     "output_type": "execute_result"
    }
   ],
   "source": [
    "word.isupper()"
   ]
  },
  {
   "cell_type": "code",
   "execution_count": 49,
   "id": "f3b22a50",
   "metadata": {},
   "outputs": [],
   "source": [
    "y=word.isupper()"
   ]
  },
  {
   "cell_type": "code",
   "execution_count": 51,
   "id": "5cf75499",
   "metadata": {},
   "outputs": [
    {
     "data": {
      "text/plain": [
       "False"
      ]
     },
     "execution_count": 51,
     "metadata": {},
     "output_type": "execute_result"
    }
   ],
   "source": [
    "y"
   ]
  },
  {
   "cell_type": "code",
   "execution_count": 4,
   "id": "a39e16f2",
   "metadata": {},
   "outputs": [],
   "source": [
    "word1=\"MOBILE\""
   ]
  },
  {
   "cell_type": "code",
   "execution_count": 7,
   "id": "610eec45",
   "metadata": {},
   "outputs": [
    {
     "data": {
      "text/plain": [
       "'MOBILE'"
      ]
     },
     "execution_count": 7,
     "metadata": {},
     "output_type": "execute_result"
    }
   ],
   "source": [
    "word1"
   ]
  },
  {
   "cell_type": "code",
   "execution_count": 9,
   "id": "48ba30c1",
   "metadata": {},
   "outputs": [
    {
     "data": {
      "text/plain": [
       "'mobile'"
      ]
     },
     "execution_count": 9,
     "metadata": {},
     "output_type": "execute_result"
    }
   ],
   "source": [
    "word1.lower()"
   ]
  },
  {
   "cell_type": "code",
   "execution_count": 10,
   "id": "30a4d5c4",
   "metadata": {},
   "outputs": [],
   "source": [
    "word2=\"TeSla\""
   ]
  },
  {
   "cell_type": "raw",
   "id": "92756393",
   "metadata": {},
   "source": [
    "word2"
   ]
  },
  {
   "cell_type": "code",
   "execution_count": 11,
   "id": "483ec0de",
   "metadata": {},
   "outputs": [
    {
     "data": {
      "text/plain": [
       "'TeSla'"
      ]
     },
     "execution_count": 11,
     "metadata": {},
     "output_type": "execute_result"
    }
   ],
   "source": [
    "word2"
   ]
  },
  {
   "cell_type": "code",
   "execution_count": 12,
   "id": "f134d1b4",
   "metadata": {},
   "outputs": [
    {
     "data": {
      "text/plain": [
       "'tEsLA'"
      ]
     },
     "execution_count": 12,
     "metadata": {},
     "output_type": "execute_result"
    }
   ],
   "source": [
    "word2.swapcase()"
   ]
  },
  {
   "cell_type": "code",
   "execution_count": 13,
   "id": "24947aaa",
   "metadata": {},
   "outputs": [
    {
     "data": {
      "text/plain": [
       "'lenovo'"
      ]
     },
     "execution_count": 13,
     "metadata": {},
     "output_type": "execute_result"
    }
   ],
   "source": [
    "string1=\"LENOVO\"\n",
    "string1.lower()"
   ]
  },
  {
   "cell_type": "code",
   "execution_count": 14,
   "id": "80bd6e0d",
   "metadata": {},
   "outputs": [
    {
     "data": {
      "text/plain": [
       "'lenovo'"
      ]
     },
     "execution_count": 14,
     "metadata": {},
     "output_type": "execute_result"
    }
   ],
   "source": [
    "a=string1.lower()\n",
    "a"
   ]
  },
  {
   "cell_type": "code",
   "execution_count": 15,
   "id": "c5af1037",
   "metadata": {},
   "outputs": [
    {
     "data": {
      "text/plain": [
       "'PLANETS'"
      ]
     },
     "execution_count": 15,
     "metadata": {},
     "output_type": "execute_result"
    }
   ],
   "source": [
    "string2=\"planets\"\n",
    "b=string2.upper()\n",
    "b"
   ]
  },
  {
   "cell_type": "code",
   "execution_count": 16,
   "id": "f508606a",
   "metadata": {},
   "outputs": [
    {
     "data": {
      "text/plain": [
       "'mAtRiX'"
      ]
     },
     "execution_count": 16,
     "metadata": {},
     "output_type": "execute_result"
    }
   ],
   "source": [
    "string3='mAtRiX'\n",
    "string3"
   ]
  },
  {
   "cell_type": "code",
   "execution_count": 19,
   "id": "5f21eb96",
   "metadata": {},
   "outputs": [],
   "source": [
    "c=string3.swapcase()\n"
   ]
  },
  {
   "cell_type": "code",
   "execution_count": 20,
   "id": "04e970d4",
   "metadata": {},
   "outputs": [
    {
     "data": {
      "text/plain": [
       "'MaTrIx'"
      ]
     },
     "execution_count": 20,
     "metadata": {},
     "output_type": "execute_result"
    }
   ],
   "source": [
    "c"
   ]
  },
  {
   "cell_type": "code",
   "execution_count": 24,
   "id": "ccb5ccca",
   "metadata": {},
   "outputs": [],
   "source": [
    "string4=\"mars\""
   ]
  },
  {
   "cell_type": "code",
   "execution_count": 25,
   "id": "982cc912",
   "metadata": {},
   "outputs": [
    {
     "data": {
      "text/plain": [
       "'mars'"
      ]
     },
     "execution_count": 25,
     "metadata": {},
     "output_type": "execute_result"
    }
   ],
   "source": [
    "string4"
   ]
  },
  {
   "cell_type": "code",
   "execution_count": 26,
   "id": "9bb3dab6",
   "metadata": {},
   "outputs": [
    {
     "data": {
      "text/plain": [
       "'Mars'"
      ]
     },
     "execution_count": 26,
     "metadata": {},
     "output_type": "execute_result"
    }
   ],
   "source": [
    "string4.capitalize()"
   ]
  },
  {
   "cell_type": "code",
   "execution_count": 27,
   "id": "4cc9f6aa",
   "metadata": {},
   "outputs": [],
   "source": [
    "string5=\"data science\""
   ]
  },
  {
   "cell_type": "code",
   "execution_count": 28,
   "id": "9b12c914",
   "metadata": {},
   "outputs": [
    {
     "data": {
      "text/plain": [
       "'data science'"
      ]
     },
     "execution_count": 28,
     "metadata": {},
     "output_type": "execute_result"
    }
   ],
   "source": [
    "string5"
   ]
  },
  {
   "cell_type": "code",
   "execution_count": 29,
   "id": "e2907e25",
   "metadata": {},
   "outputs": [
    {
     "data": {
      "text/plain": [
       "'Data Science'"
      ]
     },
     "execution_count": 29,
     "metadata": {},
     "output_type": "execute_result"
    }
   ],
   "source": [
    "string5.title()"
   ]
  },
  {
   "cell_type": "code",
   "execution_count": 30,
   "id": "e4df1933",
   "metadata": {},
   "outputs": [
    {
     "data": {
      "text/plain": [
       "'there are many galaxies in universe'"
      ]
     },
     "execution_count": 30,
     "metadata": {},
     "output_type": "execute_result"
    }
   ],
   "source": [
    "string6=\"there are many galaxies in universe\"\n",
    "string6"
   ]
  },
  {
   "cell_type": "code",
   "execution_count": 31,
   "id": "3b895e95",
   "metadata": {},
   "outputs": [
    {
     "data": {
      "text/plain": [
       "'There Are Many Galaxies In Universe'"
      ]
     },
     "execution_count": 31,
     "metadata": {},
     "output_type": "execute_result"
    }
   ],
   "source": [
    "string6.title()"
   ]
  },
  {
   "cell_type": "code",
   "execution_count": 32,
   "id": "e5e26830",
   "metadata": {},
   "outputs": [],
   "source": [
    "word4=\"mars rover\""
   ]
  },
  {
   "cell_type": "code",
   "execution_count": 33,
   "id": "540c4288",
   "metadata": {},
   "outputs": [
    {
     "data": {
      "text/plain": [
       "'mars rover'"
      ]
     },
     "execution_count": 33,
     "metadata": {},
     "output_type": "execute_result"
    }
   ],
   "source": [
    "word4"
   ]
  },
  {
   "cell_type": "code",
   "execution_count": 34,
   "id": "fb15e980",
   "metadata": {},
   "outputs": [
    {
     "data": {
      "text/plain": [
       "'Mars rover'"
      ]
     },
     "execution_count": 34,
     "metadata": {},
     "output_type": "execute_result"
    }
   ],
   "source": [
    "word4.capitalize()"
   ]
  },
  {
   "cell_type": "code",
   "execution_count": 35,
   "id": "6180b4f6",
   "metadata": {},
   "outputs": [
    {
     "data": {
      "text/plain": [
       "'Mars Rover'"
      ]
     },
     "execution_count": 35,
     "metadata": {},
     "output_type": "execute_result"
    }
   ],
   "source": [
    "word4.title()"
   ]
  },
  {
   "cell_type": "code",
   "execution_count": 36,
   "id": "f3d3fa72",
   "metadata": {},
   "outputs": [
    {
     "data": {
      "text/plain": [
       "'elon musk is a ceo of tesla'"
      ]
     },
     "execution_count": 36,
     "metadata": {},
     "output_type": "execute_result"
    }
   ],
   "source": [
    "word5=\"elon musk is a ceo of tesla\"\n",
    "\n",
    "word5"
   ]
  },
  {
   "cell_type": "code",
   "execution_count": 37,
   "id": "a1754289",
   "metadata": {},
   "outputs": [
    {
     "data": {
      "text/plain": [
       "'Elon Musk Is A Ceo Of Tesla'"
      ]
     },
     "execution_count": 37,
     "metadata": {},
     "output_type": "execute_result"
    }
   ],
   "source": [
    "word5.title()"
   ]
  },
  {
   "cell_type": "code",
   "execution_count": 38,
   "id": "5c41fe44",
   "metadata": {},
   "outputs": [
    {
     "data": {
      "text/plain": [
       "'Elon musk is a ceo of tesla'"
      ]
     },
     "execution_count": 38,
     "metadata": {},
     "output_type": "execute_result"
    }
   ],
   "source": [
    "word5.capitalize()"
   ]
  },
  {
   "cell_type": "code",
   "execution_count": 39,
   "id": "aa1f312c",
   "metadata": {},
   "outputs": [
    {
     "data": {
      "text/plain": [
       "'elon musk is a ceo of tesla'"
      ]
     },
     "execution_count": 39,
     "metadata": {},
     "output_type": "execute_result"
    }
   ],
   "source": [
    "word5"
   ]
  },
  {
   "cell_type": "code",
   "execution_count": 40,
   "id": "cf6a75bd",
   "metadata": {},
   "outputs": [],
   "source": [
    "d=word5.title()"
   ]
  },
  {
   "cell_type": "code",
   "execution_count": 41,
   "id": "cc298da9",
   "metadata": {},
   "outputs": [
    {
     "data": {
      "text/plain": [
       "'Elon Musk Is A Ceo Of Tesla'"
      ]
     },
     "execution_count": 41,
     "metadata": {},
     "output_type": "execute_result"
    }
   ],
   "source": [
    "d"
   ]
  },
  {
   "cell_type": "code",
   "execution_count": 42,
   "id": "4094cb19",
   "metadata": {},
   "outputs": [
    {
     "data": {
      "text/plain": [
       "'there are many galaxies in universe'"
      ]
     },
     "execution_count": 42,
     "metadata": {},
     "output_type": "execute_result"
    }
   ],
   "source": [
    "string6"
   ]
  },
  {
   "cell_type": "code",
   "execution_count": 43,
   "id": "18073ae9",
   "metadata": {},
   "outputs": [
    {
     "data": {
      "text/plain": [
       "['there', 'are', 'many', 'galaxies', 'in', 'universe']"
      ]
     },
     "execution_count": 43,
     "metadata": {},
     "output_type": "execute_result"
    }
   ],
   "source": [
    "string6.split()"
   ]
  },
  {
   "cell_type": "code",
   "execution_count": 52,
   "id": "23ad3dca",
   "metadata": {},
   "outputs": [
    {
     "data": {
      "text/plain": [
       "'MOBILE'"
      ]
     },
     "execution_count": 52,
     "metadata": {},
     "output_type": "execute_result"
    }
   ],
   "source": [
    "word1"
   ]
  },
  {
   "cell_type": "code",
   "execution_count": 53,
   "id": "5ed1ee09",
   "metadata": {},
   "outputs": [
    {
     "data": {
      "text/plain": [
       "True"
      ]
     },
     "execution_count": 53,
     "metadata": {},
     "output_type": "execute_result"
    }
   ],
   "source": [
    "word1.isupper()"
   ]
  },
  {
   "cell_type": "code",
   "execution_count": 54,
   "id": "2eed3aff",
   "metadata": {},
   "outputs": [
    {
     "data": {
      "text/plain": [
       "False"
      ]
     },
     "execution_count": 54,
     "metadata": {},
     "output_type": "execute_result"
    }
   ],
   "source": [
    "word1.islower()"
   ]
  },
  {
   "cell_type": "code",
   "execution_count": 55,
   "id": "7e3a9492",
   "metadata": {},
   "outputs": [],
   "source": [
    "test1=\"1234\""
   ]
  },
  {
   "cell_type": "code",
   "execution_count": 56,
   "id": "cc63a4ad",
   "metadata": {},
   "outputs": [
    {
     "data": {
      "text/plain": [
       "'1234'"
      ]
     },
     "execution_count": 56,
     "metadata": {},
     "output_type": "execute_result"
    }
   ],
   "source": [
    "test1"
   ]
  },
  {
   "cell_type": "code",
   "execution_count": 58,
   "id": "a192fb72",
   "metadata": {},
   "outputs": [
    {
     "data": {
      "text/plain": [
       "False"
      ]
     },
     "execution_count": 58,
     "metadata": {},
     "output_type": "execute_result"
    }
   ],
   "source": [
    "test1.isalpha()"
   ]
  },
  {
   "cell_type": "code",
   "execution_count": 59,
   "id": "4fa4e74d",
   "metadata": {},
   "outputs": [
    {
     "data": {
      "text/plain": [
       "True"
      ]
     },
     "execution_count": 59,
     "metadata": {},
     "output_type": "execute_result"
    }
   ],
   "source": [
    "test1.isdigit()"
   ]
  },
  {
   "cell_type": "code",
   "execution_count": 60,
   "id": "f97b774d",
   "metadata": {},
   "outputs": [
    {
     "data": {
      "text/plain": [
       "'MOBILE'"
      ]
     },
     "execution_count": 60,
     "metadata": {},
     "output_type": "execute_result"
    }
   ],
   "source": [
    "word1"
   ]
  },
  {
   "cell_type": "code",
   "execution_count": 61,
   "id": "e679325e",
   "metadata": {},
   "outputs": [
    {
     "data": {
      "text/plain": [
       "True"
      ]
     },
     "execution_count": 61,
     "metadata": {},
     "output_type": "execute_result"
    }
   ],
   "source": [
    "word1.isalpha()"
   ]
  },
  {
   "cell_type": "code",
   "execution_count": 62,
   "id": "88f4fd27",
   "metadata": {},
   "outputs": [
    {
     "data": {
      "text/plain": [
       "False"
      ]
     },
     "execution_count": 62,
     "metadata": {},
     "output_type": "execute_result"
    }
   ],
   "source": [
    "word1.isdigit()"
   ]
  },
  {
   "cell_type": "code",
   "execution_count": 63,
   "id": "acf5ddc8",
   "metadata": {},
   "outputs": [],
   "source": [
    "k=\"Jaguar123\""
   ]
  },
  {
   "cell_type": "code",
   "execution_count": 64,
   "id": "276f4c93",
   "metadata": {},
   "outputs": [
    {
     "data": {
      "text/plain": [
       "'Jaguar123'"
      ]
     },
     "execution_count": 64,
     "metadata": {},
     "output_type": "execute_result"
    }
   ],
   "source": [
    "k"
   ]
  },
  {
   "cell_type": "code",
   "execution_count": 65,
   "id": "6cf86c6a",
   "metadata": {},
   "outputs": [
    {
     "data": {
      "text/plain": [
       "False"
      ]
     },
     "execution_count": 65,
     "metadata": {},
     "output_type": "execute_result"
    }
   ],
   "source": [
    "k.isalpha()"
   ]
  },
  {
   "cell_type": "code",
   "execution_count": 66,
   "id": "d99ba93a",
   "metadata": {},
   "outputs": [
    {
     "data": {
      "text/plain": [
       "True"
      ]
     },
     "execution_count": 66,
     "metadata": {},
     "output_type": "execute_result"
    }
   ],
   "source": [
    "k.isalnum()"
   ]
  },
  {
   "cell_type": "code",
   "execution_count": 67,
   "id": "7193c364",
   "metadata": {},
   "outputs": [
    {
     "data": {
      "text/plain": [
       "'there are many galaxies in universe'"
      ]
     },
     "execution_count": 67,
     "metadata": {},
     "output_type": "execute_result"
    }
   ],
   "source": [
    "string6"
   ]
  },
  {
   "cell_type": "code",
   "execution_count": 68,
   "id": "58de0e3e",
   "metadata": {},
   "outputs": [
    {
     "data": {
      "text/plain": [
       "True"
      ]
     },
     "execution_count": 68,
     "metadata": {},
     "output_type": "execute_result"
    }
   ],
   "source": [
    "string6.startswith('there')"
   ]
  },
  {
   "cell_type": "code",
   "execution_count": 69,
   "id": "4ff60146",
   "metadata": {},
   "outputs": [
    {
     "data": {
      "text/plain": [
       "False"
      ]
     },
     "execution_count": 69,
     "metadata": {},
     "output_type": "execute_result"
    }
   ],
   "source": [
    "string6.startswith('many')"
   ]
  },
  {
   "cell_type": "code",
   "execution_count": 70,
   "id": "f80dbfaf",
   "metadata": {},
   "outputs": [
    {
     "data": {
      "text/plain": [
       "False"
      ]
     },
     "execution_count": 70,
     "metadata": {},
     "output_type": "execute_result"
    }
   ],
   "source": [
    "string6.startswith('universe')"
   ]
  },
  {
   "cell_type": "code",
   "execution_count": 71,
   "id": "343e810d",
   "metadata": {},
   "outputs": [
    {
     "data": {
      "text/plain": [
       "'there are many galaxies in universe'"
      ]
     },
     "execution_count": 71,
     "metadata": {},
     "output_type": "execute_result"
    }
   ],
   "source": [
    "string6"
   ]
  },
  {
   "cell_type": "code",
   "execution_count": 72,
   "id": "0d8588ea",
   "metadata": {},
   "outputs": [
    {
     "data": {
      "text/plain": [
       "True"
      ]
     },
     "execution_count": 72,
     "metadata": {},
     "output_type": "execute_result"
    }
   ],
   "source": [
    "string6.endswith('universe')"
   ]
  },
  {
   "cell_type": "code",
   "execution_count": 73,
   "id": "b5a18ce8",
   "metadata": {},
   "outputs": [
    {
     "data": {
      "text/plain": [
       "False"
      ]
     },
     "execution_count": 73,
     "metadata": {},
     "output_type": "execute_result"
    }
   ],
   "source": [
    "string6.endswith('galaxies')"
   ]
  },
  {
   "cell_type": "code",
   "execution_count": 74,
   "id": "7a8a3ff7",
   "metadata": {},
   "outputs": [
    {
     "data": {
      "text/plain": [
       "'elon musk is a ceo of tesla'"
      ]
     },
     "execution_count": 74,
     "metadata": {},
     "output_type": "execute_result"
    }
   ],
   "source": [
    "word5"
   ]
  },
  {
   "cell_type": "code",
   "execution_count": 75,
   "id": "28c2eb8f",
   "metadata": {},
   "outputs": [
    {
     "data": {
      "text/plain": [
       "5"
      ]
     },
     "execution_count": 75,
     "metadata": {},
     "output_type": "execute_result"
    }
   ],
   "source": [
    "word5.find(\"musk\")"
   ]
  },
  {
   "cell_type": "code",
   "execution_count": 76,
   "id": "c83666a0",
   "metadata": {},
   "outputs": [
    {
     "data": {
      "text/plain": [
       "22"
      ]
     },
     "execution_count": 76,
     "metadata": {},
     "output_type": "execute_result"
    }
   ],
   "source": [
    "word5.find(\"tesla\")"
   ]
  },
  {
   "cell_type": "code",
   "execution_count": 77,
   "id": "d8d8febd",
   "metadata": {},
   "outputs": [
    {
     "data": {
      "text/plain": [
       "15"
      ]
     },
     "execution_count": 77,
     "metadata": {},
     "output_type": "execute_result"
    }
   ],
   "source": [
    "word5.find(\"ceo\")"
   ]
  },
  {
   "cell_type": "code",
   "execution_count": 78,
   "id": "331b0b19",
   "metadata": {},
   "outputs": [
    {
     "data": {
      "text/plain": [
       "10"
      ]
     },
     "execution_count": 78,
     "metadata": {},
     "output_type": "execute_result"
    }
   ],
   "source": [
    "word5.find(\"is\",6,20)"
   ]
  },
  {
   "cell_type": "code",
   "execution_count": 79,
   "id": "6b6ad542",
   "metadata": {},
   "outputs": [
    {
     "data": {
      "text/plain": [
       "'there are many galaxies in universe'"
      ]
     },
     "execution_count": 79,
     "metadata": {},
     "output_type": "execute_result"
    }
   ],
   "source": [
    "string6"
   ]
  },
  {
   "cell_type": "code",
   "execution_count": 80,
   "id": "201a395f",
   "metadata": {},
   "outputs": [
    {
     "data": {
      "text/plain": [
       "15"
      ]
     },
     "execution_count": 80,
     "metadata": {},
     "output_type": "execute_result"
    }
   ],
   "source": [
    "string6.find(\"galaxies\")"
   ]
  },
  {
   "cell_type": "code",
   "execution_count": 81,
   "id": "e233814b",
   "metadata": {},
   "outputs": [
    {
     "data": {
      "text/plain": [
       "10"
      ]
     },
     "execution_count": 81,
     "metadata": {},
     "output_type": "execute_result"
    }
   ],
   "source": [
    "string6.find(\"many\",8,25)"
   ]
  },
  {
   "cell_type": "code",
   "execution_count": 82,
   "id": "12ac1824",
   "metadata": {},
   "outputs": [
    {
     "data": {
      "text/plain": [
       "True"
      ]
     },
     "execution_count": 82,
     "metadata": {},
     "output_type": "execute_result"
    }
   ],
   "source": [
    "f=\"6789\"\n",
    "f.isdigit()"
   ]
  },
  {
   "cell_type": "code",
   "execution_count": 83,
   "id": "d74905f8",
   "metadata": {},
   "outputs": [
    {
     "data": {
      "text/plain": [
       "4"
      ]
     },
     "execution_count": 83,
     "metadata": {},
     "output_type": "execute_result"
    }
   ],
   "source": [
    "string6.count('a')"
   ]
  },
  {
   "cell_type": "code",
   "execution_count": 84,
   "id": "cfc8d3c4",
   "metadata": {},
   "outputs": [
    {
     "data": {
      "text/plain": [
       "6"
      ]
     },
     "execution_count": 84,
     "metadata": {},
     "output_type": "execute_result"
    }
   ],
   "source": [
    "string6.count('e')"
   ]
  },
  {
   "cell_type": "code",
   "execution_count": 85,
   "id": "d09b681a",
   "metadata": {},
   "outputs": [
    {
     "data": {
      "text/plain": [
       "2"
      ]
     },
     "execution_count": 85,
     "metadata": {},
     "output_type": "execute_result"
    }
   ],
   "source": [
    "string6.count('s')"
   ]
  },
  {
   "cell_type": "code",
   "execution_count": 86,
   "id": "0127687c",
   "metadata": {},
   "outputs": [
    {
     "data": {
      "text/plain": [
       "'elon musk is a ceo of tesla'"
      ]
     },
     "execution_count": 86,
     "metadata": {},
     "output_type": "execute_result"
    }
   ],
   "source": [
    "word5"
   ]
  },
  {
   "cell_type": "code",
   "execution_count": 87,
   "id": "94662dd2",
   "metadata": {},
   "outputs": [
    {
     "data": {
      "text/plain": [
       "'elon musk is a ceo of Ford'"
      ]
     },
     "execution_count": 87,
     "metadata": {},
     "output_type": "execute_result"
    }
   ],
   "source": [
    "word5.replace(\"tesla\",\"Ford\")"
   ]
  },
  {
   "cell_type": "code",
   "execution_count": 88,
   "id": "0a3f7cd2",
   "metadata": {},
   "outputs": [
    {
     "data": {
      "text/plain": [
       "'there are many galaxies in universe'"
      ]
     },
     "execution_count": 88,
     "metadata": {},
     "output_type": "execute_result"
    }
   ],
   "source": [
    "string6"
   ]
  },
  {
   "cell_type": "code",
   "execution_count": 89,
   "id": "7a9dc6d9",
   "metadata": {},
   "outputs": [
    {
     "data": {
      "text/plain": [
       "'there are many planets in universe'"
      ]
     },
     "execution_count": 89,
     "metadata": {},
     "output_type": "execute_result"
    }
   ],
   "source": [
    "string6.replace(\"galaxies\",\"planets\")"
   ]
  },
  {
   "cell_type": "code",
   "execution_count": 90,
   "id": "533ccb66",
   "metadata": {},
   "outputs": [
    {
     "data": {
      "text/plain": [
       "35"
      ]
     },
     "execution_count": 90,
     "metadata": {},
     "output_type": "execute_result"
    }
   ],
   "source": [
    "len(string6)"
   ]
  },
  {
   "cell_type": "code",
   "execution_count": 91,
   "id": "7692720a",
   "metadata": {},
   "outputs": [],
   "source": [
    "text=[\"Nasa\",'is','building','hotel','project','in','Mars']"
   ]
  },
  {
   "cell_type": "code",
   "execution_count": 92,
   "id": "a1d7356e",
   "metadata": {},
   "outputs": [
    {
     "data": {
      "text/plain": [
       "['Nasa', 'is', 'building', 'hotel', 'project', 'in', 'Mars']"
      ]
     },
     "execution_count": 92,
     "metadata": {},
     "output_type": "execute_result"
    }
   ],
   "source": [
    "text"
   ]
  },
  {
   "cell_type": "code",
   "execution_count": 95,
   "id": "61418d9b",
   "metadata": {},
   "outputs": [
    {
     "data": {
      "text/plain": [
       "'Nasa is building hotel project in Mars'"
      ]
     },
     "execution_count": 95,
     "metadata": {},
     "output_type": "execute_result"
    }
   ],
   "source": [
    "' '.join(text)"
   ]
  },
  {
   "cell_type": "code",
   "execution_count": 99,
   "id": "20e91b5c",
   "metadata": {},
   "outputs": [
    {
     "ename": "TypeError",
     "evalue": "unsupported operand type(s) for |: 'builtin_function_or_method' and 'tuple'",
     "output_type": "error",
     "traceback": [
      "\u001b[1;31m---------------------------------------------------------------------------\u001b[0m",
      "\u001b[1;31mTypeError\u001b[0m                                 Traceback (most recent call last)",
      "Input \u001b[1;32mIn [99]\u001b[0m, in \u001b[0;36m<cell line: 6>\u001b[1;34m()\u001b[0m\n\u001b[0;32m      3\u001b[0m string1\u001b[38;5;241m=\u001b[39m\u001b[38;5;124m\"\u001b[39m\u001b[38;5;124mTesla\u001b[39m\u001b[38;5;124m\"\u001b[39m\n\u001b[0;32m      4\u001b[0m string2\u001b[38;5;241m=\u001b[39m\u001b[38;5;124m\"\u001b[39m\u001b[38;5;124mtesla\u001b[39m\u001b[38;5;124m\"\u001b[39m\n\u001b[1;32m----> 6\u001b[0m \u001b[38;5;28;01mif\u001b[39;00m \u001b[43mstring1\u001b[49m\u001b[38;5;241;43m.\u001b[39;49m\u001b[43mcasefold\u001b[49m\u001b[38;5;241;43m|\u001b[39;49m\u001b[43m(\u001b[49m\u001b[43m)\u001b[49m\u001b[38;5;241m==\u001b[39mstring2\u001b[38;5;241m.\u001b[39mcasefold():\n\u001b[0;32m      7\u001b[0m     \u001b[38;5;28mprint\u001b[39m(\u001b[38;5;124m\"\u001b[39m\u001b[38;5;124mThe two strings are matching\u001b[39m\u001b[38;5;124m\"\u001b[39m)\n\u001b[0;32m      8\u001b[0m \u001b[38;5;28;01melse\u001b[39;00m:\n",
      "\u001b[1;31mTypeError\u001b[0m: unsupported operand type(s) for |: 'builtin_function_or_method' and 'tuple'"
     ]
    }
   ],
   "source": [
    "# casefold ignores the matching of words by lowercase or uppercase\n",
    "\n",
    "string1=\"Tesla\"\n",
    "string2=\"tesla\"\n",
    "\n",
    "if string1.casefold|()==string2.casefold():\n",
    "    print(\"The two strings are matching\")\n",
    "else:\n",
    "        print(\"The two strings are not matching\")\n",
    "        \n",
    "        "
   ]
  },
  {
   "cell_type": "code",
   "execution_count": null,
   "id": "d0d01f93",
   "metadata": {},
   "outputs": [],
   "source": []
  }
 ],
 "metadata": {
  "kernelspec": {
   "display_name": "Python 3 (ipykernel)",
   "language": "python",
   "name": "python3"
  },
  "language_info": {
   "codemirror_mode": {
    "name": "ipython",
    "version": 3
   },
   "file_extension": ".py",
   "mimetype": "text/x-python",
   "name": "python",
   "nbconvert_exporter": "python",
   "pygments_lexer": "ipython3",
   "version": "3.9.12"
  }
 },
 "nbformat": 4,
 "nbformat_minor": 5
}
