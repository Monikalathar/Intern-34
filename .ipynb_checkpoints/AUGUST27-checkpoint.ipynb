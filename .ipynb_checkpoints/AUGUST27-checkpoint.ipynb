{
 "cells": [
  {
   "cell_type": "code",
   "execution_count": 21,
   "id": "4020442e",
   "metadata": {},
   "outputs": [],
   "source": [
    "import sqlite3"
   ]
  },
  {
   "cell_type": "code",
   "execution_count": 22,
   "id": "186daa88",
   "metadata": {},
   "outputs": [],
   "source": [
    "db=sqlite3.connect('student_detail_database21Aug.db')"
   ]
  },
  {
   "cell_type": "code",
   "execution_count": 23,
   "id": "184a49de",
   "metadata": {},
   "outputs": [],
   "source": [
    "cur=db.cursor()"
   ]
  },
  {
   "cell_type": "code",
   "execution_count": 24,
   "id": "fee28f38",
   "metadata": {},
   "outputs": [
    {
     "name": "stdout",
     "output_type": "stream",
     "text": [
      "(101, 'John', 80)\n",
      "(102, 'Jack', 75)\n",
      "(103, 'Dorsey', 55)\n",
      "(104, 'Marry', 40)\n",
      "(105, 'Elon', 78)\n",
      "(106, 'Richard', 45)\n",
      "(107, 'Branson', 95)\n"
     ]
    }
   ],
   "source": [
    "results=cur.execute(\"Select * from employee\")\n",
    "\n",
    "for i in results:\n",
    "    print(i)"
   ]
  },
  {
   "cell_type": "code",
   "execution_count": 25,
   "id": "94df238b",
   "metadata": {},
   "outputs": [
    {
     "name": "stdout",
     "output_type": "stream",
     "text": [
      "(101,)\n",
      "(102,)\n",
      "(103,)\n",
      "(104,)\n",
      "(105,)\n",
      "(106,)\n",
      "(107,)\n"
     ]
    }
   ],
   "source": [
    "results=cur.execute(\"select id from employee\")\n",
    "\n",
    "for i in results:\n",
    "    print(i)"
   ]
  },
  {
   "cell_type": "code",
   "execution_count": 29,
   "id": "a9c0df20",
   "metadata": {},
   "outputs": [],
   "source": [
    "results=cur.execute(\"Select * from employee where id=101\")"
   ]
  },
  {
   "cell_type": "code",
   "execution_count": 30,
   "id": "febd13ea",
   "metadata": {},
   "outputs": [
    {
     "data": {
      "text/plain": [
       "(101, 'John', 80)"
      ]
     },
     "execution_count": 30,
     "metadata": {},
     "output_type": "execute_result"
    }
   ],
   "source": [
    "results.fetchone()"
   ]
  },
  {
   "cell_type": "code",
   "execution_count": 31,
   "id": "690add20",
   "metadata": {},
   "outputs": [
    {
     "data": {
      "text/plain": [
       "(104, 'Marry', 40)"
      ]
     },
     "execution_count": 31,
     "metadata": {},
     "output_type": "execute_result"
    }
   ],
   "source": [
    "results=cur.execute(\"Select * from employee where id=104\")\n",
    "\n",
    "results.fetchone()"
   ]
  },
  {
   "cell_type": "code",
   "execution_count": 32,
   "id": "115568f9",
   "metadata": {},
   "outputs": [
    {
     "data": {
      "text/plain": [
       "[(102, 'Jack', 75)]"
      ]
     },
     "execution_count": 32,
     "metadata": {},
     "output_type": "execute_result"
    }
   ],
   "source": [
    "results=cur.execute(\"select * from employee where name='Jack'\")\n",
    "\n",
    "results.fetchall()"
   ]
  },
  {
   "cell_type": "code",
   "execution_count": 34,
   "id": "6f2ba20f",
   "metadata": {},
   "outputs": [
    {
     "name": "stdout",
     "output_type": "stream",
     "text": [
      "(107, 'Branson', 95)\n"
     ]
    }
   ],
   "source": [
    "results=cur.execute(\"select * from employee where marks=95\")\n",
    "\n",
    "for i in results:\n",
    "    print(i)"
   ]
  },
  {
   "cell_type": "code",
   "execution_count": null,
   "id": "63ec0986",
   "metadata": {},
   "outputs": [],
   "source": []
  }
 ],
 "metadata": {
  "kernelspec": {
   "display_name": "Python 3 (ipykernel)",
   "language": "python",
   "name": "python3"
  },
  "language_info": {
   "codemirror_mode": {
    "name": "ipython",
    "version": 3
   },
   "file_extension": ".py",
   "mimetype": "text/x-python",
   "name": "python",
   "nbconvert_exporter": "python",
   "pygments_lexer": "ipython3",
   "version": "3.9.12"
  }
 },
 "nbformat": 4,
 "nbformat_minor": 5
}
